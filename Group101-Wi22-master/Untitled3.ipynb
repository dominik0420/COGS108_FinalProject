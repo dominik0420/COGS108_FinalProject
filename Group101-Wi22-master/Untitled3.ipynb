{
 "cells": [
  {
   "cell_type": "code",
   "execution_count": 1,
   "id": "127103ed",
   "metadata": {},
   "outputs": [],
   "source": [
    "%matplotlib inline\n",
    "\n",
    "import numpy as np\n",
    "import pandas as pd\n",
    "import matplotlib.pyplot as plt\n",
    "import math\n",
    "import seaborn as sns\n",
    "sns.set()\n",
    "sns.set_context('talk')\n",
    "\n",
    "import warnings\n",
    "warnings.filterwarnings('ignore')\n",
    "pd.set_option(\"display.max_columns\", 104)\n",
    "import patsy\n",
    "import statsmodels.api as sm\n",
    "import scipy.stats as stats\n",
    "from scipy.stats import ttest_ind, chisquare, normaltest"
   ]
  },
  {
   "cell_type": "code",
   "execution_count": 2,
   "id": "61b9a8ba",
   "metadata": {},
   "outputs": [],
   "source": [
    "eth_df_raw = pd.read_csv('https://raw.githubusercontent.com/alhang/csv-files/master/gemini_ETHUSD_day.csv', skiprows=1)\n",
    "btc_df_raw = pd.read_csv('https://raw.githubusercontent.com/alhang/csv-files/master/gemini_BTCUSD_day.csv', skiprows=1)\n",
    "covid_df_raw = pd.read_csv('https://raw.githubusercontent.com/nytimes/covid-19-data/master/us.csv')\n",
    "nasdaq_df_raw = pd.read_csv('https://raw.githubusercontent.com/alhang/csv-files/master/NASDAQ_Historical.csv')"
   ]
  },
  {
   "cell_type": "code",
   "execution_count": 3,
   "id": "9ef86f03",
   "metadata": {
    "scrolled": true
   },
   "outputs": [
    {
     "data": {
      "text/html": [
       "<div>\n",
       "<style scoped>\n",
       "    .dataframe tbody tr th:only-of-type {\n",
       "        vertical-align: middle;\n",
       "    }\n",
       "\n",
       "    .dataframe tbody tr th {\n",
       "        vertical-align: top;\n",
       "    }\n",
       "\n",
       "    .dataframe thead th {\n",
       "        text-align: right;\n",
       "    }\n",
       "</style>\n",
       "<table border=\"1\" class=\"dataframe\">\n",
       "  <thead>\n",
       "    <tr style=\"text-align: right;\">\n",
       "      <th></th>\n",
       "      <th>Date</th>\n",
       "      <th>Close</th>\n",
       "    </tr>\n",
       "  </thead>\n",
       "  <tbody>\n",
       "    <tr>\n",
       "      <th>0</th>\n",
       "      <td>2020-01-21 04:00:00</td>\n",
       "      <td>168.40</td>\n",
       "    </tr>\n",
       "    <tr>\n",
       "      <th>1</th>\n",
       "      <td>2020-01-22 04:00:00</td>\n",
       "      <td>164.86</td>\n",
       "    </tr>\n",
       "    <tr>\n",
       "      <th>2</th>\n",
       "      <td>2020-01-23 04:00:00</td>\n",
       "      <td>159.13</td>\n",
       "    </tr>\n",
       "    <tr>\n",
       "      <th>3</th>\n",
       "      <td>2020-01-24 04:00:00</td>\n",
       "      <td>158.89</td>\n",
       "    </tr>\n",
       "    <tr>\n",
       "      <th>4</th>\n",
       "      <td>2020-01-25 04:00:00</td>\n",
       "      <td>161.18</td>\n",
       "    </tr>\n",
       "    <tr>\n",
       "      <th>...</th>\n",
       "      <td>...</td>\n",
       "      <td>...</td>\n",
       "    </tr>\n",
       "    <tr>\n",
       "      <th>744</th>\n",
       "      <td>2022-02-03 04:00:00</td>\n",
       "      <td>2685.66</td>\n",
       "    </tr>\n",
       "    <tr>\n",
       "      <th>745</th>\n",
       "      <td>2022-02-04 04:00:00</td>\n",
       "      <td>3000.46</td>\n",
       "    </tr>\n",
       "    <tr>\n",
       "      <th>746</th>\n",
       "      <td>2022-02-05 04:00:00</td>\n",
       "      <td>3011.36</td>\n",
       "    </tr>\n",
       "    <tr>\n",
       "      <th>747</th>\n",
       "      <td>2022-02-06 04:00:00</td>\n",
       "      <td>3072.90</td>\n",
       "    </tr>\n",
       "    <tr>\n",
       "      <th>748</th>\n",
       "      <td>2022-02-07 04:00:00</td>\n",
       "      <td>3134.06</td>\n",
       "    </tr>\n",
       "  </tbody>\n",
       "</table>\n",
       "<p>749 rows × 2 columns</p>\n",
       "</div>"
      ],
      "text/plain": [
       "                    Date    Close\n",
       "0    2020-01-21 04:00:00   168.40\n",
       "1    2020-01-22 04:00:00   164.86\n",
       "2    2020-01-23 04:00:00   159.13\n",
       "3    2020-01-24 04:00:00   158.89\n",
       "4    2020-01-25 04:00:00   161.18\n",
       "..                   ...      ...\n",
       "744  2022-02-03 04:00:00  2685.66\n",
       "745  2022-02-04 04:00:00  3000.46\n",
       "746  2022-02-05 04:00:00  3011.36\n",
       "747  2022-02-06 04:00:00  3072.90\n",
       "748  2022-02-07 04:00:00  3134.06\n",
       "\n",
       "[749 rows x 2 columns]"
      ]
     },
     "execution_count": 3,
     "metadata": {},
     "output_type": "execute_result"
    }
   ],
   "source": [
    "eth_df = eth_df_raw.iloc[:749]\n",
    "eth_df = eth_df.sort_values(by=['Date'], ascending=True)\n",
    "eth_df = eth_df.reset_index()\n",
    "eth_df = eth_df.drop(columns=['Unix Timestamp','Symbol','Open','High','Low','Volume','index'])\n",
    "eth_df"
   ]
  },
  {
   "cell_type": "code",
   "execution_count": 4,
   "id": "1504382b",
   "metadata": {
    "scrolled": true
   },
   "outputs": [
    {
     "data": {
      "text/html": [
       "<div>\n",
       "<style scoped>\n",
       "    .dataframe tbody tr th:only-of-type {\n",
       "        vertical-align: middle;\n",
       "    }\n",
       "\n",
       "    .dataframe tbody tr th {\n",
       "        vertical-align: top;\n",
       "    }\n",
       "\n",
       "    .dataframe thead th {\n",
       "        text-align: right;\n",
       "    }\n",
       "</style>\n",
       "<table border=\"1\" class=\"dataframe\">\n",
       "  <thead>\n",
       "    <tr style=\"text-align: right;\">\n",
       "      <th></th>\n",
       "      <th>Date</th>\n",
       "      <th>Close</th>\n",
       "    </tr>\n",
       "  </thead>\n",
       "  <tbody>\n",
       "    <tr>\n",
       "      <th>0</th>\n",
       "      <td>2020-01-21 04:00:00</td>\n",
       "      <td>8697.93</td>\n",
       "    </tr>\n",
       "    <tr>\n",
       "      <th>1</th>\n",
       "      <td>2020-01-22 04:00:00</td>\n",
       "      <td>8559.71</td>\n",
       "    </tr>\n",
       "    <tr>\n",
       "      <th>2</th>\n",
       "      <td>2020-01-23 04:00:00</td>\n",
       "      <td>8310.20</td>\n",
       "    </tr>\n",
       "    <tr>\n",
       "      <th>3</th>\n",
       "      <td>2020-01-24 04:00:00</td>\n",
       "      <td>8286.66</td>\n",
       "    </tr>\n",
       "    <tr>\n",
       "      <th>4</th>\n",
       "      <td>2020-01-25 04:00:00</td>\n",
       "      <td>8346.01</td>\n",
       "    </tr>\n",
       "    <tr>\n",
       "      <th>...</th>\n",
       "      <td>...</td>\n",
       "      <td>...</td>\n",
       "    </tr>\n",
       "    <tr>\n",
       "      <th>744</th>\n",
       "      <td>2022-02-03 04:00:00</td>\n",
       "      <td>37330.90</td>\n",
       "    </tr>\n",
       "    <tr>\n",
       "      <th>745</th>\n",
       "      <td>2022-02-04 04:00:00</td>\n",
       "      <td>41487.51</td>\n",
       "    </tr>\n",
       "    <tr>\n",
       "      <th>746</th>\n",
       "      <td>2022-02-05 04:00:00</td>\n",
       "      <td>41485.00</td>\n",
       "    </tr>\n",
       "    <tr>\n",
       "      <th>747</th>\n",
       "      <td>2022-02-06 04:00:00</td>\n",
       "      <td>42863.79</td>\n",
       "    </tr>\n",
       "    <tr>\n",
       "      <th>748</th>\n",
       "      <td>2022-02-07 04:00:00</td>\n",
       "      <td>43857.45</td>\n",
       "    </tr>\n",
       "  </tbody>\n",
       "</table>\n",
       "<p>749 rows × 2 columns</p>\n",
       "</div>"
      ],
      "text/plain": [
       "                    Date     Close\n",
       "0    2020-01-21 04:00:00   8697.93\n",
       "1    2020-01-22 04:00:00   8559.71\n",
       "2    2020-01-23 04:00:00   8310.20\n",
       "3    2020-01-24 04:00:00   8286.66\n",
       "4    2020-01-25 04:00:00   8346.01\n",
       "..                   ...       ...\n",
       "744  2022-02-03 04:00:00  37330.90\n",
       "745  2022-02-04 04:00:00  41487.51\n",
       "746  2022-02-05 04:00:00  41485.00\n",
       "747  2022-02-06 04:00:00  42863.79\n",
       "748  2022-02-07 04:00:00  43857.45\n",
       "\n",
       "[749 rows x 2 columns]"
      ]
     },
     "execution_count": 4,
     "metadata": {},
     "output_type": "execute_result"
    }
   ],
   "source": [
    "btc_df = btc_df_raw.iloc[:749]\n",
    "btc_df = btc_df.sort_values(by=['Date'], ascending=True)\n",
    "btc_df = btc_df.reset_index()\n",
    "btc_df = btc_df.drop(columns=['Unix Timestamp','Symbol','Open','High','Low','Volume','index'])\n",
    "btc_df"
   ]
  },
  {
   "cell_type": "code",
   "execution_count": 5,
   "id": "12f94a5a",
   "metadata": {
    "scrolled": false
   },
   "outputs": [
    {
     "data": {
      "text/html": [
       "<div>\n",
       "<style scoped>\n",
       "    .dataframe tbody tr th:only-of-type {\n",
       "        vertical-align: middle;\n",
       "    }\n",
       "\n",
       "    .dataframe tbody tr th {\n",
       "        vertical-align: top;\n",
       "    }\n",
       "\n",
       "    .dataframe thead th {\n",
       "        text-align: right;\n",
       "    }\n",
       "</style>\n",
       "<table border=\"1\" class=\"dataframe\">\n",
       "  <thead>\n",
       "    <tr style=\"text-align: right;\">\n",
       "      <th></th>\n",
       "      <th>date</th>\n",
       "      <th>cases</th>\n",
       "    </tr>\n",
       "  </thead>\n",
       "  <tbody>\n",
       "    <tr>\n",
       "      <th>0</th>\n",
       "      <td>2020-01-21</td>\n",
       "      <td>1</td>\n",
       "    </tr>\n",
       "    <tr>\n",
       "      <th>1</th>\n",
       "      <td>2020-01-22</td>\n",
       "      <td>1</td>\n",
       "    </tr>\n",
       "    <tr>\n",
       "      <th>2</th>\n",
       "      <td>2020-01-23</td>\n",
       "      <td>1</td>\n",
       "    </tr>\n",
       "    <tr>\n",
       "      <th>3</th>\n",
       "      <td>2020-01-24</td>\n",
       "      <td>2</td>\n",
       "    </tr>\n",
       "    <tr>\n",
       "      <th>4</th>\n",
       "      <td>2020-01-25</td>\n",
       "      <td>3</td>\n",
       "    </tr>\n",
       "    <tr>\n",
       "      <th>...</th>\n",
       "      <td>...</td>\n",
       "      <td>...</td>\n",
       "    </tr>\n",
       "    <tr>\n",
       "      <th>761</th>\n",
       "      <td>2022-02-20</td>\n",
       "      <td>78377937</td>\n",
       "    </tr>\n",
       "    <tr>\n",
       "      <th>762</th>\n",
       "      <td>2022-02-21</td>\n",
       "      <td>78433596</td>\n",
       "    </tr>\n",
       "    <tr>\n",
       "      <th>763</th>\n",
       "      <td>2022-02-22</td>\n",
       "      <td>78556778</td>\n",
       "    </tr>\n",
       "    <tr>\n",
       "      <th>764</th>\n",
       "      <td>2022-02-23</td>\n",
       "      <td>78641256</td>\n",
       "    </tr>\n",
       "    <tr>\n",
       "      <th>765</th>\n",
       "      <td>2022-02-24</td>\n",
       "      <td>78714648</td>\n",
       "    </tr>\n",
       "  </tbody>\n",
       "</table>\n",
       "<p>766 rows × 2 columns</p>\n",
       "</div>"
      ],
      "text/plain": [
       "           date     cases\n",
       "0    2020-01-21         1\n",
       "1    2020-01-22         1\n",
       "2    2020-01-23         1\n",
       "3    2020-01-24         2\n",
       "4    2020-01-25         3\n",
       "..          ...       ...\n",
       "761  2022-02-20  78377937\n",
       "762  2022-02-21  78433596\n",
       "763  2022-02-22  78556778\n",
       "764  2022-02-23  78641256\n",
       "765  2022-02-24  78714648\n",
       "\n",
       "[766 rows x 2 columns]"
      ]
     },
     "execution_count": 5,
     "metadata": {},
     "output_type": "execute_result"
    }
   ],
   "source": [
    "covid_df = covid_df_raw.drop(columns=['deaths'])\n",
    "covid_df"
   ]
  },
  {
   "cell_type": "code",
   "execution_count": 6,
   "id": "3af64eec",
   "metadata": {},
   "outputs": [
    {
     "data": {
      "text/html": [
       "<div>\n",
       "<style scoped>\n",
       "    .dataframe tbody tr th:only-of-type {\n",
       "        vertical-align: middle;\n",
       "    }\n",
       "\n",
       "    .dataframe tbody tr th {\n",
       "        vertical-align: top;\n",
       "    }\n",
       "\n",
       "    .dataframe thead th {\n",
       "        text-align: right;\n",
       "    }\n",
       "</style>\n",
       "<table border=\"1\" class=\"dataframe\">\n",
       "  <thead>\n",
       "    <tr style=\"text-align: right;\">\n",
       "      <th></th>\n",
       "      <th>Date</th>\n",
       "      <th>Close/Last</th>\n",
       "    </tr>\n",
       "  </thead>\n",
       "  <tbody>\n",
       "    <tr>\n",
       "      <th>0</th>\n",
       "      <td>2020-01-21</td>\n",
       "      <td>9370.81</td>\n",
       "    </tr>\n",
       "    <tr>\n",
       "      <th>1</th>\n",
       "      <td>2020-01-22</td>\n",
       "      <td>9383.77</td>\n",
       "    </tr>\n",
       "    <tr>\n",
       "      <th>2</th>\n",
       "      <td>2020-01-23</td>\n",
       "      <td>9402.48</td>\n",
       "    </tr>\n",
       "    <tr>\n",
       "      <th>3</th>\n",
       "      <td>2020-01-24</td>\n",
       "      <td>9314.91</td>\n",
       "    </tr>\n",
       "    <tr>\n",
       "      <th>4</th>\n",
       "      <td>2020-01-27</td>\n",
       "      <td>9139.31</td>\n",
       "    </tr>\n",
       "    <tr>\n",
       "      <th>...</th>\n",
       "      <td>...</td>\n",
       "      <td>...</td>\n",
       "    </tr>\n",
       "    <tr>\n",
       "      <th>516</th>\n",
       "      <td>2022-02-04</td>\n",
       "      <td>14098.01</td>\n",
       "    </tr>\n",
       "    <tr>\n",
       "      <th>517</th>\n",
       "      <td>2022-02-07</td>\n",
       "      <td>14015.67</td>\n",
       "    </tr>\n",
       "    <tr>\n",
       "      <th>518</th>\n",
       "      <td>2022-02-08</td>\n",
       "      <td>14194.45</td>\n",
       "    </tr>\n",
       "    <tr>\n",
       "      <th>519</th>\n",
       "      <td>2022-02-09</td>\n",
       "      <td>14490.37</td>\n",
       "    </tr>\n",
       "    <tr>\n",
       "      <th>520</th>\n",
       "      <td>2022-02-10</td>\n",
       "      <td>14185.64</td>\n",
       "    </tr>\n",
       "  </tbody>\n",
       "</table>\n",
       "<p>521 rows × 2 columns</p>\n",
       "</div>"
      ],
      "text/plain": [
       "          Date  Close/Last\n",
       "0   2020-01-21     9370.81\n",
       "1   2020-01-22     9383.77\n",
       "2   2020-01-23     9402.48\n",
       "3   2020-01-24     9314.91\n",
       "4   2020-01-27     9139.31\n",
       "..         ...         ...\n",
       "516 2022-02-04    14098.01\n",
       "517 2022-02-07    14015.67\n",
       "518 2022-02-08    14194.45\n",
       "519 2022-02-09    14490.37\n",
       "520 2022-02-10    14185.64\n",
       "\n",
       "[521 rows x 2 columns]"
      ]
     },
     "execution_count": 6,
     "metadata": {},
     "output_type": "execute_result"
    }
   ],
   "source": [
    "nasdaq_df_raw['Date'] = pd.to_datetime(nasdaq_df_raw.Date)\n",
    "nasdaq_df = nasdaq_df_raw.iloc[:521]\n",
    "nasdaq_df = nasdaq_df.sort_values(by=['Date'], ascending=True)\n",
    "nasdaq_df = nasdaq_df.reset_index()\n",
    "nasdaq_df = nasdaq_df.drop(columns=['Volume','Open','High','Low','index'])\n",
    "nasdaq_df"
   ]
  },
  {
   "cell_type": "code",
   "execution_count": 7,
   "id": "e63eb0f7",
   "metadata": {},
   "outputs": [],
   "source": [
    "##F1: US COVID CASES CORRELATION WITH STOCK PRICES"
   ]
  },
  {
   "cell_type": "code",
   "execution_count": 8,
   "id": "09054267",
   "metadata": {},
   "outputs": [],
   "source": [
    "a = nasdaq_df['Close/Last']\n",
    "b = covid_df['cases']"
   ]
  },
  {
   "cell_type": "code",
   "execution_count": 9,
   "id": "a5a86af9",
   "metadata": {},
   "outputs": [
    {
     "data": {
      "text/plain": [
       "0.8771890388799622"
      ]
     },
     "execution_count": 9,
     "metadata": {},
     "output_type": "execute_result"
    }
   ],
   "source": [
    "cor = nasdaq_df['Close/Last'].corr(covid_df['cases'])\n",
    "cor"
   ]
  },
  {
   "cell_type": "code",
   "execution_count": 10,
   "id": "b4175157",
   "metadata": {},
   "outputs": [],
   "source": [
    "covid_df = covid_df.drop(covid_df.index[521:])"
   ]
  },
  {
   "cell_type": "code",
   "execution_count": 11,
   "id": "510895e3",
   "metadata": {},
   "outputs": [
    {
     "data": {
      "image/png": "[encoded data removed]",
      "text/plain": [
       "<Figure size 432x288 with 1 Axes>"
      ]
     },
     "metadata": {},
     "output_type": "display_data"
    }
   ],
   "source": [
    "fig, ax = plt.subplots()\n",
    "sns.regplot(x = covid_df['cases'], y = nasdaq_df['Close/Last'], ax = ax)\n",
    "ax.set_xlim(0, 521)\n",
    "ax.set_xticks(range(0, 521))\n",
    "plt.savefig('COVID_Cases_With_Stock_Prices')"
   ]
  },
  {
   "cell_type": "code",
   "execution_count": 12,
   "id": "6ad2edfa",
   "metadata": {},
   "outputs": [],
   "source": [
    "##F2: US COVID CASES CORRELATION WITH STOCK PRICES"
   ]
  },
  {
   "cell_type": "code",
   "execution_count": 13,
   "id": "b6b885b1",
   "metadata": {},
   "outputs": [],
   "source": [
    "#c = btc_df['Close']"
   ]
  },
  {
   "cell_type": "code",
   "execution_count": 14,
   "id": "7431b303",
   "metadata": {},
   "outputs": [
    {
     "data": {
      "text/plain": [
       "0.7919355859958763"
      ]
     },
     "execution_count": 14,
     "metadata": {},
     "output_type": "execute_result"
    }
   ],
   "source": [
    "cor_2= nasdaq_df['Close/Last'].corr(btc_df['Close'])\n",
    "cor_2"
   ]
  },
  {
   "cell_type": "code",
   "execution_count": 15,
   "id": "8b5c2573",
   "metadata": {},
   "outputs": [],
   "source": [
    "btc_df = btc_df.drop(btc_df.index[521:])"
   ]
  },
  {
   "cell_type": "code",
   "execution_count": 17,
   "id": "670b8df9",
   "metadata": {},
   "outputs": [
    {
     "data": {
      "image/png": "[encoded data removed]",
      "text/plain": [
       "<Figure size 432x288 with 1 Axes>"
      ]
     },
     "metadata": {},
     "output_type": "display_data"
    }
   ],
   "source": [
    "fig, ax = plt.subplots()\n",
    "sns.regplot(x = covid_df['cases'], y = btc_df['Close'], ax = ax)\n",
    "ax.set_xlim(0, 521)\n",
    "ax.set_xticks(range(0, 521))\n",
    "plt.savefig('Bitcoin_Prices_with_Stock_Prices')"
   ]
  },
  {
   "cell_type": "code",
   "execution_count": null,
   "id": "aad3c1cc",
   "metadata": {},
   "outputs": [],
   "source": []
  }
 ],
 "metadata": {
  "kernelspec": {
   "display_name": "Python 3 (ipykernel)",
   "language": "python",
   "name": "python3"
  },
  "language_info": {
   "codemirror_mode": {
    "name": "ipython",
    "version": 3
   },
   "file_extension": ".py",
   "mimetype": "text/x-python",
   "name": "python",
   "nbconvert_exporter": "python",
   "pygments_lexer": "ipython3",
   "version": "3.9.7"
  }
 },
 "nbformat": 4,
 "nbformat_minor": 5
}
