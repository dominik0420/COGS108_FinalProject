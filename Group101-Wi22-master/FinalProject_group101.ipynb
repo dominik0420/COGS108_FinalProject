{
 "cells": [
  {
   "cell_type": "markdown",
   "metadata": {},
   "source": [
    "# COGS 108 - Final Project: Cryptocurrency and Covid-19"
   ]
  },
  {
   "cell_type": "markdown",
   "metadata": {},
   "source": [
    "### Video: https://youtu.be/brnZQTwDWcY"
   ]
  },
  {
   "cell_type": "markdown",
   "metadata": {},
   "source": [
    "## Permissions\n",
    "\n",
    "Place an `X` in the appropriate bracket below to specify if you would like your group's project to be made available to the public. (Note that student names will be included (but PIDs will be scraped from any groups who include their PIDs).\n",
    "\n",
    "* [  ] YES - make available\n",
    "* [X] NO - keep private"
   ]
  },
  {
   "cell_type": "markdown",
   "metadata": {},
   "source": [
    "# Overview"
   ]
  },
  {
   "cell_type": "markdown",
   "metadata": {},
   "source": [
    "We wanted to find a correlation between the recorded rise in Covid-19 cases in the US with the unprecedented rise in cryptocurrencies prices. Our group used data that included the number of Covid-19 cases, the closing price of Ethereum, the closing price of Bitcoi and the closing price of the Nasdaq to serve as an indicator of the US economy, all of which were inumerated from January 21, 2020 to Feburary 7, 2022. Since our data is a time series, we used the appropriate data analysis techniques of finding the pairwise correlations. However, contrary to our hypothesis, no significant correlation was found between Covid-19 cases and cryptocurrency."
   ]
  },
  {
   "cell_type": "markdown",
   "metadata": {},
   "source": [
    "# Names\n",
    "\n",
    "- Marco Paredes (A15951023)\n",
    "- Alan Hang (A16409702)\n",
    "- Zehong Li (A15852954)\n",
    "- Danyal Iqbal (A16687740)"
   ]
  },
  {
   "cell_type": "markdown",
   "metadata": {},
   "source": [
    "<a id='research_question'></a>\n",
    "# Research Question"
   ]
  },
  {
   "cell_type": "markdown",
   "metadata": {},
   "source": [
    "*Are covid cases a good predictor of the price of cryptocurrency?*"
   ]
  },
  {
   "cell_type": "markdown",
   "metadata": {},
   "source": [
    "<a id='background'></a>\n",
    "\n",
    "# Background & Prior Work"
   ]
  },
  {
   "cell_type": "markdown",
   "metadata": {},
   "source": [
    "## Introduction\n",
    "\n",
    "The COVID-19 pandemic had a drastic impact on the global economy as the markets around the world dropped immensely. On February 3rd, 2020, the U.S. government finally declared COVID-19 to be a Public Health Emergency. It is around this date that we saw the S&P 500 (consisting of the 500 leading U.S. publicly traded companies) drop by 32% [1]. Similarly, the price of BTC dropped around 30% around the same date [2]. The pandemic left a lasting scar on investor and consumer confidence as well as global value chain systems [3]. Although the COVID-19 outbreak created a scare in the global economy, many still saw it as an opportunity and sought out to buy more shares and cryptocurrency.\n",
    "\n",
    "From 2020 to 2022, the global economy slowly recovered as governments passed relief packages and businesses changed their business models. The government around this time also introduced a lot of constraints in trading stocks in the hopes to help the market rise. Whether it had an impact or not, many software companies benefited from the rising dependence of technology and had increasing profit margins [4]. Similarly, cryptocurrencies such as Bitcoin and Ethereum had immense popularity, the price of bitcoin had a staggering 640% increase. It can be seen that there was a huge switch of interest from the stock market to cryptocurrency, and as a result its price surged. One of the reasons for the higher demand is the fact that investors realized that crypto trading could not be restricted by the government due to the fact that it can be traded from anywhere. Therefore, many investors preferred to switch their investments to the decentralized cryptomarket [5]. Many are confused, however, as some researchers believe that could not have been a strong enough reason for the rise of crypto. Cryptocurrencies have had a strong relationship with online criminal activity, and many people feared that using crypto would expose them to criminal charges [5]. Even so, there is no denying that there was huge rise in cryptocurrency prices during the pandemic, and many researchers are still confused why.\n",
    "\n",
    "What is very interesting is that if the data during the pandemic where to be observed, as COVID cases rose by the millions, the price of bitcoin (and other cryptocurrencies) skyrocketed. In this research paper, we will explore if there is a relationship between cases and crypto prices and find a correlation. Additionally, we will also explore stock market data using NASDAQ databases and see if there was any correlation between COVID-19 cases and stock market prices."
   ]
  },
  {
   "cell_type": "markdown",
   "metadata": {},
   "source": [
    "## Prior Work\n",
    "Unfortunately there are very few published research studies that speak on the relationship between COVID cases and crypto prices because the pandemic is still very recent. There is one study, however, that explores the trend between confirmed cases and Bitcoin, Bitcoin Cash, Ethereum prices. The study was conducted by Samuel Asumadu Sarkodie, Maruf YakubuAhmed, and Phebe Asantewaa Owusu. They observed a mean daily increase in market price of \"Ethereum, Bitcoin, Litecoin, and Bitcoin Cash by 0.58%, 0.44%, 0.36%, and 0.15%––when COVID-19 confirmed cases and deaths increase by 3.77%, and 3.65% daily.\" They found an n-shaped relationship between the cases and each of the crypto prices. Finally, using Instrumental Variables regression and Resampled and Romano-Wolf adjusted p-values (to validate the the regression model) they found p-values < 0.01 for each variable at 95% Confidence Interval. In summary, with 95% confidence, the group concluded that their estimates rejected the null hypotheses, which is that \"COVID-19 confirmed cases has no effect on Bitcoin, Litecoin, Ethereum, and Bitcoin cash and COVID-19 deaths have no effect on Bitcoin, Litecoin, Ethereum, and Bitcoin cash\"[5]. In other words, COVID-19 cases and deaths did have an impact on the prices of large, well-known cryptocurrencies. In our own research, we will be exploring this more."
   ]
  },
  {
   "cell_type": "markdown",
   "metadata": {},
   "source": [
    "### References:\n",
    "1. https://finance.yahoo.com/quote/%5EGSPC?p=%5EGSPC\n",
    "2. https://www.coindesk.com/price/bitcoin/\n",
    "3. https://www.sciencedirect.com/science/article/pii/S1544612321001306#bib0004\n",
    "4. https://www.statista.com/statistics/1136209/five-year-revenue-growth-profit-margin-software-companies/\n",
    "5. https://www.sciencedirect.com/science/article/pii/S1544612321001306"
   ]
  },
  {
   "cell_type": "markdown",
   "metadata": {},
   "source": [
    "# Hypothesis\n"
   ]
  },
  {
   "cell_type": "markdown",
   "metadata": {},
   "source": [
    "*We hypothesize that there is a positive correlation between covid cases and the price of cryptocurrencies. The reason for this being that there has been historical evidence of a continual rise of Bitcoin and Etheruem prices since the start of covid in the US. Investors may have found the decentralized nature of cryptocurrency more attractive when the economy of coutnries worldwide became shaky during the global pandemic.*"
   ]
  },
  {
   "cell_type": "markdown",
   "metadata": {},
   "source": [
    "# Dataset(s)"
   ]
  },
  {
   "cell_type": "markdown",
   "metadata": {},
   "source": [
    "- Dataset Name: Daily Ethereum(ETH) data\n",
    "- Link to the dataset: https://raw.githubusercontent.com/alhang/csv-files/master/gemini_ETHUSD_day.csv\n",
    "- Number of observations: 2101\n",
    "- Description: Daily Ethereum(ETH) data will be used to see daily Bitcoin trends between 2020-2022. The data will indicate changes of the respective stock prices through the year\n",
    "\n",
    "\n",
    "- Dataset Name: Daily Bitcoin(BTC) data\n",
    "- Link to the dataset: https://raw.githubusercontent.com/alhang/csv-files/master/gemini_BTCUSD_day.csv\n",
    "- Number of observations: 2315\n",
    "- Description: Daily Bitcoin data will be used to see crypto trends between 2020-2022. The data will indicate changes of the respective stock prices through the year\n",
    "\n",
    "\n",
    "- Dataset Name: Covid data\n",
    "- Link to the dataset:https://raw.githubusercontent.com/nytimes/covid-19-data/master/us.csv\n",
    "- Number of observations: 782\n",
    "- Description: The Covid data will provide data about covid cases in the US between January 2020 until Feburary 2022.\n",
    "\n",
    "\n",
    "- Dataset Name: NASDAQ Historical data\n",
    "- Link to the dataset: https://raw.githubusercontent.com/alhang/csv-files/master/NASDAQ_Historical.csv\n",
    "- Number of observations: 1259\n",
    "- Description: Stock market data from Janurary 2020 to Feburary 2022 will indicate stock prices through the year and their major changes. This dataset will be used to compare with the cryptocurrency prices, as stock prices are a good indicator of the economy and how it is affected during covid. \n",
    "\n"
   ]
  },
  {
   "cell_type": "markdown",
   "metadata": {},
   "source": [
    "# Setup"
   ]
  },
  {
   "cell_type": "code",
   "execution_count": 1,
   "metadata": {},
   "outputs": [],
   "source": [
    "%matplotlib inline\n",
    "\n",
    "import numpy as np\n",
    "import pandas as pd\n",
    "import matplotlib.pyplot as plt\n",
    "import math\n",
    "import seaborn as sns\n",
    "\n",
    "import warnings\n",
    "warnings.filterwarnings('ignore')\n",
    "import patsy\n",
    "import statsmodels.api as sm\n",
    "import scipy.stats as stats\n",
    "from scipy.stats import ttest_ind, chisquare, normaltest, t"
   ]
  },
  {
   "cell_type": "code",
   "execution_count": 2,
   "metadata": {},
   "outputs": [],
   "source": [
    "eth_df_raw = pd.read_csv('https://raw.githubusercontent.com/alhang/csv-files/master/gemini_ETHUSD_day.csv', skiprows=1)\n",
    "btc_df_raw = pd.read_csv('https://raw.githubusercontent.com/alhang/csv-files/master/gemini_BTCUSD_day.csv', skiprows=1)\n",
    "covid_df_raw = pd.read_csv('https://raw.githubusercontent.com/nytimes/covid-19-data/master/us.csv')\n",
    "nasdaq_df_raw = pd.read_csv('https://raw.githubusercontent.com/alhang/csv-files/master/NASDAQ_Historical.csv')"
   ]
  },
  {
   "cell_type": "markdown",
   "metadata": {},
   "source": [
    "# Data Cleaning"
   ]
  },
  {
   "cell_type": "markdown",
   "metadata": {},
   "source": [
    "### Ethereum Dataframe"
   ]
  },
  {
   "cell_type": "markdown",
   "metadata": {},
   "source": [
    "Let's take a look at the raw Etheruem dataframe and see what needs cleaning."
   ]
  },
  {
   "cell_type": "code",
   "execution_count": 3,
   "metadata": {},
   "outputs": [
    {
     "data": {
      "text/html": [
       "<div>\n",
       "<style scoped>\n",
       "    .dataframe tbody tr th:only-of-type {\n",
       "        vertical-align: middle;\n",
       "    }\n",
       "\n",
       "    .dataframe tbody tr th {\n",
       "        vertical-align: top;\n",
       "    }\n",
       "\n",
       "    .dataframe thead th {\n",
       "        text-align: right;\n",
       "    }\n",
       "</style>\n",
       "<table border=\"1\" class=\"dataframe\">\n",
       "  <thead>\n",
       "    <tr style=\"text-align: right;\">\n",
       "      <th></th>\n",
       "      <th>Unix Timestamp</th>\n",
       "      <th>Date</th>\n",
       "      <th>Symbol</th>\n",
       "      <th>Open</th>\n",
       "      <th>High</th>\n",
       "      <th>Low</th>\n",
       "      <th>Close</th>\n",
       "      <th>Volume</th>\n",
       "    </tr>\n",
       "  </thead>\n",
       "  <tbody>\n",
       "    <tr>\n",
       "      <th>0</th>\n",
       "      <td>1644206400000</td>\n",
       "      <td>2022-02-07 04:00:00</td>\n",
       "      <td>ETHUSD</td>\n",
       "      <td>3072.90</td>\n",
       "      <td>3195.00</td>\n",
       "      <td>3052.59</td>\n",
       "      <td>3134.06</td>\n",
       "      <td>11611.670047</td>\n",
       "    </tr>\n",
       "    <tr>\n",
       "      <th>1</th>\n",
       "      <td>1644120000000</td>\n",
       "      <td>2022-02-06 04:00:00</td>\n",
       "      <td>ETHUSD</td>\n",
       "      <td>3011.36</td>\n",
       "      <td>3077.03</td>\n",
       "      <td>2947.69</td>\n",
       "      <td>3072.90</td>\n",
       "      <td>9226.545834</td>\n",
       "    </tr>\n",
       "    <tr>\n",
       "      <th>2</th>\n",
       "      <td>1644033600000</td>\n",
       "      <td>2022-02-05 04:00:00</td>\n",
       "      <td>ETHUSD</td>\n",
       "      <td>3000.46</td>\n",
       "      <td>3062.85</td>\n",
       "      <td>2964.23</td>\n",
       "      <td>3011.36</td>\n",
       "      <td>7247.098604</td>\n",
       "    </tr>\n",
       "    <tr>\n",
       "      <th>3</th>\n",
       "      <td>1643947200000</td>\n",
       "      <td>2022-02-04 04:00:00</td>\n",
       "      <td>ETHUSD</td>\n",
       "      <td>2685.66</td>\n",
       "      <td>3018.68</td>\n",
       "      <td>2678.05</td>\n",
       "      <td>3000.46</td>\n",
       "      <td>30992.365110</td>\n",
       "    </tr>\n",
       "    <tr>\n",
       "      <th>4</th>\n",
       "      <td>1643860800000</td>\n",
       "      <td>2022-02-03 04:00:00</td>\n",
       "      <td>ETHUSD</td>\n",
       "      <td>2659.30</td>\n",
       "      <td>2700.00</td>\n",
       "      <td>2576.87</td>\n",
       "      <td>2685.66</td>\n",
       "      <td>11232.318486</td>\n",
       "    </tr>\n",
       "    <tr>\n",
       "      <th>...</th>\n",
       "      <td>...</td>\n",
       "      <td>...</td>\n",
       "      <td>...</td>\n",
       "      <td>...</td>\n",
       "      <td>...</td>\n",
       "      <td>...</td>\n",
       "      <td>...</td>\n",
       "      <td>...</td>\n",
       "    </tr>\n",
       "    <tr>\n",
       "      <th>2096</th>\n",
       "      <td>1463112000</td>\n",
       "      <td>2016-05-13 04:00:00</td>\n",
       "      <td>ETHUSD</td>\n",
       "      <td>10.40</td>\n",
       "      <td>11.59</td>\n",
       "      <td>10.20</td>\n",
       "      <td>10.50</td>\n",
       "      <td>1788.043079</td>\n",
       "    </tr>\n",
       "    <tr>\n",
       "      <th>2097</th>\n",
       "      <td>1463025600</td>\n",
       "      <td>2016-05-12 04:00:00</td>\n",
       "      <td>ETHUSD</td>\n",
       "      <td>10.45</td>\n",
       "      <td>12.00</td>\n",
       "      <td>9.92</td>\n",
       "      <td>10.40</td>\n",
       "      <td>2061.012106</td>\n",
       "    </tr>\n",
       "    <tr>\n",
       "      <th>2098</th>\n",
       "      <td>1462939200</td>\n",
       "      <td>2016-05-11 04:00:00</td>\n",
       "      <td>ETHUSD</td>\n",
       "      <td>9.74</td>\n",
       "      <td>10.47</td>\n",
       "      <td>9.69</td>\n",
       "      <td>10.45</td>\n",
       "      <td>3079.531401</td>\n",
       "    </tr>\n",
       "    <tr>\n",
       "      <th>2099</th>\n",
       "      <td>1462852800</td>\n",
       "      <td>2016-05-10 04:00:00</td>\n",
       "      <td>ETHUSD</td>\n",
       "      <td>9.36</td>\n",
       "      <td>9.95</td>\n",
       "      <td>9.36</td>\n",
       "      <td>9.74</td>\n",
       "      <td>764.628290</td>\n",
       "    </tr>\n",
       "    <tr>\n",
       "      <th>2100</th>\n",
       "      <td>1462766400</td>\n",
       "      <td>2016-05-09 04:00:00</td>\n",
       "      <td>ETHUSD</td>\n",
       "      <td>0.00</td>\n",
       "      <td>12.00</td>\n",
       "      <td>0.00</td>\n",
       "      <td>9.36</td>\n",
       "      <td>1376.614767</td>\n",
       "    </tr>\n",
       "  </tbody>\n",
       "</table>\n",
       "<p>2101 rows × 8 columns</p>\n",
       "</div>"
      ],
      "text/plain": [
       "      Unix Timestamp                 Date  Symbol     Open     High      Low  \\\n",
       "0      1644206400000  2022-02-07 04:00:00  ETHUSD  3072.90  3195.00  3052.59   \n",
       "1      1644120000000  2022-02-06 04:00:00  ETHUSD  3011.36  3077.03  2947.69   \n",
       "2      1644033600000  2022-02-05 04:00:00  ETHUSD  3000.46  3062.85  2964.23   \n",
       "3      1643947200000  2022-02-04 04:00:00  ETHUSD  2685.66  3018.68  2678.05   \n",
       "4      1643860800000  2022-02-03 04:00:00  ETHUSD  2659.30  2700.00  2576.87   \n",
       "...              ...                  ...     ...      ...      ...      ...   \n",
       "2096      1463112000  2016-05-13 04:00:00  ETHUSD    10.40    11.59    10.20   \n",
       "2097      1463025600  2016-05-12 04:00:00  ETHUSD    10.45    12.00     9.92   \n",
       "2098      1462939200  2016-05-11 04:00:00  ETHUSD     9.74    10.47     9.69   \n",
       "2099      1462852800  2016-05-10 04:00:00  ETHUSD     9.36     9.95     9.36   \n",
       "2100      1462766400  2016-05-09 04:00:00  ETHUSD     0.00    12.00     0.00   \n",
       "\n",
       "        Close        Volume  \n",
       "0     3134.06  11611.670047  \n",
       "1     3072.90   9226.545834  \n",
       "2     3011.36   7247.098604  \n",
       "3     3000.46  30992.365110  \n",
       "4     2685.66  11232.318486  \n",
       "...       ...           ...  \n",
       "2096    10.50   1788.043079  \n",
       "2097    10.40   2061.012106  \n",
       "2098    10.45   3079.531401  \n",
       "2099     9.74    764.628290  \n",
       "2100     9.36   1376.614767  \n",
       "\n",
       "[2101 rows x 8 columns]"
      ]
     },
     "execution_count": 3,
     "metadata": {},
     "output_type": "execute_result"
    }
   ],
   "source": [
    "eth_df_raw"
   ]
  },
  {
   "cell_type": "markdown",
   "metadata": {},
   "source": [
    "We clean the Ethereum data to only have the date, closing price, and volume from January 21, 2020 to Feburary 7, 2022. We also need to reverse the index order and store the result in **eth_df**."
   ]
  },
  {
   "cell_type": "code",
   "execution_count": 4,
   "metadata": {},
   "outputs": [
    {
     "data": {
      "text/html": [
       "<div>\n",
       "<style scoped>\n",
       "    .dataframe tbody tr th:only-of-type {\n",
       "        vertical-align: middle;\n",
       "    }\n",
       "\n",
       "    .dataframe tbody tr th {\n",
       "        vertical-align: top;\n",
       "    }\n",
       "\n",
       "    .dataframe thead th {\n",
       "        text-align: right;\n",
       "    }\n",
       "</style>\n",
       "<table border=\"1\" class=\"dataframe\">\n",
       "  <thead>\n",
       "    <tr style=\"text-align: right;\">\n",
       "      <th></th>\n",
       "      <th>Date</th>\n",
       "      <th>Close</th>\n",
       "      <th>Volume</th>\n",
       "    </tr>\n",
       "  </thead>\n",
       "  <tbody>\n",
       "    <tr>\n",
       "      <th>0</th>\n",
       "      <td>2020-01-21 04:00:00</td>\n",
       "      <td>168.40</td>\n",
       "      <td>7328.818633</td>\n",
       "    </tr>\n",
       "    <tr>\n",
       "      <th>1</th>\n",
       "      <td>2020-01-22 04:00:00</td>\n",
       "      <td>164.86</td>\n",
       "      <td>17002.813084</td>\n",
       "    </tr>\n",
       "    <tr>\n",
       "      <th>2</th>\n",
       "      <td>2020-01-23 04:00:00</td>\n",
       "      <td>159.13</td>\n",
       "      <td>778.257216</td>\n",
       "    </tr>\n",
       "    <tr>\n",
       "      <th>3</th>\n",
       "      <td>2020-01-24 04:00:00</td>\n",
       "      <td>158.89</td>\n",
       "      <td>7895.695345</td>\n",
       "    </tr>\n",
       "    <tr>\n",
       "      <th>4</th>\n",
       "      <td>2020-01-25 04:00:00</td>\n",
       "      <td>161.18</td>\n",
       "      <td>3947.211172</td>\n",
       "    </tr>\n",
       "    <tr>\n",
       "      <th>...</th>\n",
       "      <td>...</td>\n",
       "      <td>...</td>\n",
       "      <td>...</td>\n",
       "    </tr>\n",
       "    <tr>\n",
       "      <th>744</th>\n",
       "      <td>2022-02-03 04:00:00</td>\n",
       "      <td>2685.66</td>\n",
       "      <td>11232.318486</td>\n",
       "    </tr>\n",
       "    <tr>\n",
       "      <th>745</th>\n",
       "      <td>2022-02-04 04:00:00</td>\n",
       "      <td>3000.46</td>\n",
       "      <td>30992.365110</td>\n",
       "    </tr>\n",
       "    <tr>\n",
       "      <th>746</th>\n",
       "      <td>2022-02-05 04:00:00</td>\n",
       "      <td>3011.36</td>\n",
       "      <td>7247.098604</td>\n",
       "    </tr>\n",
       "    <tr>\n",
       "      <th>747</th>\n",
       "      <td>2022-02-06 04:00:00</td>\n",
       "      <td>3072.90</td>\n",
       "      <td>9226.545834</td>\n",
       "    </tr>\n",
       "    <tr>\n",
       "      <th>748</th>\n",
       "      <td>2022-02-07 04:00:00</td>\n",
       "      <td>3134.06</td>\n",
       "      <td>11611.670047</td>\n",
       "    </tr>\n",
       "  </tbody>\n",
       "</table>\n",
       "<p>749 rows × 3 columns</p>\n",
       "</div>"
      ],
      "text/plain": [
       "                    Date    Close        Volume\n",
       "0    2020-01-21 04:00:00   168.40   7328.818633\n",
       "1    2020-01-22 04:00:00   164.86  17002.813084\n",
       "2    2020-01-23 04:00:00   159.13    778.257216\n",
       "3    2020-01-24 04:00:00   158.89   7895.695345\n",
       "4    2020-01-25 04:00:00   161.18   3947.211172\n",
       "..                   ...      ...           ...\n",
       "744  2022-02-03 04:00:00  2685.66  11232.318486\n",
       "745  2022-02-04 04:00:00  3000.46  30992.365110\n",
       "746  2022-02-05 04:00:00  3011.36   7247.098604\n",
       "747  2022-02-06 04:00:00  3072.90   9226.545834\n",
       "748  2022-02-07 04:00:00  3134.06  11611.670047\n",
       "\n",
       "[749 rows x 3 columns]"
      ]
     },
     "execution_count": 4,
     "metadata": {},
     "output_type": "execute_result"
    }
   ],
   "source": [
    "eth_df = eth_df_raw.iloc[:749]\n",
    "eth_df = eth_df.sort_values(by=['Date'], ascending=True)\n",
    "eth_df = eth_df.reset_index()\n",
    "eth_df = eth_df.drop(columns=['Unix Timestamp','Symbol','Open','High','Low','index'])\n",
    "eth_df"
   ]
  },
  {
   "cell_type": "markdown",
   "metadata": {},
   "source": [
    "### Bitcoin Dataframe"
   ]
  },
  {
   "cell_type": "markdown",
   "metadata": {},
   "source": [
    "Let's take a look at the raw Bitcoin dataframe and see what needs cleaning."
   ]
  },
  {
   "cell_type": "code",
   "execution_count": 5,
   "metadata": {},
   "outputs": [
    {
     "data": {
      "text/html": [
       "<div>\n",
       "<style scoped>\n",
       "    .dataframe tbody tr th:only-of-type {\n",
       "        vertical-align: middle;\n",
       "    }\n",
       "\n",
       "    .dataframe tbody tr th {\n",
       "        vertical-align: top;\n",
       "    }\n",
       "\n",
       "    .dataframe thead th {\n",
       "        text-align: right;\n",
       "    }\n",
       "</style>\n",
       "<table border=\"1\" class=\"dataframe\">\n",
       "  <thead>\n",
       "    <tr style=\"text-align: right;\">\n",
       "      <th></th>\n",
       "      <th>Unix Timestamp</th>\n",
       "      <th>Date</th>\n",
       "      <th>Symbol</th>\n",
       "      <th>Open</th>\n",
       "      <th>High</th>\n",
       "      <th>Low</th>\n",
       "      <th>Close</th>\n",
       "      <th>Volume</th>\n",
       "    </tr>\n",
       "  </thead>\n",
       "  <tbody>\n",
       "    <tr>\n",
       "      <th>0</th>\n",
       "      <td>1644206400000</td>\n",
       "      <td>2022-02-07 04:00:00</td>\n",
       "      <td>BTCUSD</td>\n",
       "      <td>42863.79</td>\n",
       "      <td>44543.78</td>\n",
       "      <td>42238.63</td>\n",
       "      <td>43857.45</td>\n",
       "      <td>1261.930492</td>\n",
       "    </tr>\n",
       "    <tr>\n",
       "      <th>1</th>\n",
       "      <td>1644120000000</td>\n",
       "      <td>2022-02-06 04:00:00</td>\n",
       "      <td>BTCUSD</td>\n",
       "      <td>41485.00</td>\n",
       "      <td>42980.00</td>\n",
       "      <td>41093.90</td>\n",
       "      <td>42863.79</td>\n",
       "      <td>750.096337</td>\n",
       "    </tr>\n",
       "    <tr>\n",
       "      <th>2</th>\n",
       "      <td>1644033600000</td>\n",
       "      <td>2022-02-05 04:00:00</td>\n",
       "      <td>BTCUSD</td>\n",
       "      <td>41487.51</td>\n",
       "      <td>41942.68</td>\n",
       "      <td>40971.46</td>\n",
       "      <td>41485.00</td>\n",
       "      <td>507.977777</td>\n",
       "    </tr>\n",
       "    <tr>\n",
       "      <th>3</th>\n",
       "      <td>1643947200000</td>\n",
       "      <td>2022-02-04 04:00:00</td>\n",
       "      <td>BTCUSD</td>\n",
       "      <td>37330.90</td>\n",
       "      <td>41996.48</td>\n",
       "      <td>37270.19</td>\n",
       "      <td>41487.51</td>\n",
       "      <td>2401.067754</td>\n",
       "    </tr>\n",
       "    <tr>\n",
       "      <th>4</th>\n",
       "      <td>1643860800000</td>\n",
       "      <td>2022-02-03 04:00:00</td>\n",
       "      <td>BTCUSD</td>\n",
       "      <td>36839.21</td>\n",
       "      <td>37454.49</td>\n",
       "      <td>36272.06</td>\n",
       "      <td>37330.90</td>\n",
       "      <td>1133.191332</td>\n",
       "    </tr>\n",
       "    <tr>\n",
       "      <th>...</th>\n",
       "      <td>...</td>\n",
       "      <td>...</td>\n",
       "      <td>...</td>\n",
       "      <td>...</td>\n",
       "      <td>...</td>\n",
       "      <td>...</td>\n",
       "      <td>...</td>\n",
       "      <td>...</td>\n",
       "    </tr>\n",
       "    <tr>\n",
       "      <th>2310</th>\n",
       "      <td>1444622400</td>\n",
       "      <td>2015-10-12 04:00:00</td>\n",
       "      <td>BTCUSD</td>\n",
       "      <td>248.98</td>\n",
       "      <td>248.98</td>\n",
       "      <td>245.75</td>\n",
       "      <td>245.75</td>\n",
       "      <td>71.047743</td>\n",
       "    </tr>\n",
       "    <tr>\n",
       "      <th>2311</th>\n",
       "      <td>1444536000</td>\n",
       "      <td>2015-10-11 04:00:00</td>\n",
       "      <td>BTCUSD</td>\n",
       "      <td>246.30</td>\n",
       "      <td>249.50</td>\n",
       "      <td>245.96</td>\n",
       "      <td>248.98</td>\n",
       "      <td>22.747091</td>\n",
       "    </tr>\n",
       "    <tr>\n",
       "      <th>2312</th>\n",
       "      <td>1444449600</td>\n",
       "      <td>2015-10-10 04:00:00</td>\n",
       "      <td>BTCUSD</td>\n",
       "      <td>245.51</td>\n",
       "      <td>246.30</td>\n",
       "      <td>244.60</td>\n",
       "      <td>246.30</td>\n",
       "      <td>30.870549</td>\n",
       "    </tr>\n",
       "    <tr>\n",
       "      <th>2313</th>\n",
       "      <td>1444363200</td>\n",
       "      <td>2015-10-09 04:00:00</td>\n",
       "      <td>BTCUSD</td>\n",
       "      <td>243.60</td>\n",
       "      <td>249.97</td>\n",
       "      <td>243.60</td>\n",
       "      <td>245.51</td>\n",
       "      <td>61.587068</td>\n",
       "    </tr>\n",
       "    <tr>\n",
       "      <th>2314</th>\n",
       "      <td>1444276800</td>\n",
       "      <td>2015-10-08 04:00:00</td>\n",
       "      <td>BTCUSD</td>\n",
       "      <td>0.00</td>\n",
       "      <td>245.00</td>\n",
       "      <td>0.00</td>\n",
       "      <td>243.60</td>\n",
       "      <td>34.754703</td>\n",
       "    </tr>\n",
       "  </tbody>\n",
       "</table>\n",
       "<p>2315 rows × 8 columns</p>\n",
       "</div>"
      ],
      "text/plain": [
       "      Unix Timestamp                 Date  Symbol      Open      High  \\\n",
       "0      1644206400000  2022-02-07 04:00:00  BTCUSD  42863.79  44543.78   \n",
       "1      1644120000000  2022-02-06 04:00:00  BTCUSD  41485.00  42980.00   \n",
       "2      1644033600000  2022-02-05 04:00:00  BTCUSD  41487.51  41942.68   \n",
       "3      1643947200000  2022-02-04 04:00:00  BTCUSD  37330.90  41996.48   \n",
       "4      1643860800000  2022-02-03 04:00:00  BTCUSD  36839.21  37454.49   \n",
       "...              ...                  ...     ...       ...       ...   \n",
       "2310      1444622400  2015-10-12 04:00:00  BTCUSD    248.98    248.98   \n",
       "2311      1444536000  2015-10-11 04:00:00  BTCUSD    246.30    249.50   \n",
       "2312      1444449600  2015-10-10 04:00:00  BTCUSD    245.51    246.30   \n",
       "2313      1444363200  2015-10-09 04:00:00  BTCUSD    243.60    249.97   \n",
       "2314      1444276800  2015-10-08 04:00:00  BTCUSD      0.00    245.00   \n",
       "\n",
       "           Low     Close       Volume  \n",
       "0     42238.63  43857.45  1261.930492  \n",
       "1     41093.90  42863.79   750.096337  \n",
       "2     40971.46  41485.00   507.977777  \n",
       "3     37270.19  41487.51  2401.067754  \n",
       "4     36272.06  37330.90  1133.191332  \n",
       "...        ...       ...          ...  \n",
       "2310    245.75    245.75    71.047743  \n",
       "2311    245.96    248.98    22.747091  \n",
       "2312    244.60    246.30    30.870549  \n",
       "2313    243.60    245.51    61.587068  \n",
       "2314      0.00    243.60    34.754703  \n",
       "\n",
       "[2315 rows x 8 columns]"
      ]
     },
     "execution_count": 5,
     "metadata": {},
     "output_type": "execute_result"
    }
   ],
   "source": [
    "btc_df_raw"
   ]
  },
  {
   "cell_type": "markdown",
   "metadata": {},
   "source": [
    "We clean the Bitcoin data to only have the date, closing price, and volume from January 21, 2020 to Feburary 7, 2022. We also need to reverse the index order and store the result in **btc_df**."
   ]
  },
  {
   "cell_type": "code",
   "execution_count": 6,
   "metadata": {},
   "outputs": [
    {
     "data": {
      "text/html": [
       "<div>\n",
       "<style scoped>\n",
       "    .dataframe tbody tr th:only-of-type {\n",
       "        vertical-align: middle;\n",
       "    }\n",
       "\n",
       "    .dataframe tbody tr th {\n",
       "        vertical-align: top;\n",
       "    }\n",
       "\n",
       "    .dataframe thead th {\n",
       "        text-align: right;\n",
       "    }\n",
       "</style>\n",
       "<table border=\"1\" class=\"dataframe\">\n",
       "  <thead>\n",
       "    <tr style=\"text-align: right;\">\n",
       "      <th></th>\n",
       "      <th>Date</th>\n",
       "      <th>Close</th>\n",
       "      <th>Volume</th>\n",
       "    </tr>\n",
       "  </thead>\n",
       "  <tbody>\n",
       "    <tr>\n",
       "      <th>0</th>\n",
       "      <td>2020-01-21 04:00:00</td>\n",
       "      <td>8697.93</td>\n",
       "      <td>876.974281</td>\n",
       "    </tr>\n",
       "    <tr>\n",
       "      <th>1</th>\n",
       "      <td>2020-01-22 04:00:00</td>\n",
       "      <td>8559.71</td>\n",
       "      <td>585.652153</td>\n",
       "    </tr>\n",
       "    <tr>\n",
       "      <th>2</th>\n",
       "      <td>2020-01-23 04:00:00</td>\n",
       "      <td>8310.20</td>\n",
       "      <td>1649.808428</td>\n",
       "    </tr>\n",
       "    <tr>\n",
       "      <th>3</th>\n",
       "      <td>2020-01-24 04:00:00</td>\n",
       "      <td>8286.66</td>\n",
       "      <td>852.842705</td>\n",
       "    </tr>\n",
       "    <tr>\n",
       "      <th>4</th>\n",
       "      <td>2020-01-25 04:00:00</td>\n",
       "      <td>8346.01</td>\n",
       "      <td>308.447364</td>\n",
       "    </tr>\n",
       "    <tr>\n",
       "      <th>...</th>\n",
       "      <td>...</td>\n",
       "      <td>...</td>\n",
       "      <td>...</td>\n",
       "    </tr>\n",
       "    <tr>\n",
       "      <th>744</th>\n",
       "      <td>2022-02-03 04:00:00</td>\n",
       "      <td>37330.90</td>\n",
       "      <td>1133.191332</td>\n",
       "    </tr>\n",
       "    <tr>\n",
       "      <th>745</th>\n",
       "      <td>2022-02-04 04:00:00</td>\n",
       "      <td>41487.51</td>\n",
       "      <td>2401.067754</td>\n",
       "    </tr>\n",
       "    <tr>\n",
       "      <th>746</th>\n",
       "      <td>2022-02-05 04:00:00</td>\n",
       "      <td>41485.00</td>\n",
       "      <td>507.977777</td>\n",
       "    </tr>\n",
       "    <tr>\n",
       "      <th>747</th>\n",
       "      <td>2022-02-06 04:00:00</td>\n",
       "      <td>42863.79</td>\n",
       "      <td>750.096337</td>\n",
       "    </tr>\n",
       "    <tr>\n",
       "      <th>748</th>\n",
       "      <td>2022-02-07 04:00:00</td>\n",
       "      <td>43857.45</td>\n",
       "      <td>1261.930492</td>\n",
       "    </tr>\n",
       "  </tbody>\n",
       "</table>\n",
       "<p>749 rows × 3 columns</p>\n",
       "</div>"
      ],
      "text/plain": [
       "                    Date     Close       Volume\n",
       "0    2020-01-21 04:00:00   8697.93   876.974281\n",
       "1    2020-01-22 04:00:00   8559.71   585.652153\n",
       "2    2020-01-23 04:00:00   8310.20  1649.808428\n",
       "3    2020-01-24 04:00:00   8286.66   852.842705\n",
       "4    2020-01-25 04:00:00   8346.01   308.447364\n",
       "..                   ...       ...          ...\n",
       "744  2022-02-03 04:00:00  37330.90  1133.191332\n",
       "745  2022-02-04 04:00:00  41487.51  2401.067754\n",
       "746  2022-02-05 04:00:00  41485.00   507.977777\n",
       "747  2022-02-06 04:00:00  42863.79   750.096337\n",
       "748  2022-02-07 04:00:00  43857.45  1261.930492\n",
       "\n",
       "[749 rows x 3 columns]"
      ]
     },
     "execution_count": 6,
     "metadata": {},
     "output_type": "execute_result"
    }
   ],
   "source": [
    "btc_df = btc_df_raw.iloc[:749]\n",
    "btc_df = btc_df.sort_values(by=['Date'], ascending=True)\n",
    "btc_df = btc_df.reset_index()\n",
    "btc_df = btc_df.drop(columns=['Unix Timestamp','Symbol','Open','High','Low','index'])\n",
    "btc_df"
   ]
  },
  {
   "cell_type": "markdown",
   "metadata": {},
   "source": [
    "### Covid Dataframes"
   ]
  },
  {
   "cell_type": "markdown",
   "metadata": {},
   "source": [
    "Let's take a look at the raw Covid cases dataframe and see what needs cleaning."
   ]
  },
  {
   "cell_type": "code",
   "execution_count": 7,
   "metadata": {},
   "outputs": [
    {
     "data": {
      "text/html": [
       "<div>\n",
       "<style scoped>\n",
       "    .dataframe tbody tr th:only-of-type {\n",
       "        vertical-align: middle;\n",
       "    }\n",
       "\n",
       "    .dataframe tbody tr th {\n",
       "        vertical-align: top;\n",
       "    }\n",
       "\n",
       "    .dataframe thead th {\n",
       "        text-align: right;\n",
       "    }\n",
       "</style>\n",
       "<table border=\"1\" class=\"dataframe\">\n",
       "  <thead>\n",
       "    <tr style=\"text-align: right;\">\n",
       "      <th></th>\n",
       "      <th>date</th>\n",
       "      <th>cases</th>\n",
       "      <th>deaths</th>\n",
       "    </tr>\n",
       "  </thead>\n",
       "  <tbody>\n",
       "    <tr>\n",
       "      <th>0</th>\n",
       "      <td>2020-01-21</td>\n",
       "      <td>1</td>\n",
       "      <td>0</td>\n",
       "    </tr>\n",
       "    <tr>\n",
       "      <th>1</th>\n",
       "      <td>2020-01-22</td>\n",
       "      <td>1</td>\n",
       "      <td>0</td>\n",
       "    </tr>\n",
       "    <tr>\n",
       "      <th>2</th>\n",
       "      <td>2020-01-23</td>\n",
       "      <td>1</td>\n",
       "      <td>0</td>\n",
       "    </tr>\n",
       "    <tr>\n",
       "      <th>3</th>\n",
       "      <td>2020-01-24</td>\n",
       "      <td>2</td>\n",
       "      <td>0</td>\n",
       "    </tr>\n",
       "    <tr>\n",
       "      <th>4</th>\n",
       "      <td>2020-01-25</td>\n",
       "      <td>3</td>\n",
       "      <td>0</td>\n",
       "    </tr>\n",
       "    <tr>\n",
       "      <th>...</th>\n",
       "      <td>...</td>\n",
       "      <td>...</td>\n",
       "      <td>...</td>\n",
       "    </tr>\n",
       "    <tr>\n",
       "      <th>779</th>\n",
       "      <td>2022-03-10</td>\n",
       "      <td>79356489</td>\n",
       "      <td>964062</td>\n",
       "    </tr>\n",
       "    <tr>\n",
       "      <th>780</th>\n",
       "      <td>2022-03-11</td>\n",
       "      <td>79400847</td>\n",
       "      <td>965746</td>\n",
       "    </tr>\n",
       "    <tr>\n",
       "      <th>781</th>\n",
       "      <td>2022-03-12</td>\n",
       "      <td>79411749</td>\n",
       "      <td>966218</td>\n",
       "    </tr>\n",
       "    <tr>\n",
       "      <th>782</th>\n",
       "      <td>2022-03-13</td>\n",
       "      <td>79418131</td>\n",
       "      <td>966361</td>\n",
       "    </tr>\n",
       "    <tr>\n",
       "      <th>783</th>\n",
       "      <td>2022-03-14</td>\n",
       "      <td>79473611</td>\n",
       "      <td>963926</td>\n",
       "    </tr>\n",
       "  </tbody>\n",
       "</table>\n",
       "<p>784 rows × 3 columns</p>\n",
       "</div>"
      ],
      "text/plain": [
       "           date     cases  deaths\n",
       "0    2020-01-21         1       0\n",
       "1    2020-01-22         1       0\n",
       "2    2020-01-23         1       0\n",
       "3    2020-01-24         2       0\n",
       "4    2020-01-25         3       0\n",
       "..          ...       ...     ...\n",
       "779  2022-03-10  79356489  964062\n",
       "780  2022-03-11  79400847  965746\n",
       "781  2022-03-12  79411749  966218\n",
       "782  2022-03-13  79418131  966361\n",
       "783  2022-03-14  79473611  963926\n",
       "\n",
       "[784 rows x 3 columns]"
      ]
     },
     "execution_count": 7,
     "metadata": {},
     "output_type": "execute_result"
    }
   ],
   "source": [
    "covid_df_raw"
   ]
  },
  {
   "cell_type": "markdown",
   "metadata": {},
   "source": [
    "We clean the covid dataset to only have the date and cases from January 21, 2020 to Feburary 7, 2022 and reverse the order of the indices and store the result in **covid_df**."
   ]
  },
  {
   "cell_type": "code",
   "execution_count": 8,
   "metadata": {},
   "outputs": [
    {
     "data": {
      "text/html": [
       "<div>\n",
       "<style scoped>\n",
       "    .dataframe tbody tr th:only-of-type {\n",
       "        vertical-align: middle;\n",
       "    }\n",
       "\n",
       "    .dataframe tbody tr th {\n",
       "        vertical-align: top;\n",
       "    }\n",
       "\n",
       "    .dataframe thead th {\n",
       "        text-align: right;\n",
       "    }\n",
       "</style>\n",
       "<table border=\"1\" class=\"dataframe\">\n",
       "  <thead>\n",
       "    <tr style=\"text-align: right;\">\n",
       "      <th></th>\n",
       "      <th>date</th>\n",
       "      <th>cases</th>\n",
       "    </tr>\n",
       "  </thead>\n",
       "  <tbody>\n",
       "    <tr>\n",
       "      <th>0</th>\n",
       "      <td>2020-01-21</td>\n",
       "      <td>1</td>\n",
       "    </tr>\n",
       "    <tr>\n",
       "      <th>1</th>\n",
       "      <td>2020-01-22</td>\n",
       "      <td>1</td>\n",
       "    </tr>\n",
       "    <tr>\n",
       "      <th>2</th>\n",
       "      <td>2020-01-23</td>\n",
       "      <td>1</td>\n",
       "    </tr>\n",
       "    <tr>\n",
       "      <th>3</th>\n",
       "      <td>2020-01-24</td>\n",
       "      <td>2</td>\n",
       "    </tr>\n",
       "    <tr>\n",
       "      <th>4</th>\n",
       "      <td>2020-01-25</td>\n",
       "      <td>3</td>\n",
       "    </tr>\n",
       "    <tr>\n",
       "      <th>...</th>\n",
       "      <td>...</td>\n",
       "      <td>...</td>\n",
       "    </tr>\n",
       "    <tr>\n",
       "      <th>744</th>\n",
       "      <td>2022-02-03</td>\n",
       "      <td>75924121</td>\n",
       "    </tr>\n",
       "    <tr>\n",
       "      <th>745</th>\n",
       "      <td>2022-02-04</td>\n",
       "      <td>76236325</td>\n",
       "    </tr>\n",
       "    <tr>\n",
       "      <th>746</th>\n",
       "      <td>2022-02-05</td>\n",
       "      <td>76359918</td>\n",
       "    </tr>\n",
       "    <tr>\n",
       "      <th>747</th>\n",
       "      <td>2022-02-06</td>\n",
       "      <td>76418395</td>\n",
       "    </tr>\n",
       "    <tr>\n",
       "      <th>748</th>\n",
       "      <td>2022-02-07</td>\n",
       "      <td>76766514</td>\n",
       "    </tr>\n",
       "  </tbody>\n",
       "</table>\n",
       "<p>749 rows × 2 columns</p>\n",
       "</div>"
      ],
      "text/plain": [
       "           date     cases\n",
       "0    2020-01-21         1\n",
       "1    2020-01-22         1\n",
       "2    2020-01-23         1\n",
       "3    2020-01-24         2\n",
       "4    2020-01-25         3\n",
       "..          ...       ...\n",
       "744  2022-02-03  75924121\n",
       "745  2022-02-04  76236325\n",
       "746  2022-02-05  76359918\n",
       "747  2022-02-06  76418395\n",
       "748  2022-02-07  76766514\n",
       "\n",
       "[749 rows x 2 columns]"
      ]
     },
     "execution_count": 8,
     "metadata": {},
     "output_type": "execute_result"
    }
   ],
   "source": [
    "covid_df = covid_df_raw.drop(columns=['deaths'])\n",
    "covid_df = covid_df.iloc[:749]\n",
    "covid_df"
   ]
  },
  {
   "cell_type": "markdown",
   "metadata": {},
   "source": [
    "We also want a column that has the number of new cases per day instead of total cases."
   ]
  },
  {
   "cell_type": "markdown",
   "metadata": {},
   "source": [
    "We initialize a new column named \"New Cases\" and make all values in the column NaN."
   ]
  },
  {
   "cell_type": "code",
   "execution_count": 9,
   "metadata": {},
   "outputs": [
    {
     "data": {
      "text/html": [
       "<div>\n",
       "<style scoped>\n",
       "    .dataframe tbody tr th:only-of-type {\n",
       "        vertical-align: middle;\n",
       "    }\n",
       "\n",
       "    .dataframe tbody tr th {\n",
       "        vertical-align: top;\n",
       "    }\n",
       "\n",
       "    .dataframe thead th {\n",
       "        text-align: right;\n",
       "    }\n",
       "</style>\n",
       "<table border=\"1\" class=\"dataframe\">\n",
       "  <thead>\n",
       "    <tr style=\"text-align: right;\">\n",
       "      <th></th>\n",
       "      <th>date</th>\n",
       "      <th>cases</th>\n",
       "      <th>new cases</th>\n",
       "    </tr>\n",
       "  </thead>\n",
       "  <tbody>\n",
       "    <tr>\n",
       "      <th>0</th>\n",
       "      <td>2020-01-21</td>\n",
       "      <td>1</td>\n",
       "      <td>1.0</td>\n",
       "    </tr>\n",
       "    <tr>\n",
       "      <th>1</th>\n",
       "      <td>2020-01-22</td>\n",
       "      <td>1</td>\n",
       "      <td>0.0</td>\n",
       "    </tr>\n",
       "    <tr>\n",
       "      <th>2</th>\n",
       "      <td>2020-01-23</td>\n",
       "      <td>1</td>\n",
       "      <td>0.0</td>\n",
       "    </tr>\n",
       "    <tr>\n",
       "      <th>3</th>\n",
       "      <td>2020-01-24</td>\n",
       "      <td>2</td>\n",
       "      <td>1.0</td>\n",
       "    </tr>\n",
       "    <tr>\n",
       "      <th>4</th>\n",
       "      <td>2020-01-25</td>\n",
       "      <td>3</td>\n",
       "      <td>1.0</td>\n",
       "    </tr>\n",
       "    <tr>\n",
       "      <th>...</th>\n",
       "      <td>...</td>\n",
       "      <td>...</td>\n",
       "      <td>...</td>\n",
       "    </tr>\n",
       "    <tr>\n",
       "      <th>744</th>\n",
       "      <td>2022-02-03</td>\n",
       "      <td>75924121</td>\n",
       "      <td>312242.0</td>\n",
       "    </tr>\n",
       "    <tr>\n",
       "      <th>745</th>\n",
       "      <td>2022-02-04</td>\n",
       "      <td>76236325</td>\n",
       "      <td>312204.0</td>\n",
       "    </tr>\n",
       "    <tr>\n",
       "      <th>746</th>\n",
       "      <td>2022-02-05</td>\n",
       "      <td>76359918</td>\n",
       "      <td>123593.0</td>\n",
       "    </tr>\n",
       "    <tr>\n",
       "      <th>747</th>\n",
       "      <td>2022-02-06</td>\n",
       "      <td>76418395</td>\n",
       "      <td>58477.0</td>\n",
       "    </tr>\n",
       "    <tr>\n",
       "      <th>748</th>\n",
       "      <td>2022-02-07</td>\n",
       "      <td>76766514</td>\n",
       "      <td>348119.0</td>\n",
       "    </tr>\n",
       "  </tbody>\n",
       "</table>\n",
       "<p>749 rows × 3 columns</p>\n",
       "</div>"
      ],
      "text/plain": [
       "           date     cases  new cases\n",
       "0    2020-01-21         1        1.0\n",
       "1    2020-01-22         1        0.0\n",
       "2    2020-01-23         1        0.0\n",
       "3    2020-01-24         2        1.0\n",
       "4    2020-01-25         3        1.0\n",
       "..          ...       ...        ...\n",
       "744  2022-02-03  75924121   312242.0\n",
       "745  2022-02-04  76236325   312204.0\n",
       "746  2022-02-05  76359918   123593.0\n",
       "747  2022-02-06  76418395    58477.0\n",
       "748  2022-02-07  76766514   348119.0\n",
       "\n",
       "[749 rows x 3 columns]"
      ]
     },
     "execution_count": 9,
     "metadata": {},
     "output_type": "execute_result"
    }
   ],
   "source": [
    "covid_df['new cases'] = np.nan\n",
    "covid_df['new cases']=covid_df['cases'].diff()\n",
    "covid_df.at[0,'new cases'] = 1\n",
    "covid_df"
   ]
  },
  {
   "cell_type": "markdown",
   "metadata": {},
   "source": [
    "### Standarizing Dates for btc_df and eth_df"
   ]
  },
  {
   "cell_type": "markdown",
   "metadata": {},
   "source": [
    "We need to standardize the dates for **btc_df** and **eth_df** to not include the time. This process will make analysis of the data easier."
   ]
  },
  {
   "cell_type": "code",
   "execution_count": 10,
   "metadata": {},
   "outputs": [],
   "source": [
    "def standardize_date(string):\n",
    "    string = string.strip()\n",
    "    \n",
    "    string = string.replace(' 04:00:00','')\n",
    "    \n",
    "    if '/' in string:\n",
    "        string = string[6:10]+'-'+string[0:2]+'-'+string[3:5]\n",
    "    \n",
    "    return string"
   ]
  },
  {
   "cell_type": "markdown",
   "metadata": {},
   "source": [
    "We apply the standarize_date function to the **btc_df**."
   ]
  },
  {
   "cell_type": "code",
   "execution_count": 11,
   "metadata": {},
   "outputs": [
    {
     "data": {
      "text/html": [
       "<div>\n",
       "<style scoped>\n",
       "    .dataframe tbody tr th:only-of-type {\n",
       "        vertical-align: middle;\n",
       "    }\n",
       "\n",
       "    .dataframe tbody tr th {\n",
       "        vertical-align: top;\n",
       "    }\n",
       "\n",
       "    .dataframe thead th {\n",
       "        text-align: right;\n",
       "    }\n",
       "</style>\n",
       "<table border=\"1\" class=\"dataframe\">\n",
       "  <thead>\n",
       "    <tr style=\"text-align: right;\">\n",
       "      <th></th>\n",
       "      <th>Date</th>\n",
       "      <th>Close</th>\n",
       "      <th>Volume</th>\n",
       "    </tr>\n",
       "  </thead>\n",
       "  <tbody>\n",
       "    <tr>\n",
       "      <th>0</th>\n",
       "      <td>2020-01-21</td>\n",
       "      <td>8697.93</td>\n",
       "      <td>876.974281</td>\n",
       "    </tr>\n",
       "    <tr>\n",
       "      <th>1</th>\n",
       "      <td>2020-01-22</td>\n",
       "      <td>8559.71</td>\n",
       "      <td>585.652153</td>\n",
       "    </tr>\n",
       "    <tr>\n",
       "      <th>2</th>\n",
       "      <td>2020-01-23</td>\n",
       "      <td>8310.20</td>\n",
       "      <td>1649.808428</td>\n",
       "    </tr>\n",
       "    <tr>\n",
       "      <th>3</th>\n",
       "      <td>2020-01-24</td>\n",
       "      <td>8286.66</td>\n",
       "      <td>852.842705</td>\n",
       "    </tr>\n",
       "    <tr>\n",
       "      <th>4</th>\n",
       "      <td>2020-01-25</td>\n",
       "      <td>8346.01</td>\n",
       "      <td>308.447364</td>\n",
       "    </tr>\n",
       "    <tr>\n",
       "      <th>...</th>\n",
       "      <td>...</td>\n",
       "      <td>...</td>\n",
       "      <td>...</td>\n",
       "    </tr>\n",
       "    <tr>\n",
       "      <th>744</th>\n",
       "      <td>2022-02-03</td>\n",
       "      <td>37330.90</td>\n",
       "      <td>1133.191332</td>\n",
       "    </tr>\n",
       "    <tr>\n",
       "      <th>745</th>\n",
       "      <td>2022-02-04</td>\n",
       "      <td>41487.51</td>\n",
       "      <td>2401.067754</td>\n",
       "    </tr>\n",
       "    <tr>\n",
       "      <th>746</th>\n",
       "      <td>2022-02-05</td>\n",
       "      <td>41485.00</td>\n",
       "      <td>507.977777</td>\n",
       "    </tr>\n",
       "    <tr>\n",
       "      <th>747</th>\n",
       "      <td>2022-02-06</td>\n",
       "      <td>42863.79</td>\n",
       "      <td>750.096337</td>\n",
       "    </tr>\n",
       "    <tr>\n",
       "      <th>748</th>\n",
       "      <td>2022-02-07</td>\n",
       "      <td>43857.45</td>\n",
       "      <td>1261.930492</td>\n",
       "    </tr>\n",
       "  </tbody>\n",
       "</table>\n",
       "<p>749 rows × 3 columns</p>\n",
       "</div>"
      ],
      "text/plain": [
       "           Date     Close       Volume\n",
       "0    2020-01-21   8697.93   876.974281\n",
       "1    2020-01-22   8559.71   585.652153\n",
       "2    2020-01-23   8310.20  1649.808428\n",
       "3    2020-01-24   8286.66   852.842705\n",
       "4    2020-01-25   8346.01   308.447364\n",
       "..          ...       ...          ...\n",
       "744  2022-02-03  37330.90  1133.191332\n",
       "745  2022-02-04  41487.51  2401.067754\n",
       "746  2022-02-05  41485.00   507.977777\n",
       "747  2022-02-06  42863.79   750.096337\n",
       "748  2022-02-07  43857.45  1261.930492\n",
       "\n",
       "[749 rows x 3 columns]"
      ]
     },
     "execution_count": 11,
     "metadata": {},
     "output_type": "execute_result"
    }
   ],
   "source": [
    "btc_df['Date'] = btc_df['Date'].apply(standardize_date)\n",
    "btc_df"
   ]
  },
  {
   "cell_type": "markdown",
   "metadata": {},
   "source": [
    "Next, we apply the standarize_date function again to the **eth_df**."
   ]
  },
  {
   "cell_type": "code",
   "execution_count": 12,
   "metadata": {},
   "outputs": [
    {
     "data": {
      "text/html": [
       "<div>\n",
       "<style scoped>\n",
       "    .dataframe tbody tr th:only-of-type {\n",
       "        vertical-align: middle;\n",
       "    }\n",
       "\n",
       "    .dataframe tbody tr th {\n",
       "        vertical-align: top;\n",
       "    }\n",
       "\n",
       "    .dataframe thead th {\n",
       "        text-align: right;\n",
       "    }\n",
       "</style>\n",
       "<table border=\"1\" class=\"dataframe\">\n",
       "  <thead>\n",
       "    <tr style=\"text-align: right;\">\n",
       "      <th></th>\n",
       "      <th>Date</th>\n",
       "      <th>Close</th>\n",
       "      <th>Volume</th>\n",
       "    </tr>\n",
       "  </thead>\n",
       "  <tbody>\n",
       "    <tr>\n",
       "      <th>0</th>\n",
       "      <td>2020-01-21</td>\n",
       "      <td>168.40</td>\n",
       "      <td>7328.818633</td>\n",
       "    </tr>\n",
       "    <tr>\n",
       "      <th>1</th>\n",
       "      <td>2020-01-22</td>\n",
       "      <td>164.86</td>\n",
       "      <td>17002.813084</td>\n",
       "    </tr>\n",
       "    <tr>\n",
       "      <th>2</th>\n",
       "      <td>2020-01-23</td>\n",
       "      <td>159.13</td>\n",
       "      <td>778.257216</td>\n",
       "    </tr>\n",
       "    <tr>\n",
       "      <th>3</th>\n",
       "      <td>2020-01-24</td>\n",
       "      <td>158.89</td>\n",
       "      <td>7895.695345</td>\n",
       "    </tr>\n",
       "    <tr>\n",
       "      <th>4</th>\n",
       "      <td>2020-01-25</td>\n",
       "      <td>161.18</td>\n",
       "      <td>3947.211172</td>\n",
       "    </tr>\n",
       "    <tr>\n",
       "      <th>...</th>\n",
       "      <td>...</td>\n",
       "      <td>...</td>\n",
       "      <td>...</td>\n",
       "    </tr>\n",
       "    <tr>\n",
       "      <th>744</th>\n",
       "      <td>2022-02-03</td>\n",
       "      <td>2685.66</td>\n",
       "      <td>11232.318486</td>\n",
       "    </tr>\n",
       "    <tr>\n",
       "      <th>745</th>\n",
       "      <td>2022-02-04</td>\n",
       "      <td>3000.46</td>\n",
       "      <td>30992.365110</td>\n",
       "    </tr>\n",
       "    <tr>\n",
       "      <th>746</th>\n",
       "      <td>2022-02-05</td>\n",
       "      <td>3011.36</td>\n",
       "      <td>7247.098604</td>\n",
       "    </tr>\n",
       "    <tr>\n",
       "      <th>747</th>\n",
       "      <td>2022-02-06</td>\n",
       "      <td>3072.90</td>\n",
       "      <td>9226.545834</td>\n",
       "    </tr>\n",
       "    <tr>\n",
       "      <th>748</th>\n",
       "      <td>2022-02-07</td>\n",
       "      <td>3134.06</td>\n",
       "      <td>11611.670047</td>\n",
       "    </tr>\n",
       "  </tbody>\n",
       "</table>\n",
       "<p>749 rows × 3 columns</p>\n",
       "</div>"
      ],
      "text/plain": [
       "           Date    Close        Volume\n",
       "0    2020-01-21   168.40   7328.818633\n",
       "1    2020-01-22   164.86  17002.813084\n",
       "2    2020-01-23   159.13    778.257216\n",
       "3    2020-01-24   158.89   7895.695345\n",
       "4    2020-01-25   161.18   3947.211172\n",
       "..          ...      ...           ...\n",
       "744  2022-02-03  2685.66  11232.318486\n",
       "745  2022-02-04  3000.46  30992.365110\n",
       "746  2022-02-05  3011.36   7247.098604\n",
       "747  2022-02-06  3072.90   9226.545834\n",
       "748  2022-02-07  3134.06  11611.670047\n",
       "\n",
       "[749 rows x 3 columns]"
      ]
     },
     "execution_count": 12,
     "metadata": {},
     "output_type": "execute_result"
    }
   ],
   "source": [
    "eth_df['Date'] = eth_df['Date'].apply(standardize_date)\n",
    "eth_df"
   ]
  },
  {
   "cell_type": "markdown",
   "metadata": {},
   "source": [
    "Now, the timestamps are removed."
   ]
  },
  {
   "cell_type": "markdown",
   "metadata": {},
   "source": [
    "### Nasdaq Dataframe"
   ]
  },
  {
   "cell_type": "markdown",
   "metadata": {},
   "source": [
    "Let's take a look at the raw Nasdaq dataframe and see what needs cleaning."
   ]
  },
  {
   "cell_type": "code",
   "execution_count": 13,
   "metadata": {},
   "outputs": [
    {
     "data": {
      "text/html": [
       "<div>\n",
       "<style scoped>\n",
       "    .dataframe tbody tr th:only-of-type {\n",
       "        vertical-align: middle;\n",
       "    }\n",
       "\n",
       "    .dataframe tbody tr th {\n",
       "        vertical-align: top;\n",
       "    }\n",
       "\n",
       "    .dataframe thead th {\n",
       "        text-align: right;\n",
       "    }\n",
       "</style>\n",
       "<table border=\"1\" class=\"dataframe\">\n",
       "  <thead>\n",
       "    <tr style=\"text-align: right;\">\n",
       "      <th></th>\n",
       "      <th>Date</th>\n",
       "      <th>Close/Last</th>\n",
       "      <th>Volume</th>\n",
       "      <th>Open</th>\n",
       "      <th>High</th>\n",
       "      <th>Low</th>\n",
       "    </tr>\n",
       "  </thead>\n",
       "  <tbody>\n",
       "    <tr>\n",
       "      <th>0</th>\n",
       "      <td>02/10/2022</td>\n",
       "      <td>14185.64</td>\n",
       "      <td>--</td>\n",
       "      <td>14228.68</td>\n",
       "      <td>14509.56</td>\n",
       "      <td>14118.20</td>\n",
       "    </tr>\n",
       "    <tr>\n",
       "      <th>1</th>\n",
       "      <td>02/09/2022</td>\n",
       "      <td>14490.37</td>\n",
       "      <td>--</td>\n",
       "      <td>14368.16</td>\n",
       "      <td>14490.72</td>\n",
       "      <td>14330.87</td>\n",
       "    </tr>\n",
       "    <tr>\n",
       "      <th>2</th>\n",
       "      <td>02/08/2022</td>\n",
       "      <td>14194.45</td>\n",
       "      <td>--</td>\n",
       "      <td>13984.43</td>\n",
       "      <td>14226.48</td>\n",
       "      <td>13934.78</td>\n",
       "    </tr>\n",
       "    <tr>\n",
       "      <th>3</th>\n",
       "      <td>02/07/2022</td>\n",
       "      <td>14015.67</td>\n",
       "      <td>--</td>\n",
       "      <td>14118.79</td>\n",
       "      <td>14236.31</td>\n",
       "      <td>13974.10</td>\n",
       "    </tr>\n",
       "    <tr>\n",
       "      <th>4</th>\n",
       "      <td>02/04/2022</td>\n",
       "      <td>14098.01</td>\n",
       "      <td>--</td>\n",
       "      <td>13958.48</td>\n",
       "      <td>14222.76</td>\n",
       "      <td>13850.39</td>\n",
       "    </tr>\n",
       "    <tr>\n",
       "      <th>...</th>\n",
       "      <td>...</td>\n",
       "      <td>...</td>\n",
       "      <td>...</td>\n",
       "      <td>...</td>\n",
       "      <td>...</td>\n",
       "      <td>...</td>\n",
       "    </tr>\n",
       "    <tr>\n",
       "      <th>1254</th>\n",
       "      <td>02/17/2017</td>\n",
       "      <td>5838.58</td>\n",
       "      <td>--</td>\n",
       "      <td>5807.31</td>\n",
       "      <td>5838.58</td>\n",
       "      <td>5800.80</td>\n",
       "    </tr>\n",
       "    <tr>\n",
       "      <th>1255</th>\n",
       "      <td>02/16/2017</td>\n",
       "      <td>5814.90</td>\n",
       "      <td>--</td>\n",
       "      <td>5823.01</td>\n",
       "      <td>5835.15</td>\n",
       "      <td>5796.71</td>\n",
       "    </tr>\n",
       "    <tr>\n",
       "      <th>1256</th>\n",
       "      <td>02/15/2017</td>\n",
       "      <td>5819.44</td>\n",
       "      <td>--</td>\n",
       "      <td>5777.90</td>\n",
       "      <td>5821.95</td>\n",
       "      <td>5776.70</td>\n",
       "    </tr>\n",
       "    <tr>\n",
       "      <th>1257</th>\n",
       "      <td>02/14/2017</td>\n",
       "      <td>5782.57</td>\n",
       "      <td>--</td>\n",
       "      <td>5756.51</td>\n",
       "      <td>5783.09</td>\n",
       "      <td>5748.74</td>\n",
       "    </tr>\n",
       "    <tr>\n",
       "      <th>1258</th>\n",
       "      <td>02/13/2017</td>\n",
       "      <td>5763.96</td>\n",
       "      <td>--</td>\n",
       "      <td>5753.19</td>\n",
       "      <td>5770.99</td>\n",
       "      <td>5751.92</td>\n",
       "    </tr>\n",
       "  </tbody>\n",
       "</table>\n",
       "<p>1259 rows × 6 columns</p>\n",
       "</div>"
      ],
      "text/plain": [
       "            Date  Close/Last Volume      Open      High       Low\n",
       "0     02/10/2022    14185.64     --  14228.68  14509.56  14118.20\n",
       "1     02/09/2022    14490.37     --  14368.16  14490.72  14330.87\n",
       "2     02/08/2022    14194.45     --  13984.43  14226.48  13934.78\n",
       "3     02/07/2022    14015.67     --  14118.79  14236.31  13974.10\n",
       "4     02/04/2022    14098.01     --  13958.48  14222.76  13850.39\n",
       "...          ...         ...    ...       ...       ...       ...\n",
       "1254  02/17/2017     5838.58     --   5807.31   5838.58   5800.80\n",
       "1255  02/16/2017     5814.90     --   5823.01   5835.15   5796.71\n",
       "1256  02/15/2017     5819.44     --   5777.90   5821.95   5776.70\n",
       "1257  02/14/2017     5782.57     --   5756.51   5783.09   5748.74\n",
       "1258  02/13/2017     5763.96     --   5753.19   5770.99   5751.92\n",
       "\n",
       "[1259 rows x 6 columns]"
      ]
     },
     "execution_count": 13,
     "metadata": {},
     "output_type": "execute_result"
    }
   ],
   "source": [
    "nasdaq_df_raw"
   ]
  },
  {
   "cell_type": "markdown",
   "metadata": {},
   "source": [
    "We clean the Nasdaq data to only include the date and the closing price from January 21, 2021 to now. We also need to reverse the index order and change the date from MM/DD/YY format to YY/MM/DD format and store the result in **nasdaq_df**."
   ]
  },
  {
   "cell_type": "code",
   "execution_count": 14,
   "metadata": {},
   "outputs": [
    {
     "data": {
      "text/html": [
       "<div>\n",
       "<style scoped>\n",
       "    .dataframe tbody tr th:only-of-type {\n",
       "        vertical-align: middle;\n",
       "    }\n",
       "\n",
       "    .dataframe tbody tr th {\n",
       "        vertical-align: top;\n",
       "    }\n",
       "\n",
       "    .dataframe thead th {\n",
       "        text-align: right;\n",
       "    }\n",
       "</style>\n",
       "<table border=\"1\" class=\"dataframe\">\n",
       "  <thead>\n",
       "    <tr style=\"text-align: right;\">\n",
       "      <th></th>\n",
       "      <th>Date</th>\n",
       "      <th>Close/Last</th>\n",
       "    </tr>\n",
       "  </thead>\n",
       "  <tbody>\n",
       "    <tr>\n",
       "      <th>0</th>\n",
       "      <td>2020-01-21</td>\n",
       "      <td>9370.81</td>\n",
       "    </tr>\n",
       "    <tr>\n",
       "      <th>1</th>\n",
       "      <td>2020-01-22</td>\n",
       "      <td>9383.77</td>\n",
       "    </tr>\n",
       "    <tr>\n",
       "      <th>2</th>\n",
       "      <td>2020-01-23</td>\n",
       "      <td>9402.48</td>\n",
       "    </tr>\n",
       "    <tr>\n",
       "      <th>3</th>\n",
       "      <td>2020-01-24</td>\n",
       "      <td>9314.91</td>\n",
       "    </tr>\n",
       "    <tr>\n",
       "      <th>4</th>\n",
       "      <td>2020-01-27</td>\n",
       "      <td>9139.31</td>\n",
       "    </tr>\n",
       "    <tr>\n",
       "      <th>...</th>\n",
       "      <td>...</td>\n",
       "      <td>...</td>\n",
       "    </tr>\n",
       "    <tr>\n",
       "      <th>513</th>\n",
       "      <td>2022-02-01</td>\n",
       "      <td>14346.00</td>\n",
       "    </tr>\n",
       "    <tr>\n",
       "      <th>514</th>\n",
       "      <td>2022-02-02</td>\n",
       "      <td>14417.55</td>\n",
       "    </tr>\n",
       "    <tr>\n",
       "      <th>515</th>\n",
       "      <td>2022-02-03</td>\n",
       "      <td>13878.82</td>\n",
       "    </tr>\n",
       "    <tr>\n",
       "      <th>516</th>\n",
       "      <td>2022-02-04</td>\n",
       "      <td>14098.01</td>\n",
       "    </tr>\n",
       "    <tr>\n",
       "      <th>517</th>\n",
       "      <td>2022-02-07</td>\n",
       "      <td>14015.67</td>\n",
       "    </tr>\n",
       "  </tbody>\n",
       "</table>\n",
       "<p>518 rows × 2 columns</p>\n",
       "</div>"
      ],
      "text/plain": [
       "           Date  Close/Last\n",
       "0    2020-01-21     9370.81\n",
       "1    2020-01-22     9383.77\n",
       "2    2020-01-23     9402.48\n",
       "3    2020-01-24     9314.91\n",
       "4    2020-01-27     9139.31\n",
       "..          ...         ...\n",
       "513  2022-02-01    14346.00\n",
       "514  2022-02-02    14417.55\n",
       "515  2022-02-03    13878.82\n",
       "516  2022-02-04    14098.01\n",
       "517  2022-02-07    14015.67\n",
       "\n",
       "[518 rows x 2 columns]"
      ]
     },
     "execution_count": 14,
     "metadata": {},
     "output_type": "execute_result"
    }
   ],
   "source": [
    "nasdaq_df_raw['Date'] = nasdaq_df_raw['Date'].apply(standardize_date)\n",
    "nasdaq_df = nasdaq_df_raw.iloc[:521]\n",
    "nasdaq_df = nasdaq_df.sort_values(by=['Date'], ascending=True)\n",
    "nasdaq_df = nasdaq_df.reset_index()\n",
    "nasdaq_df = nasdaq_df.drop(columns=['Volume','Open','High','Low','index'])\n",
    "nasdaq_df = nasdaq_df.iloc[:518]\n",
    "nasdaq_df"
   ]
  },
  {
   "cell_type": "markdown",
   "metadata": {},
   "source": [
    "However, there is an issue here. Even though the start and end dates of the dataframe are the same of the ones for **btc_df**, **eth_df**, and **covid_df**, there are less observations. This is due to the stock markets being closed on weekends and holidays. So, the next step of our data cleaning is to fill in the missing dates with the close prices of the last day the market were open. For example, if the markets were closed for the weekend, we'd use Firday's close price to fill in the missing dates. This process will make analysis more accurate as the dates will line up with the other dataframes."
   ]
  },
  {
   "cell_type": "markdown",
   "metadata": {},
   "source": [
    "Firstly, we take the usable data from **nasdaq_df** and store it in a temporary variable, **nasdaq_df_old**."
   ]
  },
  {
   "cell_type": "code",
   "execution_count": 15,
   "metadata": {},
   "outputs": [],
   "source": [
    "nasdaq_df_old = nasdaq_df"
   ]
  },
  {
   "cell_type": "markdown",
   "metadata": {},
   "source": [
    "Then, we replace the dates in **nasdaq_df** with all the continuous dates from 2020-01-21 to 2022-02-07. This will take care of the missing dates. And then we turn the Close price to NaN values. We will fill these NaN values with the Close prices of temporary dataframe in the next step."
   ]
  },
  {
   "cell_type": "code",
   "execution_count": 16,
   "metadata": {},
   "outputs": [
    {
     "data": {
      "text/html": [
       "<div>\n",
       "<style scoped>\n",
       "    .dataframe tbody tr th:only-of-type {\n",
       "        vertical-align: middle;\n",
       "    }\n",
       "\n",
       "    .dataframe tbody tr th {\n",
       "        vertical-align: top;\n",
       "    }\n",
       "\n",
       "    .dataframe thead th {\n",
       "        text-align: right;\n",
       "    }\n",
       "</style>\n",
       "<table border=\"1\" class=\"dataframe\">\n",
       "  <thead>\n",
       "    <tr style=\"text-align: right;\">\n",
       "      <th></th>\n",
       "      <th>Date</th>\n",
       "      <th>Close</th>\n",
       "    </tr>\n",
       "  </thead>\n",
       "  <tbody>\n",
       "    <tr>\n",
       "      <th>0</th>\n",
       "      <td>2020-01-21</td>\n",
       "      <td>NaN</td>\n",
       "    </tr>\n",
       "    <tr>\n",
       "      <th>1</th>\n",
       "      <td>2020-01-22</td>\n",
       "      <td>NaN</td>\n",
       "    </tr>\n",
       "    <tr>\n",
       "      <th>2</th>\n",
       "      <td>2020-01-23</td>\n",
       "      <td>NaN</td>\n",
       "    </tr>\n",
       "    <tr>\n",
       "      <th>3</th>\n",
       "      <td>2020-01-24</td>\n",
       "      <td>NaN</td>\n",
       "    </tr>\n",
       "    <tr>\n",
       "      <th>4</th>\n",
       "      <td>2020-01-25</td>\n",
       "      <td>NaN</td>\n",
       "    </tr>\n",
       "    <tr>\n",
       "      <th>...</th>\n",
       "      <td>...</td>\n",
       "      <td>...</td>\n",
       "    </tr>\n",
       "    <tr>\n",
       "      <th>744</th>\n",
       "      <td>2022-02-03</td>\n",
       "      <td>NaN</td>\n",
       "    </tr>\n",
       "    <tr>\n",
       "      <th>745</th>\n",
       "      <td>2022-02-04</td>\n",
       "      <td>NaN</td>\n",
       "    </tr>\n",
       "    <tr>\n",
       "      <th>746</th>\n",
       "      <td>2022-02-05</td>\n",
       "      <td>NaN</td>\n",
       "    </tr>\n",
       "    <tr>\n",
       "      <th>747</th>\n",
       "      <td>2022-02-06</td>\n",
       "      <td>NaN</td>\n",
       "    </tr>\n",
       "    <tr>\n",
       "      <th>748</th>\n",
       "      <td>2022-02-07</td>\n",
       "      <td>NaN</td>\n",
       "    </tr>\n",
       "  </tbody>\n",
       "</table>\n",
       "<p>749 rows × 2 columns</p>\n",
       "</div>"
      ],
      "text/plain": [
       "           Date  Close\n",
       "0    2020-01-21    NaN\n",
       "1    2020-01-22    NaN\n",
       "2    2020-01-23    NaN\n",
       "3    2020-01-24    NaN\n",
       "4    2020-01-25    NaN\n",
       "..          ...    ...\n",
       "744  2022-02-03    NaN\n",
       "745  2022-02-04    NaN\n",
       "746  2022-02-05    NaN\n",
       "747  2022-02-06    NaN\n",
       "748  2022-02-07    NaN\n",
       "\n",
       "[749 rows x 2 columns]"
      ]
     },
     "execution_count": 16,
     "metadata": {},
     "output_type": "execute_result"
    }
   ],
   "source": [
    "nasdaq_df = btc_df.drop(columns=['Close','Volume'])\n",
    "nasdaq_df['Close'] = np.nan\n",
    "nasdaq_df"
   ]
  },
  {
   "cell_type": "markdown",
   "metadata": {},
   "source": [
    "This loop here will fill in the the missing Close prices with the Close prices of the last day the market was open. It does this by comparing the dates of the temporary dataframe **nasdaq_df_old** and the dates of the dataframe that will be used, **nasdaq_df**. If **nasdaq_df** has a date that **nasdaq_df_old** does not have, it fills in the Close price of the last day the market was open. If the dates are the same, then it just takes the Close price of that date from **nasdaq_df_old** to **nasdaq_df**."
   ]
  },
  {
   "cell_type": "code",
   "execution_count": 17,
   "metadata": {},
   "outputs": [
    {
     "data": {
      "text/html": [
       "<div>\n",
       "<style scoped>\n",
       "    .dataframe tbody tr th:only-of-type {\n",
       "        vertical-align: middle;\n",
       "    }\n",
       "\n",
       "    .dataframe tbody tr th {\n",
       "        vertical-align: top;\n",
       "    }\n",
       "\n",
       "    .dataframe thead th {\n",
       "        text-align: right;\n",
       "    }\n",
       "</style>\n",
       "<table border=\"1\" class=\"dataframe\">\n",
       "  <thead>\n",
       "    <tr style=\"text-align: right;\">\n",
       "      <th></th>\n",
       "      <th>Date</th>\n",
       "      <th>Close</th>\n",
       "    </tr>\n",
       "  </thead>\n",
       "  <tbody>\n",
       "    <tr>\n",
       "      <th>0</th>\n",
       "      <td>2020-01-21</td>\n",
       "      <td>9370.81</td>\n",
       "    </tr>\n",
       "    <tr>\n",
       "      <th>1</th>\n",
       "      <td>2020-01-22</td>\n",
       "      <td>9383.77</td>\n",
       "    </tr>\n",
       "    <tr>\n",
       "      <th>2</th>\n",
       "      <td>2020-01-23</td>\n",
       "      <td>9402.48</td>\n",
       "    </tr>\n",
       "    <tr>\n",
       "      <th>3</th>\n",
       "      <td>2020-01-24</td>\n",
       "      <td>9314.91</td>\n",
       "    </tr>\n",
       "    <tr>\n",
       "      <th>4</th>\n",
       "      <td>2020-01-25</td>\n",
       "      <td>9314.91</td>\n",
       "    </tr>\n",
       "    <tr>\n",
       "      <th>...</th>\n",
       "      <td>...</td>\n",
       "      <td>...</td>\n",
       "    </tr>\n",
       "    <tr>\n",
       "      <th>744</th>\n",
       "      <td>2022-02-03</td>\n",
       "      <td>13878.82</td>\n",
       "    </tr>\n",
       "    <tr>\n",
       "      <th>745</th>\n",
       "      <td>2022-02-04</td>\n",
       "      <td>14098.01</td>\n",
       "    </tr>\n",
       "    <tr>\n",
       "      <th>746</th>\n",
       "      <td>2022-02-05</td>\n",
       "      <td>14098.01</td>\n",
       "    </tr>\n",
       "    <tr>\n",
       "      <th>747</th>\n",
       "      <td>2022-02-06</td>\n",
       "      <td>14098.01</td>\n",
       "    </tr>\n",
       "    <tr>\n",
       "      <th>748</th>\n",
       "      <td>2022-02-07</td>\n",
       "      <td>14015.67</td>\n",
       "    </tr>\n",
       "  </tbody>\n",
       "</table>\n",
       "<p>749 rows × 2 columns</p>\n",
       "</div>"
      ],
      "text/plain": [
       "           Date     Close\n",
       "0    2020-01-21   9370.81\n",
       "1    2020-01-22   9383.77\n",
       "2    2020-01-23   9402.48\n",
       "3    2020-01-24   9314.91\n",
       "4    2020-01-25   9314.91\n",
       "..          ...       ...\n",
       "744  2022-02-03  13878.82\n",
       "745  2022-02-04  14098.01\n",
       "746  2022-02-05  14098.01\n",
       "747  2022-02-06  14098.01\n",
       "748  2022-02-07  14015.67\n",
       "\n",
       "[749 rows x 2 columns]"
      ]
     },
     "execution_count": 17,
     "metadata": {},
     "output_type": "execute_result"
    }
   ],
   "source": [
    "i = 0\n",
    "j = 0\n",
    "while i < nasdaq_df.shape[0]:\n",
    "    if nasdaq_df_old.iloc[j]['Date'] != nasdaq_df.iloc[i]['Date']:\n",
    "        nasdaq_df.at[i,'Close'] = nasdaq_df_old.iloc[j-1]['Close/Last']\n",
    "    else:\n",
    "        nasdaq_df.at[i,'Close'] = nasdaq_df_old.iloc[j]['Close/Last']\n",
    "        j+=1\n",
    "    i+=1\n",
    "nasdaq_df"
   ]
  },
  {
   "cell_type": "markdown",
   "metadata": {},
   "source": [
    "We can see now that nasdaq_df has the same number of observations as the other dataframes. We can also see that for dates 2022-02-05 and 2022-02-06, which did not exist in **nasdaq_df_old**, that they have the Close price of the last day the market was open which was on 2022-02-04."
   ]
  },
  {
   "cell_type": "markdown",
   "metadata": {},
   "source": [
    "### Missing Values"
   ]
  },
  {
   "cell_type": "markdown",
   "metadata": {},
   "source": [
    "To check for missing values in all datasets, we run:"
   ]
  },
  {
   "cell_type": "code",
   "execution_count": 18,
   "metadata": {},
   "outputs": [
    {
     "data": {
      "text/plain": [
       "False"
      ]
     },
     "execution_count": 18,
     "metadata": {},
     "output_type": "execute_result"
    }
   ],
   "source": [
    "eth_df.isnull().values.any()"
   ]
  },
  {
   "cell_type": "code",
   "execution_count": 19,
   "metadata": {},
   "outputs": [
    {
     "data": {
      "text/plain": [
       "False"
      ]
     },
     "execution_count": 19,
     "metadata": {},
     "output_type": "execute_result"
    }
   ],
   "source": [
    "btc_df.isnull().values.any()"
   ]
  },
  {
   "cell_type": "code",
   "execution_count": 20,
   "metadata": {},
   "outputs": [
    {
     "data": {
      "text/plain": [
       "False"
      ]
     },
     "execution_count": 20,
     "metadata": {},
     "output_type": "execute_result"
    }
   ],
   "source": [
    "covid_df.isnull().values.any()"
   ]
  },
  {
   "cell_type": "code",
   "execution_count": 21,
   "metadata": {},
   "outputs": [
    {
     "data": {
      "text/plain": [
       "False"
      ]
     },
     "execution_count": 21,
     "metadata": {},
     "output_type": "execute_result"
    }
   ],
   "source": [
    "nasdaq_df.isnull().values.any()"
   ]
  },
  {
   "cell_type": "markdown",
   "metadata": {},
   "source": [
    "Now all our datasets are clean and correctly formatted for analysis."
   ]
  },
  {
   "cell_type": "markdown",
   "metadata": {},
   "source": [
    "# Data Analysis & Results (EDA)"
   ]
  },
  {
   "cell_type": "markdown",
   "metadata": {},
   "source": [
    "Data visualization for the price of Etheruem from 2020-01-21 to 2022-02-07 stored in **eth_df**."
   ]
  },
  {
   "cell_type": "code",
   "execution_count": 22,
   "metadata": {},
   "outputs": [
    {
     "data": {
      "image/png": "[encoded data removed]",
      "text/plain": [
       "<Figure size 432x288 with 1 Axes>"
      ]
     },
     "metadata": {
      "needs_background": "light"
     },
     "output_type": "display_data"
    }
   ],
   "source": [
    "#ETH\n",
    "bar_plot = sns.barplot(x=\"Date\", y=\"Close\", data=eth_df)\n",
    "for index, label in enumerate(bar_plot.get_xticklabels()):\n",
    "   if index % 365 == 0:\n",
    "      label.set_visible(True)\n",
    "   else:\n",
    "      label.set_visible(False)"
   ]
  },
  {
   "cell_type": "markdown",
   "metadata": {},
   "source": [
    "## \n",
    "Data visualization for the price of Bitcoin from 2020-01-21 to 2022-02-07 stored in **btc_df**."
   ]
  },
  {
   "cell_type": "code",
   "execution_count": 23,
   "metadata": {},
   "outputs": [
    {
     "data": {
      "image/png": "[encoded data removed]",
      "text/plain": [
       "<Figure size 432x288 with 1 Axes>"
      ]
     },
     "metadata": {
      "needs_background": "light"
     },
     "output_type": "display_data"
    }
   ],
   "source": [
    "# BTC\n",
    "bar_plot = sns.barplot(x=\"Date\", y=\"Close\", data=btc_df)\n",
    "for index, label in enumerate(bar_plot.get_xticklabels()):\n",
    "   if index % 365 == 0:\n",
    "      label.set_visible(True)\n",
    "   else:\n",
    "      label.set_visible(False)"
   ]
  },
  {
   "cell_type": "markdown",
   "metadata": {},
   "source": [
    "## \n",
    "Data visualization for the total number of covid cases from 2020-01-21 to 2022-02-07 stored in **covid_df**."
   ]
  },
  {
   "cell_type": "code",
   "execution_count": 24,
   "metadata": {},
   "outputs": [
    {
     "data": {
      "image/png": "[encoded data removed]",
      "text/plain": [
       "<Figure size 432x288 with 1 Axes>"
      ]
     },
     "metadata": {
      "needs_background": "light"
     },
     "output_type": "display_data"
    }
   ],
   "source": [
    "# Covid\n",
    "bar_plot = sns.barplot(x=\"date\", y=\"cases\", data=covid_df)\n",
    "for index, label in enumerate(bar_plot.get_xticklabels()):\n",
    "   if index % 365 == 0:\n",
    "      label.set_visible(True)\n",
    "   else:\n",
    "      label.set_visible(False)"
   ]
  },
  {
   "cell_type": "markdown",
   "metadata": {},
   "source": [
    "## \n",
    "Data visualization for the number of daily new covid cases from 2020-01-21 to 2022-02-07 stored in **covid_df**."
   ]
  },
  {
   "cell_type": "code",
   "execution_count": 25,
   "metadata": {},
   "outputs": [
    {
     "data": {
      "image/png": "[encoded data removed]",
      "text/plain": [
       "<Figure size 432x288 with 1 Axes>"
      ]
     },
     "metadata": {
      "needs_background": "light"
     },
     "output_type": "display_data"
    }
   ],
   "source": [
    "#New Cases\n",
    "bar_plot = sns.barplot(x=\"date\", y=\"new cases\", data=covid_df)\n",
    "for index, label in enumerate(bar_plot.get_xticklabels()):\n",
    "   if index % 365 == 0:\n",
    "      label.set_visible(True)\n",
    "   else:\n",
    "      label.set_visible(False)"
   ]
  },
  {
   "cell_type": "markdown",
   "metadata": {},
   "source": [
    "## \n",
    "Data visualization for the close price of the Nasdaq from 2020-01-21 to 2022-02-07 stored in **nasdaq_df**."
   ]
  },
  {
   "cell_type": "code",
   "execution_count": 26,
   "metadata": {},
   "outputs": [
    {
     "data": {
      "image/png": "[encoded data removed]",
      "text/plain": [
       "<Figure size 432x288 with 1 Axes>"
      ]
     },
     "metadata": {
      "needs_background": "light"
     },
     "output_type": "display_data"
    }
   ],
   "source": [
    "# Nasdaq\n",
    "bar_plot = sns.barplot(x=\"Date\", y=\"Close\", data=nasdaq_df)\n",
    "for index, label in enumerate(bar_plot.get_xticklabels()):\n",
    "   if index % 365 == 0:\n",
    "      label.set_visible(True)\n",
    "   else:\n",
    "      label.set_visible(False)"
   ]
  },
  {
   "cell_type": "markdown",
   "metadata": {},
   "source": [
    "## Data Description"
   ]
  },
  {
   "cell_type": "markdown",
   "metadata": {},
   "source": [
    "We need to setup the all the dataframes for a time series analysis where we find the correlation between sets of data. To do this, we call the pct_change() function to find the percent change in covid cases or close prices from one day to the next. Finding the percent changes for each observation will help us in finding the correlation."
   ]
  },
  {
   "cell_type": "code",
   "execution_count": 27,
   "metadata": {},
   "outputs": [],
   "source": [
    "covid_df['change'] = covid_df['new cases'].pct_change()\n",
    "btc_df['Returns'] = btc_df['Close'].pct_change()\n",
    "eth_df['Returns'] = eth_df['Close'].pct_change()\n",
    "nasdaq_df['Returns'] = nasdaq_df['Close'].pct_change()\n",
    "covid_df['change'].replace([np.inf, -np.inf], np.nan, inplace=True)"
   ]
  },
  {
   "cell_type": "markdown",
   "metadata": {},
   "source": [
    "### ETH Price Data Description\n",
    "\n",
    "#### What distributions do your variables take?\n",
    "\n",
    "The distributions from the graph follows Poisson distribution, that shows the probability of events (in this case, represented by ETH trading volumes) in a specific interval of time (here, 21st Jan 2020 to 20th Jan 2022). \n",
    "\n",
    "\n",
    "#### Are there any outliers?\n",
    "\n",
    "There are no ridiculous values caused by errors in measure and are all possible values for BTC prices to reach. To sum up, there are no outliers. \n"
   ]
  },
  {
   "cell_type": "markdown",
   "metadata": {},
   "source": [
    "#### What is the correlation?"
   ]
  },
  {
   "cell_type": "markdown",
   "metadata": {},
   "source": [
    "We can plot the correlation between the percent change in daily covid cases and the percent change of the close prices of Etheruem."
   ]
  },
  {
   "cell_type": "code",
   "execution_count": 28,
   "metadata": {
    "scrolled": false
   },
   "outputs": [
    {
     "data": {
      "image/png": "[encoded data removed]",
      "text/plain": [
       "<Figure size 432x288 with 1 Axes>"
      ]
     },
     "metadata": {
      "needs_background": "light"
     },
     "output_type": "display_data"
    }
   ],
   "source": [
    "plt.scatter(covid_df['change'], eth_df['Returns'])\n",
    "plt.show()"
   ]
  },
  {
   "cell_type": "code",
   "execution_count": 29,
   "metadata": {
    "scrolled": true
   },
   "outputs": [
    {
     "data": {
      "text/plain": [
       "-0.06052889316727588"
      ]
     },
     "execution_count": 29,
     "metadata": {},
     "output_type": "execute_result"
    }
   ],
   "source": [
    "correlation = covid_df['change'].corr(btc_df['Returns'])\n",
    "correlation"
   ]
  },
  {
   "cell_type": "markdown",
   "metadata": {},
   "source": [
    "We find that the correlation between the percent change in daily covid cases and the percent change of the close prices of Etheruem is very low."
   ]
  },
  {
   "cell_type": "markdown",
   "metadata": {},
   "source": [
    "### BTC Price Data Description\n",
    "\n",
    "#### What distributions do your variables take?\n",
    "\n",
    "The distributions from the graph follows Poisson distribution, that shows the probability of events (in this case, represented by BTC trading volumes) in a specific interval of time (here, 21st Jan 2020 to 20th Jan 2022). \n",
    "\n",
    "\n",
    "#### Are there any outliers?\n",
    "\n",
    "There are not ridiculously large or small value. BTC prices get very high at around March and April of 2021 but then fell off quickly. However, they are not caused by errors in measure and are possible values for ETH prices to reach. To sum up, there are no outliers. \n"
   ]
  },
  {
   "cell_type": "markdown",
   "metadata": {},
   "source": [
    "#### What is the correlation?"
   ]
  },
  {
   "cell_type": "markdown",
   "metadata": {},
   "source": [
    "We can plot the correlation between the percent change in daily covid cases and the percent change of the close prices of Bitcoin."
   ]
  },
  {
   "cell_type": "code",
   "execution_count": 30,
   "metadata": {},
   "outputs": [
    {
     "data": {
      "image/png": "[encoded data removed]",
      "text/plain": [
       "<Figure size 432x288 with 1 Axes>"
      ]
     },
     "metadata": {
      "needs_background": "light"
     },
     "output_type": "display_data"
    }
   ],
   "source": [
    "plt.scatter(covid_df['change'], btc_df['Returns'])\n",
    "plt.show()"
   ]
  },
  {
   "cell_type": "code",
   "execution_count": 31,
   "metadata": {
    "scrolled": true
   },
   "outputs": [
    {
     "data": {
      "text/plain": [
       "-0.06052889316727588"
      ]
     },
     "execution_count": 31,
     "metadata": {},
     "output_type": "execute_result"
    }
   ],
   "source": [
    "correlation = covid_df['change'].corr(btc_df['Returns'])\n",
    "correlation"
   ]
  },
  {
   "cell_type": "markdown",
   "metadata": {},
   "source": [
    "We find that the correlation between the percent change in daily covid cases and the percent change of the close prices of Bitcoin is very low."
   ]
  },
  {
   "cell_type": "markdown",
   "metadata": {},
   "source": [
    "### COVID-19 Total Cases Data Description\n",
    "\n",
    "#### What distributions do your variables take?\n",
    "\n",
    "The distributions from the graph follows Poisson distribution, that shows the probability of random events (in this case, the random event is people getting COVID-19, and the data is represented by the sum of new cases on a day added to pre-existing cases number) in a specific interval (from 21st Jan 2020 to 20th Jan 2022).\n",
    "\n",
    "\n",
    "#### Are there any outliers?\n",
    "\n",
    "There are no outliers."
   ]
  },
  {
   "cell_type": "markdown",
   "metadata": {},
   "source": [
    "### COVID-19 Daily New Cases Data Description\n",
    "\n",
    "#### What distributions do your variables take?\n",
    "\n",
    "The distributions from the graph follows Poisson distribution, that shows the probability of random events (in this case, the random event is people getting COVID-19 each day) in a specific interval of time (from 21st Jan 2020 to 20th Jan 2022). \n",
    "\n",
    "\n",
    "#### Are there any outliers?\n",
    "\n",
    "There are no outliers. \n"
   ]
  },
  {
   "cell_type": "markdown",
   "metadata": {},
   "source": [
    "### NASDAQ Index Data Description\n",
    "\n",
    "#### What distributions do your variables take?\n",
    "\n",
    "The distribution from the graph follows Poisson distribution, that shows the probability of random events (in this case, the random event is the volume of trades on Nasdaq Exchange in a day, and the data is represented in the form of Nasdaq index) in a specific interval of time (from 21st Jan 2020 to 20th Jan 2022). \n",
    "\n",
    "\n",
    "#### Are there any outliers?\n",
    "\n",
    "There are no outliers. \n"
   ]
  },
  {
   "cell_type": "markdown",
   "metadata": {},
   "source": [
    "#### What is the correlation?"
   ]
  },
  {
   "cell_type": "markdown",
   "metadata": {},
   "source": [
    "We can plot the correlation between the percent change in daily covid cases and the percent change of the close prices of the Nasdaq."
   ]
  },
  {
   "cell_type": "code",
   "execution_count": 32,
   "metadata": {
    "scrolled": true
   },
   "outputs": [
    {
     "data": {
      "image/png": "[encoded data removed]",
      "text/plain": [
       "<Figure size 432x288 with 1 Axes>"
      ]
     },
     "metadata": {
      "needs_background": "light"
     },
     "output_type": "display_data"
    }
   ],
   "source": [
    "plt.scatter(covid_df['change'], nasdaq_df['Returns'])\n",
    "plt.show()"
   ]
  },
  {
   "cell_type": "code",
   "execution_count": 33,
   "metadata": {
    "scrolled": true
   },
   "outputs": [
    {
     "data": {
      "text/plain": [
       "0.010682328704392"
      ]
     },
     "execution_count": 33,
     "metadata": {},
     "output_type": "execute_result"
    }
   ],
   "source": [
    "correlation = covid_df['change'].corr(nasdaq_df['Returns'])\n",
    "correlation"
   ]
  },
  {
   "cell_type": "markdown",
   "metadata": {},
   "source": [
    "We find that the correlation between the percent change in daily covid cases and the percent change of the close prices of the Nasdaq is very low."
   ]
  },
  {
   "cell_type": "markdown",
   "metadata": {},
   "source": [
    "### Is there even a correlation between cryptocurrency (BTC) and stocks (Nasdaq)?"
   ]
  },
  {
   "cell_type": "markdown",
   "metadata": {},
   "source": [
    "Although this question will have no impact on the main research question, this is an intresting analysis, as if there truly is no correlation between cryptocurrency and stocks, then it would have been a misconception to use stocks as an indicator of the economy in the first place."
   ]
  },
  {
   "cell_type": "markdown",
   "metadata": {},
   "source": [
    "We can plot the correlation between the percent change in the close prices of Bitcoin and the percent change of the close prices of the Nasdaq."
   ]
  },
  {
   "cell_type": "code",
   "execution_count": 34,
   "metadata": {
    "scrolled": false
   },
   "outputs": [
    {
     "data": {
      "image/png": "[encoded data removed]",
      "text/plain": [
       "<Figure size 432x288 with 1 Axes>"
      ]
     },
     "metadata": {
      "needs_background": "light"
     },
     "output_type": "display_data"
    }
   ],
   "source": [
    "plt.scatter(btc_df['Returns'], nasdaq_df['Returns'])\n",
    "plt.show()"
   ]
  },
  {
   "cell_type": "code",
   "execution_count": 35,
   "metadata": {
    "scrolled": true
   },
   "outputs": [
    {
     "data": {
      "text/plain": [
       "0.28542921163950274"
      ]
     },
     "execution_count": 35,
     "metadata": {},
     "output_type": "execute_result"
    }
   ],
   "source": [
    "correlation = btc_df['Returns'].corr(nasdaq_df['Returns'])\n",
    "correlation"
   ]
  },
  {
   "cell_type": "markdown",
   "metadata": {},
   "source": [
    "We find that the correlation between the percent change in daily covid cases and the percent change of the close prices of the Nasdaq low, but there does seem to be a slight correlation. At least the correlation is greater than those of the other comparisons."
   ]
  },
  {
   "cell_type": "markdown",
   "metadata": {},
   "source": [
    "### Relationship between variables\n",
    "\n",
    "Based on the graphs, we can see that there is a slight correlation between the NASDAQ index and the cryptocurrency prices (for both ETH and BTC). \n",
    "As for COVID cases, we do see a trend of growing for cryptocurrency prices when there is a decline in daily new cases of COVID-19. Starting from January 2021, the COVID-19 daily cases experiences a decline and cryptocurrency prices experience a large increase. The decline is not very obvious from the graph but the rising of cryptocurrency price is pretty large, for both ETH and BTC, and such rise is more obvious when it comes to Bitcoin prices. However, when performing a correlation analysis on the data, we get an insignificant value for the correlation.\n",
    "To conclude, COVID-19 cases are not an accurate indicator of cryptocurrency prices."
   ]
  },
  {
   "cell_type": "markdown",
   "metadata": {},
   "source": [
    "# Ethics & Privacy"
   ]
  },
  {
   "cell_type": "markdown",
   "metadata": {},
   "source": [
    "Concerning the topic of privacy, our group should have very little to worry about. We are looking at data at a world-wide scale instead of using surveys, which have a potential to leak private information. All of our data will be sourced from aggragate data that will contain not personal information. Even though we have no privacy concerns, we're faced with other ethical issues. People can potentially misinterpret our analysis and only use covid cases as a predictor for the prices of cyrptocurrency, when in reality, the prices of crypto are influenced by a multitude and variables. Covid cases should not be the sole variable that is considered when predicting cyrptocurrency prices. Additionally there is an inherent bias in our anaylsis where we are observing the largest cryptocurrencies, Bitcoin and Ethereum, while the correlation may be different for smaller coins. The results from our project may influence people's decisions regarding the buying or selling of smaller coins, where the correlation we found for Bitcoin and Ethereum may not hold true. "
   ]
  },
  {
   "cell_type": "markdown",
   "metadata": {},
   "source": [
    "# Conclusion & Discussion"
   ]
  },
  {
   "cell_type": "markdown",
   "metadata": {},
   "source": [
    "As discussed in the \"Relationship between variables\" part, we do not see a correlation between COVID-19 daily new cases and the general shape of cryptocurrency. \n",
    "\n",
    "Even if such correlation can be used as an indicator, statistically a correlation does not indicate causation, and statistically this model might not be a good indicator. Firstly, there is no clear statistical test values to indicate the significance of our model, and hence cannot prove from a statistical aspect that our model is a good indicator for the two variables. Secondly, our data is only recorded from the past two years, when the COVID-19 took place. Historically, pandemic end eventually and COVID-19 does have a high possibility to end in the expected future. As a result, using COVID-19 as the cryptocurrency, which may not extinguish in the expected future, is not statistically a good idea. \n",
    "\n",
    "As a result, our conclusion is that neither NASDAQ or COVID-19 cases is a good indicator for the cryptocurrency prices. "
   ]
  },
  {
   "cell_type": "markdown",
   "metadata": {},
   "source": [
    "# Team Contributions"
   ]
  },
  {
   "cell_type": "markdown",
   "metadata": {},
   "source": [
    "- Marco Paredes\n",
    "    - helped generate research question, helped creating a introduction, helped in the prior work, and helped with researching similar studies. Explained the introduction and prior research in the video.\n",
    "- Alan Hang\n",
    "    - Was involved with data cleaning, general formatting of the notebook, providing descriptions where needed, and the ethics statement. Explained the hypothesis and datasets in the video.\n",
    "- Zehong Li\n",
    "    - Was involved with general formatting of the notebook, data description and analysis, conclusion, and ideas on data analysis. Explained the data analysis in the video.\n",
    "- Danyal Iqbal\n",
    "    - Helped generate research question, helped curate data to be analyzed, and helped create data visualizations. Explained the findings and conclusion in the video."
   ]
  }
 ],
 "metadata": {
  "kernelspec": {
   "display_name": "Python 3 (ipykernel)",
   "language": "python",
   "name": "python3"
  },
  "language_info": {
   "codemirror_mode": {
    "name": "ipython",
    "version": 3
   },
   "file_extension": ".py",
   "mimetype": "text/x-python",
   "name": "python",
   "nbconvert_exporter": "python",
   "pygments_lexer": "ipython3",
   "version": "3.9.13"
  }
 },
 "nbformat": 4,
 "nbformat_minor": 2
}
