{
 "cells": [
  {
   "cell_type": "markdown",
   "metadata": {},
   "source": [
    "# COGS 108 - EDA Checkpoint"
   ]
  },
  {
   "cell_type": "markdown",
   "metadata": {},
   "source": [
    "# Names\n",
    "\n",
    "- Marco Paredes (A15951023)\n",
    "- Alan Hang (A16409702)\n",
    "- Zehong Li (A15852954)\n",
    "- Danyal Iqbal (A16687740)"
   ]
  },
  {
   "cell_type": "markdown",
   "metadata": {},
   "source": [
    "<a id='research_question'></a>\n",
    "# Research Question"
   ]
  },
  {
   "cell_type": "markdown",
   "metadata": {},
   "source": [
    "*Are covid cases a good predictor of the price of cryptocurrency?*"
   ]
  },
  {
   "cell_type": "markdown",
   "metadata": {},
   "source": [
    "# Dataset(s)"
   ]
  },
  {
   "cell_type": "markdown",
   "metadata": {},
   "source": [
    "- Dataset Name: Daily Ethereum(ETH) data\n",
    "- Link to the dataset: https://raw.githubusercontent.com/alhang/csv-files/master/gemini_ETHUSD_day.csv\n",
    "- Number of observations: 749\n",
    "- Description: Daily Ethereum(ETH) data will be used to see daily Bitcoin trends between 2019-2021. The data will indicate changes of the respective stock prices through the year\n",
    "\n",
    "\n",
    "- Dataset Name: Daily Bitcoin(BTC) data\n",
    "- Link to the dataset: https://raw.githubusercontent.com/alhang/csv-files/master/gemini_BTCUSD_day.csv\n",
    "- Number of observations: 749\n",
    "- Description: Daily Bitcoin data will be used to see crypto trends between 2019-2021. The data will indicate changes of the respective stock prices through the year\n",
    "\n",
    "\n",
    "- Dataset Name: Covid data\n",
    "- Link to the dataset:https://raw.githubusercontent.com/nytimes/covid-19-data/master/us.csv\n",
    "- Number of observations: 749\n",
    "- Description: The Covid data will provide data about covid cases in the US between January 2020 until now.\n",
    "\n",
    "\n",
    "- Dataset Name: NASDAQ Historical data\n",
    "- Link to the dataset: https://raw.githubusercontent.com/alhang/csv-files/master/NASDAQ_Historical.csv\n",
    "- Number of observations: 749\n",
    "- Description: Stock market data from March 2019 to December 2021 will indicate stock prices through the year and their major changes. This dataset will be used to compare with the cryptocurrency prices, as stock prices are a good indicator of the economy and how it is affected during covid. \n",
    "\n"
   ]
  },
  {
   "cell_type": "markdown",
   "metadata": {},
   "source": [
    "# Setup"
   ]
  },
  {
   "cell_type": "code",
   "execution_count": 1,
   "metadata": {},
   "outputs": [],
   "source": [
    "%matplotlib inline\n",
    "\n",
    "import numpy as np\n",
    "import pandas as pd\n",
    "import matplotlib.pyplot as plt\n",
    "import math\n",
    "import seaborn as sns\n",
    "\n",
    "import warnings\n",
    "warnings.filterwarnings('ignore')\n",
    "import patsy\n",
    "import statsmodels.api as sm\n",
    "import scipy.stats as stats\n",
    "from scipy.stats import ttest_ind, chisquare, normaltest, t"
   ]
  },
  {
   "cell_type": "code",
   "execution_count": 2,
   "metadata": {},
   "outputs": [],
   "source": [
    "eth_df_raw = pd.read_csv('https://raw.githubusercontent.com/alhang/csv-files/master/gemini_ETHUSD_day.csv', skiprows=1)\n",
    "btc_df_raw = pd.read_csv('https://raw.githubusercontent.com/alhang/csv-files/master/gemini_BTCUSD_day.csv', skiprows=1)\n",
    "covid_df_raw = pd.read_csv('https://raw.githubusercontent.com/nytimes/covid-19-data/master/us.csv')\n",
    "nasdaq_df_raw = pd.read_csv('https://raw.githubusercontent.com/alhang/csv-files/master/NASDAQ_Historical.csv')"
   ]
  },
  {
   "cell_type": "markdown",
   "metadata": {},
   "source": [
    "# Data Cleaning"
   ]
  },
  {
   "cell_type": "markdown",
   "metadata": {},
   "source": [
    "We clean the Ethereum data to only have the date and the closing price from January 21, 2021 to now. We also need to reverse the index order."
   ]
  },
  {
   "cell_type": "code",
   "execution_count": 3,
   "metadata": {},
   "outputs": [
    {
     "data": {
      "text/html": [
       "<div>\n",
       "<style scoped>\n",
       "    .dataframe tbody tr th:only-of-type {\n",
       "        vertical-align: middle;\n",
       "    }\n",
       "\n",
       "    .dataframe tbody tr th {\n",
       "        vertical-align: top;\n",
       "    }\n",
       "\n",
       "    .dataframe thead th {\n",
       "        text-align: right;\n",
       "    }\n",
       "</style>\n",
       "<table border=\"1\" class=\"dataframe\">\n",
       "  <thead>\n",
       "    <tr style=\"text-align: right;\">\n",
       "      <th></th>\n",
       "      <th>Date</th>\n",
       "      <th>Close</th>\n",
       "    </tr>\n",
       "  </thead>\n",
       "  <tbody>\n",
       "    <tr>\n",
       "      <th>0</th>\n",
       "      <td>2020-01-21 04:00:00</td>\n",
       "      <td>168.40</td>\n",
       "    </tr>\n",
       "    <tr>\n",
       "      <th>1</th>\n",
       "      <td>2020-01-22 04:00:00</td>\n",
       "      <td>164.86</td>\n",
       "    </tr>\n",
       "    <tr>\n",
       "      <th>2</th>\n",
       "      <td>2020-01-23 04:00:00</td>\n",
       "      <td>159.13</td>\n",
       "    </tr>\n",
       "    <tr>\n",
       "      <th>3</th>\n",
       "      <td>2020-01-24 04:00:00</td>\n",
       "      <td>158.89</td>\n",
       "    </tr>\n",
       "    <tr>\n",
       "      <th>4</th>\n",
       "      <td>2020-01-25 04:00:00</td>\n",
       "      <td>161.18</td>\n",
       "    </tr>\n",
       "    <tr>\n",
       "      <th>...</th>\n",
       "      <td>...</td>\n",
       "      <td>...</td>\n",
       "    </tr>\n",
       "    <tr>\n",
       "      <th>744</th>\n",
       "      <td>2022-02-03 04:00:00</td>\n",
       "      <td>2685.66</td>\n",
       "    </tr>\n",
       "    <tr>\n",
       "      <th>745</th>\n",
       "      <td>2022-02-04 04:00:00</td>\n",
       "      <td>3000.46</td>\n",
       "    </tr>\n",
       "    <tr>\n",
       "      <th>746</th>\n",
       "      <td>2022-02-05 04:00:00</td>\n",
       "      <td>3011.36</td>\n",
       "    </tr>\n",
       "    <tr>\n",
       "      <th>747</th>\n",
       "      <td>2022-02-06 04:00:00</td>\n",
       "      <td>3072.90</td>\n",
       "    </tr>\n",
       "    <tr>\n",
       "      <th>748</th>\n",
       "      <td>2022-02-07 04:00:00</td>\n",
       "      <td>3134.06</td>\n",
       "    </tr>\n",
       "  </tbody>\n",
       "</table>\n",
       "<p>749 rows × 2 columns</p>\n",
       "</div>"
      ],
      "text/plain": [
       "                    Date    Close\n",
       "0    2020-01-21 04:00:00   168.40\n",
       "1    2020-01-22 04:00:00   164.86\n",
       "2    2020-01-23 04:00:00   159.13\n",
       "3    2020-01-24 04:00:00   158.89\n",
       "4    2020-01-25 04:00:00   161.18\n",
       "..                   ...      ...\n",
       "744  2022-02-03 04:00:00  2685.66\n",
       "745  2022-02-04 04:00:00  3000.46\n",
       "746  2022-02-05 04:00:00  3011.36\n",
       "747  2022-02-06 04:00:00  3072.90\n",
       "748  2022-02-07 04:00:00  3134.06\n",
       "\n",
       "[749 rows x 2 columns]"
      ]
     },
     "execution_count": 3,
     "metadata": {},
     "output_type": "execute_result"
    }
   ],
   "source": [
    "eth_df = eth_df_raw.iloc[:749]\n",
    "eth_df = eth_df.sort_values(by=['Date'], ascending=True)\n",
    "eth_df = eth_df.reset_index()\n",
    "eth_df = eth_df.drop(columns=['Unix Timestamp','Symbol','Open','High','Low','Volume','index'])\n",
    "eth_df"
   ]
  },
  {
   "cell_type": "markdown",
   "metadata": {},
   "source": [
    "We clean the Bitcoin data to only have the date and the closing price from January 21, 2021 to now. We also need to reverse the index order."
   ]
  },
  {
   "cell_type": "code",
   "execution_count": 4,
   "metadata": {},
   "outputs": [
    {
     "data": {
      "text/html": [
       "<div>\n",
       "<style scoped>\n",
       "    .dataframe tbody tr th:only-of-type {\n",
       "        vertical-align: middle;\n",
       "    }\n",
       "\n",
       "    .dataframe tbody tr th {\n",
       "        vertical-align: top;\n",
       "    }\n",
       "\n",
       "    .dataframe thead th {\n",
       "        text-align: right;\n",
       "    }\n",
       "</style>\n",
       "<table border=\"1\" class=\"dataframe\">\n",
       "  <thead>\n",
       "    <tr style=\"text-align: right;\">\n",
       "      <th></th>\n",
       "      <th>Date</th>\n",
       "      <th>Close</th>\n",
       "    </tr>\n",
       "  </thead>\n",
       "  <tbody>\n",
       "    <tr>\n",
       "      <th>0</th>\n",
       "      <td>2020-01-21 04:00:00</td>\n",
       "      <td>8697.93</td>\n",
       "    </tr>\n",
       "    <tr>\n",
       "      <th>1</th>\n",
       "      <td>2020-01-22 04:00:00</td>\n",
       "      <td>8559.71</td>\n",
       "    </tr>\n",
       "    <tr>\n",
       "      <th>2</th>\n",
       "      <td>2020-01-23 04:00:00</td>\n",
       "      <td>8310.20</td>\n",
       "    </tr>\n",
       "    <tr>\n",
       "      <th>3</th>\n",
       "      <td>2020-01-24 04:00:00</td>\n",
       "      <td>8286.66</td>\n",
       "    </tr>\n",
       "    <tr>\n",
       "      <th>4</th>\n",
       "      <td>2020-01-25 04:00:00</td>\n",
       "      <td>8346.01</td>\n",
       "    </tr>\n",
       "    <tr>\n",
       "      <th>...</th>\n",
       "      <td>...</td>\n",
       "      <td>...</td>\n",
       "    </tr>\n",
       "    <tr>\n",
       "      <th>744</th>\n",
       "      <td>2022-02-03 04:00:00</td>\n",
       "      <td>37330.90</td>\n",
       "    </tr>\n",
       "    <tr>\n",
       "      <th>745</th>\n",
       "      <td>2022-02-04 04:00:00</td>\n",
       "      <td>41487.51</td>\n",
       "    </tr>\n",
       "    <tr>\n",
       "      <th>746</th>\n",
       "      <td>2022-02-05 04:00:00</td>\n",
       "      <td>41485.00</td>\n",
       "    </tr>\n",
       "    <tr>\n",
       "      <th>747</th>\n",
       "      <td>2022-02-06 04:00:00</td>\n",
       "      <td>42863.79</td>\n",
       "    </tr>\n",
       "    <tr>\n",
       "      <th>748</th>\n",
       "      <td>2022-02-07 04:00:00</td>\n",
       "      <td>43857.45</td>\n",
       "    </tr>\n",
       "  </tbody>\n",
       "</table>\n",
       "<p>749 rows × 2 columns</p>\n",
       "</div>"
      ],
      "text/plain": [
       "                    Date     Close\n",
       "0    2020-01-21 04:00:00   8697.93\n",
       "1    2020-01-22 04:00:00   8559.71\n",
       "2    2020-01-23 04:00:00   8310.20\n",
       "3    2020-01-24 04:00:00   8286.66\n",
       "4    2020-01-25 04:00:00   8346.01\n",
       "..                   ...       ...\n",
       "744  2022-02-03 04:00:00  37330.90\n",
       "745  2022-02-04 04:00:00  41487.51\n",
       "746  2022-02-05 04:00:00  41485.00\n",
       "747  2022-02-06 04:00:00  42863.79\n",
       "748  2022-02-07 04:00:00  43857.45\n",
       "\n",
       "[749 rows x 2 columns]"
      ]
     },
     "execution_count": 4,
     "metadata": {},
     "output_type": "execute_result"
    }
   ],
   "source": [
    "btc_df = btc_df_raw.iloc[:749]\n",
    "btc_df = btc_df.sort_values(by=['Date'], ascending=True)\n",
    "btc_df = btc_df.reset_index()\n",
    "btc_df = btc_df.drop(columns=['Unix Timestamp','Symbol','Open','High','Low','Volume','index'])\n",
    "btc_df"
   ]
  },
  {
   "cell_type": "markdown",
   "metadata": {},
   "source": [
    "We clean the covid dataset to only have the date and cases and reverse the order of the indices."
   ]
  },
  {
   "cell_type": "code",
   "execution_count": 5,
   "metadata": {},
   "outputs": [
    {
     "data": {
      "text/html": [
       "<div>\n",
       "<style scoped>\n",
       "    .dataframe tbody tr th:only-of-type {\n",
       "        vertical-align: middle;\n",
       "    }\n",
       "\n",
       "    .dataframe tbody tr th {\n",
       "        vertical-align: top;\n",
       "    }\n",
       "\n",
       "    .dataframe thead th {\n",
       "        text-align: right;\n",
       "    }\n",
       "</style>\n",
       "<table border=\"1\" class=\"dataframe\">\n",
       "  <thead>\n",
       "    <tr style=\"text-align: right;\">\n",
       "      <th></th>\n",
       "      <th>date</th>\n",
       "      <th>cases</th>\n",
       "    </tr>\n",
       "  </thead>\n",
       "  <tbody>\n",
       "    <tr>\n",
       "      <th>0</th>\n",
       "      <td>2020-01-21</td>\n",
       "      <td>1</td>\n",
       "    </tr>\n",
       "    <tr>\n",
       "      <th>1</th>\n",
       "      <td>2020-01-22</td>\n",
       "      <td>1</td>\n",
       "    </tr>\n",
       "    <tr>\n",
       "      <th>2</th>\n",
       "      <td>2020-01-23</td>\n",
       "      <td>1</td>\n",
       "    </tr>\n",
       "    <tr>\n",
       "      <th>3</th>\n",
       "      <td>2020-01-24</td>\n",
       "      <td>2</td>\n",
       "    </tr>\n",
       "    <tr>\n",
       "      <th>4</th>\n",
       "      <td>2020-01-25</td>\n",
       "      <td>3</td>\n",
       "    </tr>\n",
       "    <tr>\n",
       "      <th>...</th>\n",
       "      <td>...</td>\n",
       "      <td>...</td>\n",
       "    </tr>\n",
       "    <tr>\n",
       "      <th>744</th>\n",
       "      <td>2022-02-03</td>\n",
       "      <td>75924104</td>\n",
       "    </tr>\n",
       "    <tr>\n",
       "      <th>745</th>\n",
       "      <td>2022-02-04</td>\n",
       "      <td>76236308</td>\n",
       "    </tr>\n",
       "    <tr>\n",
       "      <th>746</th>\n",
       "      <td>2022-02-05</td>\n",
       "      <td>76359901</td>\n",
       "    </tr>\n",
       "    <tr>\n",
       "      <th>747</th>\n",
       "      <td>2022-02-06</td>\n",
       "      <td>76418378</td>\n",
       "    </tr>\n",
       "    <tr>\n",
       "      <th>748</th>\n",
       "      <td>2022-02-07</td>\n",
       "      <td>76766497</td>\n",
       "    </tr>\n",
       "  </tbody>\n",
       "</table>\n",
       "<p>749 rows × 2 columns</p>\n",
       "</div>"
      ],
      "text/plain": [
       "           date     cases\n",
       "0    2020-01-21         1\n",
       "1    2020-01-22         1\n",
       "2    2020-01-23         1\n",
       "3    2020-01-24         2\n",
       "4    2020-01-25         3\n",
       "..          ...       ...\n",
       "744  2022-02-03  75924104\n",
       "745  2022-02-04  76236308\n",
       "746  2022-02-05  76359901\n",
       "747  2022-02-06  76418378\n",
       "748  2022-02-07  76766497\n",
       "\n",
       "[749 rows x 2 columns]"
      ]
     },
     "execution_count": 5,
     "metadata": {},
     "output_type": "execute_result"
    }
   ],
   "source": [
    "covid_df = covid_df_raw.drop(columns=['deaths'])\n",
    "covid_df = covid_df.iloc[:749]\n",
    "covid_df"
   ]
  },
  {
   "cell_type": "markdown",
   "metadata": {},
   "source": [
    "We clean the Nasdaq data to only include the date and the closing price from January 21, 2021 to now. We also need to reverse the index order and change the date from MM/DD/YY format to YY/MM/DD format."
   ]
  },
  {
   "cell_type": "code",
   "execution_count": null,
   "metadata": {},
   "outputs": [],
   "source": []
  },
  {
   "cell_type": "markdown",
   "metadata": {},
   "source": [
    "To check for missing values in all datasets, we run:"
   ]
  },
  {
   "cell_type": "code",
   "execution_count": 6,
   "metadata": {},
   "outputs": [
    {
     "data": {
      "text/plain": [
       "False"
      ]
     },
     "execution_count": 6,
     "metadata": {},
     "output_type": "execute_result"
    }
   ],
   "source": [
    "eth_df.isnull().values.any()"
   ]
  },
  {
   "cell_type": "code",
   "execution_count": 7,
   "metadata": {},
   "outputs": [
    {
     "data": {
      "text/plain": [
       "False"
      ]
     },
     "execution_count": 7,
     "metadata": {},
     "output_type": "execute_result"
    }
   ],
   "source": [
    "btc_df.isnull().values.any()"
   ]
  },
  {
   "cell_type": "code",
   "execution_count": 8,
   "metadata": {},
   "outputs": [
    {
     "data": {
      "text/plain": [
       "False"
      ]
     },
     "execution_count": 8,
     "metadata": {},
     "output_type": "execute_result"
    }
   ],
   "source": [
    "covid_df.isnull().values.any()"
   ]
  },
  {
   "cell_type": "code",
   "execution_count": 9,
   "metadata": {},
   "outputs": [],
   "source": [
    "#nasdaq_df.isnull().values.any()"
   ]
  },
  {
   "cell_type": "markdown",
   "metadata": {},
   "source": [
    "Now all our datasets are clean and correctly formatted for analysis."
   ]
  },
  {
<<<<<<< Updated upstream
   "cell_type": "markdown",
   "metadata": {},
   "source": [
    "The data can be combined into a single dataframe for analysis. But we need to standardize the dates for btc_df and eth_df."
   ]
  },
  {
   "cell_type": "code",
   "execution_count": 10,
   "metadata": {},
   "outputs": [],
   "source": [
    "def standardize_date(string):\n",
    "    string = string.strip()\n",
    "    \n",
    "    string = string.replace(' 04:00:00','')\n",
    "    \n",
    "    if '/' in string:\n",
    "        string = string[6:10]+'-'+string[0:2]+'-'+string[3:5]\n",
    "    \n",
    "    return string"
   ]
  },
  {
   "cell_type": "code",
   "execution_count": 11,
   "metadata": {},
   "outputs": [
    {
     "data": {
      "text/html": [
       "<div>\n",
       "<style scoped>\n",
       "    .dataframe tbody tr th:only-of-type {\n",
       "        vertical-align: middle;\n",
       "    }\n",
       "\n",
       "    .dataframe tbody tr th {\n",
       "        vertical-align: top;\n",
       "    }\n",
       "\n",
       "    .dataframe thead th {\n",
       "        text-align: right;\n",
       "    }\n",
       "</style>\n",
       "<table border=\"1\" class=\"dataframe\">\n",
       "  <thead>\n",
       "    <tr style=\"text-align: right;\">\n",
       "      <th></th>\n",
       "      <th>Date</th>\n",
       "      <th>Close</th>\n",
       "    </tr>\n",
       "  </thead>\n",
       "  <tbody>\n",
       "    <tr>\n",
       "      <th>0</th>\n",
       "      <td>2020-01-21</td>\n",
       "      <td>8697.93</td>\n",
       "    </tr>\n",
       "    <tr>\n",
       "      <th>1</th>\n",
       "      <td>2020-01-22</td>\n",
       "      <td>8559.71</td>\n",
       "    </tr>\n",
       "    <tr>\n",
       "      <th>2</th>\n",
       "      <td>2020-01-23</td>\n",
       "      <td>8310.20</td>\n",
       "    </tr>\n",
       "    <tr>\n",
       "      <th>3</th>\n",
       "      <td>2020-01-24</td>\n",
       "      <td>8286.66</td>\n",
       "    </tr>\n",
       "    <tr>\n",
       "      <th>4</th>\n",
       "      <td>2020-01-25</td>\n",
       "      <td>8346.01</td>\n",
       "    </tr>\n",
       "    <tr>\n",
       "      <th>...</th>\n",
       "      <td>...</td>\n",
       "      <td>...</td>\n",
       "    </tr>\n",
       "    <tr>\n",
       "      <th>744</th>\n",
       "      <td>2022-02-03</td>\n",
       "      <td>37330.90</td>\n",
       "    </tr>\n",
       "    <tr>\n",
       "      <th>745</th>\n",
       "      <td>2022-02-04</td>\n",
       "      <td>41487.51</td>\n",
       "    </tr>\n",
       "    <tr>\n",
       "      <th>746</th>\n",
       "      <td>2022-02-05</td>\n",
       "      <td>41485.00</td>\n",
       "    </tr>\n",
       "    <tr>\n",
       "      <th>747</th>\n",
       "      <td>2022-02-06</td>\n",
       "      <td>42863.79</td>\n",
       "    </tr>\n",
       "    <tr>\n",
       "      <th>748</th>\n",
       "      <td>2022-02-07</td>\n",
       "      <td>43857.45</td>\n",
       "    </tr>\n",
       "  </tbody>\n",
       "</table>\n",
       "<p>749 rows × 2 columns</p>\n",
       "</div>"
      ],
      "text/plain": [
       "           Date     Close\n",
       "0    2020-01-21   8697.93\n",
       "1    2020-01-22   8559.71\n",
       "2    2020-01-23   8310.20\n",
       "3    2020-01-24   8286.66\n",
       "4    2020-01-25   8346.01\n",
       "..          ...       ...\n",
       "744  2022-02-03  37330.90\n",
       "745  2022-02-04  41487.51\n",
       "746  2022-02-05  41485.00\n",
       "747  2022-02-06  42863.79\n",
       "748  2022-02-07  43857.45\n",
       "\n",
       "[749 rows x 2 columns]"
      ]
     },
     "execution_count": 11,
     "metadata": {},
     "output_type": "execute_result"
    }
   ],
   "source": [
    "btc_df['Date'] = btc_df['Date'].apply(standardize_date)\n",
    "btc_df"
   ]
  },
  {
   "cell_type": "code",
   "execution_count": 12,
   "metadata": {},
   "outputs": [
    {
     "data": {
      "text/html": [
       "<div>\n",
       "<style scoped>\n",
       "    .dataframe tbody tr th:only-of-type {\n",
       "        vertical-align: middle;\n",
       "    }\n",
       "\n",
       "    .dataframe tbody tr th {\n",
       "        vertical-align: top;\n",
       "    }\n",
       "\n",
       "    .dataframe thead th {\n",
       "        text-align: right;\n",
       "    }\n",
       "</style>\n",
       "<table border=\"1\" class=\"dataframe\">\n",
       "  <thead>\n",
       "    <tr style=\"text-align: right;\">\n",
       "      <th></th>\n",
       "      <th>Date</th>\n",
       "      <th>Close</th>\n",
       "    </tr>\n",
       "  </thead>\n",
       "  <tbody>\n",
       "    <tr>\n",
       "      <th>0</th>\n",
       "      <td>2020-01-21</td>\n",
       "      <td>168.40</td>\n",
       "    </tr>\n",
       "    <tr>\n",
       "      <th>1</th>\n",
       "      <td>2020-01-22</td>\n",
       "      <td>164.86</td>\n",
       "    </tr>\n",
       "    <tr>\n",
       "      <th>2</th>\n",
       "      <td>2020-01-23</td>\n",
       "      <td>159.13</td>\n",
       "    </tr>\n",
       "    <tr>\n",
       "      <th>3</th>\n",
       "      <td>2020-01-24</td>\n",
       "      <td>158.89</td>\n",
       "    </tr>\n",
       "    <tr>\n",
       "      <th>4</th>\n",
       "      <td>2020-01-25</td>\n",
       "      <td>161.18</td>\n",
       "    </tr>\n",
       "    <tr>\n",
       "      <th>...</th>\n",
       "      <td>...</td>\n",
       "      <td>...</td>\n",
       "    </tr>\n",
       "    <tr>\n",
       "      <th>744</th>\n",
       "      <td>2022-02-03</td>\n",
       "      <td>2685.66</td>\n",
       "    </tr>\n",
       "    <tr>\n",
       "      <th>745</th>\n",
       "      <td>2022-02-04</td>\n",
       "      <td>3000.46</td>\n",
       "    </tr>\n",
       "    <tr>\n",
       "      <th>746</th>\n",
       "      <td>2022-02-05</td>\n",
       "      <td>3011.36</td>\n",
       "    </tr>\n",
       "    <tr>\n",
       "      <th>747</th>\n",
       "      <td>2022-02-06</td>\n",
       "      <td>3072.90</td>\n",
       "    </tr>\n",
       "    <tr>\n",
       "      <th>748</th>\n",
       "      <td>2022-02-07</td>\n",
       "      <td>3134.06</td>\n",
       "    </tr>\n",
       "  </tbody>\n",
       "</table>\n",
       "<p>749 rows × 2 columns</p>\n",
       "</div>"
      ],
      "text/plain": [
       "           Date    Close\n",
       "0    2020-01-21   168.40\n",
       "1    2020-01-22   164.86\n",
       "2    2020-01-23   159.13\n",
       "3    2020-01-24   158.89\n",
       "4    2020-01-25   161.18\n",
       "..          ...      ...\n",
       "744  2022-02-03  2685.66\n",
       "745  2022-02-04  3000.46\n",
       "746  2022-02-05  3011.36\n",
       "747  2022-02-06  3072.90\n",
       "748  2022-02-07  3134.06\n",
       "\n",
       "[749 rows x 2 columns]"
      ]
     },
     "execution_count": 12,
     "metadata": {},
     "output_type": "execute_result"
    }
   ],
   "source": [
    "eth_df['Date'] = eth_df['Date'].apply(standardize_date)\n",
    "eth_df"
   ]
  },
  {
   "cell_type": "code",
   "execution_count": 13,
   "metadata": {},
   "outputs": [
    {
     "data": {
      "text/html": [
       "<div>\n",
       "<style scoped>\n",
       "    .dataframe tbody tr th:only-of-type {\n",
       "        vertical-align: middle;\n",
       "    }\n",
       "\n",
       "    .dataframe tbody tr th {\n",
       "        vertical-align: top;\n",
       "    }\n",
       "\n",
       "    .dataframe thead th {\n",
       "        text-align: right;\n",
       "    }\n",
       "</style>\n",
       "<table border=\"1\" class=\"dataframe\">\n",
       "  <thead>\n",
       "    <tr style=\"text-align: right;\">\n",
       "      <th></th>\n",
       "      <th>Date</th>\n",
       "      <th>Close/Last</th>\n",
       "    </tr>\n",
       "  </thead>\n",
       "  <tbody>\n",
       "    <tr>\n",
       "      <th>0</th>\n",
       "      <td>2020-01-21</td>\n",
       "      <td>9370.81</td>\n",
       "    </tr>\n",
       "    <tr>\n",
       "      <th>1</th>\n",
       "      <td>2020-01-22</td>\n",
       "      <td>9383.77</td>\n",
       "    </tr>\n",
       "    <tr>\n",
       "      <th>2</th>\n",
       "      <td>2020-01-23</td>\n",
       "      <td>9402.48</td>\n",
       "    </tr>\n",
       "    <tr>\n",
       "      <th>3</th>\n",
       "      <td>2020-01-24</td>\n",
       "      <td>9314.91</td>\n",
       "    </tr>\n",
       "    <tr>\n",
       "      <th>4</th>\n",
       "      <td>2020-01-27</td>\n",
       "      <td>9139.31</td>\n",
       "    </tr>\n",
       "    <tr>\n",
       "      <th>5</th>\n",
       "      <td>2020-01-28</td>\n",
       "      <td>9269.68</td>\n",
       "    </tr>\n",
       "    <tr>\n",
       "      <th>6</th>\n",
       "      <td>2020-01-29</td>\n",
       "      <td>9275.16</td>\n",
       "    </tr>\n",
       "    <tr>\n",
       "      <th>7</th>\n",
       "      <td>2020-01-30</td>\n",
       "      <td>9298.93</td>\n",
       "    </tr>\n",
       "    <tr>\n",
       "      <th>8</th>\n",
       "      <td>2020-01-31</td>\n",
       "      <td>9150.94</td>\n",
       "    </tr>\n",
       "    <tr>\n",
       "      <th>9</th>\n",
       "      <td>2020-02-03</td>\n",
       "      <td>9273.40</td>\n",
       "    </tr>\n",
       "  </tbody>\n",
       "</table>\n",
       "</div>"
      ],
      "text/plain": [
       "         Date  Close/Last\n",
       "0  2020-01-21     9370.81\n",
       "1  2020-01-22     9383.77\n",
       "2  2020-01-23     9402.48\n",
       "3  2020-01-24     9314.91\n",
       "4  2020-01-27     9139.31\n",
       "5  2020-01-28     9269.68\n",
       "6  2020-01-29     9275.16\n",
       "7  2020-01-30     9298.93\n",
       "8  2020-01-31     9150.94\n",
       "9  2020-02-03     9273.40"
      ]
     },
     "execution_count": 13,
     "metadata": {},
     "output_type": "execute_result"
    }
   ],
   "source": [
    "nasdaq_df_raw['Date'] = nasdaq_df_raw['Date'].apply(standardize_date)\n",
    "nasdaq_df = nasdaq_df_raw.iloc[:521]\n",
    "nasdaq_df = nasdaq_df.sort_values(by=['Date'], ascending=True)\n",
    "nasdaq_df = nasdaq_df.reset_index()\n",
    "nasdaq_df = nasdaq_df.drop(columns=['Volume','Open','High','Low','index'])\n",
    "nasdaq_df = nasdaq_df.iloc[:518]\n",
    "nasdaq_df.head(10)"
   ]
  },
  {
   "cell_type": "code",
   "execution_count": 14,
   "metadata": {},
   "outputs": [],
   "source": [
<<<<<<< HEAD
    "## YOUR CODE HERE\n",
    "## FEEL FREE TO ADD MULTIPLE CELLS PER SECTION"
=======
=======
    "nasdaq_df_old = nasdaq_df"
   ]
  },
  {
   "cell_type": "code",
   "execution_count": 15,
   "metadata": {},
   "outputs": [
    {
     "data": {
      "text/html": [
       "<div>\n",
       "<style scoped>\n",
       "    .dataframe tbody tr th:only-of-type {\n",
       "        vertical-align: middle;\n",
       "    }\n",
       "\n",
       "    .dataframe tbody tr th {\n",
       "        vertical-align: top;\n",
       "    }\n",
       "\n",
       "    .dataframe thead th {\n",
       "        text-align: right;\n",
       "    }\n",
       "</style>\n",
       "<table border=\"1\" class=\"dataframe\">\n",
       "  <thead>\n",
       "    <tr style=\"text-align: right;\">\n",
       "      <th></th>\n",
       "      <th>Date</th>\n",
       "      <th>Close</th>\n",
       "    </tr>\n",
       "  </thead>\n",
       "  <tbody>\n",
       "    <tr>\n",
       "      <th>0</th>\n",
       "      <td>2020-01-21</td>\n",
       "      <td>NaN</td>\n",
       "    </tr>\n",
       "    <tr>\n",
       "      <th>1</th>\n",
       "      <td>2020-01-22</td>\n",
       "      <td>NaN</td>\n",
       "    </tr>\n",
       "    <tr>\n",
       "      <th>2</th>\n",
       "      <td>2020-01-23</td>\n",
       "      <td>NaN</td>\n",
       "    </tr>\n",
       "    <tr>\n",
       "      <th>3</th>\n",
       "      <td>2020-01-24</td>\n",
       "      <td>NaN</td>\n",
       "    </tr>\n",
       "    <tr>\n",
       "      <th>4</th>\n",
       "      <td>2020-01-25</td>\n",
       "      <td>NaN</td>\n",
       "    </tr>\n",
       "    <tr>\n",
       "      <th>...</th>\n",
       "      <td>...</td>\n",
       "      <td>...</td>\n",
       "    </tr>\n",
       "    <tr>\n",
       "      <th>744</th>\n",
       "      <td>2022-02-03</td>\n",
       "      <td>NaN</td>\n",
       "    </tr>\n",
       "    <tr>\n",
       "      <th>745</th>\n",
       "      <td>2022-02-04</td>\n",
       "      <td>NaN</td>\n",
       "    </tr>\n",
       "    <tr>\n",
       "      <th>746</th>\n",
       "      <td>2022-02-05</td>\n",
       "      <td>NaN</td>\n",
       "    </tr>\n",
       "    <tr>\n",
       "      <th>747</th>\n",
       "      <td>2022-02-06</td>\n",
       "      <td>NaN</td>\n",
       "    </tr>\n",
       "    <tr>\n",
       "      <th>748</th>\n",
       "      <td>2022-02-07</td>\n",
       "      <td>NaN</td>\n",
       "    </tr>\n",
       "  </tbody>\n",
       "</table>\n",
       "<p>749 rows × 2 columns</p>\n",
       "</div>"
      ],
      "text/plain": [
       "           Date  Close\n",
       "0    2020-01-21    NaN\n",
       "1    2020-01-22    NaN\n",
       "2    2020-01-23    NaN\n",
       "3    2020-01-24    NaN\n",
       "4    2020-01-25    NaN\n",
       "..          ...    ...\n",
       "744  2022-02-03    NaN\n",
       "745  2022-02-04    NaN\n",
       "746  2022-02-05    NaN\n",
       "747  2022-02-06    NaN\n",
       "748  2022-02-07    NaN\n",
       "\n",
       "[749 rows x 2 columns]"
      ]
     },
     "execution_count": 15,
     "metadata": {},
     "output_type": "execute_result"
    }
   ],
   "source": [
    "nasdaq_df = btc_df.drop(columns=['Close'])\n",
    "nasdaq_df['Close'] = np.nan\n",
    "nasdaq_df"
   ]
  },
  {
   "cell_type": "code",
   "execution_count": 16,
   "metadata": {},
   "outputs": [
    {
     "data": {
      "text/html": [
       "<div>\n",
       "<style scoped>\n",
       "    .dataframe tbody tr th:only-of-type {\n",
       "        vertical-align: middle;\n",
       "    }\n",
       "\n",
       "    .dataframe tbody tr th {\n",
       "        vertical-align: top;\n",
       "    }\n",
       "\n",
       "    .dataframe thead th {\n",
       "        text-align: right;\n",
       "    }\n",
       "</style>\n",
       "<table border=\"1\" class=\"dataframe\">\n",
       "  <thead>\n",
       "    <tr style=\"text-align: right;\">\n",
       "      <th></th>\n",
       "      <th>Date</th>\n",
       "      <th>Close</th>\n",
       "    </tr>\n",
       "  </thead>\n",
       "  <tbody>\n",
       "    <tr>\n",
       "      <th>0</th>\n",
       "      <td>2020-01-21</td>\n",
       "      <td>9370.81</td>\n",
       "    </tr>\n",
       "    <tr>\n",
       "      <th>1</th>\n",
       "      <td>2020-01-22</td>\n",
       "      <td>9383.77</td>\n",
       "    </tr>\n",
       "    <tr>\n",
       "      <th>2</th>\n",
       "      <td>2020-01-23</td>\n",
       "      <td>9402.48</td>\n",
       "    </tr>\n",
       "    <tr>\n",
       "      <th>3</th>\n",
       "      <td>2020-01-24</td>\n",
       "      <td>9314.91</td>\n",
       "    </tr>\n",
       "    <tr>\n",
       "      <th>4</th>\n",
       "      <td>2020-01-25</td>\n",
       "      <td>9314.91</td>\n",
       "    </tr>\n",
       "    <tr>\n",
       "      <th>...</th>\n",
       "      <td>...</td>\n",
       "      <td>...</td>\n",
       "    </tr>\n",
       "    <tr>\n",
       "      <th>744</th>\n",
       "      <td>2022-02-03</td>\n",
       "      <td>13878.82</td>\n",
       "    </tr>\n",
       "    <tr>\n",
       "      <th>745</th>\n",
       "      <td>2022-02-04</td>\n",
       "      <td>14098.01</td>\n",
       "    </tr>\n",
       "    <tr>\n",
       "      <th>746</th>\n",
       "      <td>2022-02-05</td>\n",
       "      <td>14098.01</td>\n",
       "    </tr>\n",
       "    <tr>\n",
       "      <th>747</th>\n",
       "      <td>2022-02-06</td>\n",
       "      <td>14098.01</td>\n",
       "    </tr>\n",
       "    <tr>\n",
       "      <th>748</th>\n",
       "      <td>2022-02-07</td>\n",
       "      <td>14015.67</td>\n",
       "    </tr>\n",
       "  </tbody>\n",
       "</table>\n",
       "<p>749 rows × 2 columns</p>\n",
       "</div>"
      ],
      "text/plain": [
       "           Date     Close\n",
       "0    2020-01-21   9370.81\n",
       "1    2020-01-22   9383.77\n",
       "2    2020-01-23   9402.48\n",
       "3    2020-01-24   9314.91\n",
       "4    2020-01-25   9314.91\n",
       "..          ...       ...\n",
       "744  2022-02-03  13878.82\n",
       "745  2022-02-04  14098.01\n",
       "746  2022-02-05  14098.01\n",
       "747  2022-02-06  14098.01\n",
       "748  2022-02-07  14015.67\n",
       "\n",
       "[749 rows x 2 columns]"
      ]
     },
     "execution_count": 16,
     "metadata": {},
     "output_type": "execute_result"
    }
   ],
   "source": [
    "i = 0\n",
    "j = 0\n",
    "while i < nasdaq_df.shape[0]:\n",
    "    if nasdaq_df_old.iloc[j]['Date'] != nasdaq_df.iloc[i]['Date']:\n",
    "        nasdaq_df.at[i,'Close'] = nasdaq_df_old.iloc[j-1]['Close/Last']\n",
    "    else:\n",
    "        nasdaq_df.at[i,'Close'] = nasdaq_df_old.iloc[j]['Close/Last']\n",
    "        j+=1\n",
    "    i+=1\n",
    "nasdaq_df"
   ]
  },
  {
   "cell_type": "markdown",
   "metadata": {},
   "source": [
    "# Data Analysis & Results (EDA)"
   ]
  },
  {
>>>>>>> 1f5640a5927bf54d500643e195f6e541eb906b28
   "cell_type": "markdown",
   "metadata": {},
   "source": [
    "### Linear Regression Modeling on the Nasdaq and Bitcoin Dataframes"
   ]
  },
  {
   "cell_type": "code",
   "execution_count": 17,
   "metadata": {},
   "outputs": [
    {
     "name": "stdout",
     "output_type": "stream",
     "text": [
      "R-squared: 0.769623\n",
      "r-value: 0.877282\n"
     ]
    },
    {
     "data": {
      "image/png": "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\n",
      "text/plain": [
       "<Figure size 432x288 with 1 Axes>"
      ]
     },
     "metadata": {
      "needs_background": "light"
     },
     "output_type": "display_data"
    }
   ],
   "source": [
    "x1 = nasdaq_df['Close']\n",
    "y1 = btc_df['Close']\n",
    "res1 = stats.linregress(x1, y1)\n",
    "print(f\"R-squared: {res1.rvalue**2:.6f}\")\n",
    "print(f\"r-value: {res1.rvalue:.6f}\")\n",
    "plt.plot(x1, y1, 'o', label='original data')\n",
    "plt.plot(x1, res1.intercept + res1.slope*x1, 'r', label='fitted line')\n",
    "plt.title('Nasdaq and Bitcoin')\n",
    "plt.legend()\n",
    "plt.show()"
   ]
  },
  {
   "cell_type": "markdown",
   "metadata": {},
   "source": [
    "## Description\n",
    "\n",
    "### What distributions do your variables take?\n",
    "\n",
    "Our data (specifically, NASDAQ and Bitcoin correlation here) is taken for linear correlation, and does not show normal distribution. \n",
    "\n",
    "\n",
    "### Are there any outliers?\n",
    "\n",
    "From the data it shows that there are outliers when the nasdaq indicator reached around 12500 where bitcoin price starts swinging heavily. The most extreme outlier is at the point where the nasdaq indicator reaches 14000, where the Bitcoin price varies from 30000 to 70000. \n",
    "\n",
    "\n",
    "### Relationship between Variables?\n",
    "\n",
    "The r-value is 0.877282, which indicates that there is a positive correlation between Nasdaq and Bitcoin, and such correlation is strong since ~0.877 is close to 1.0. "
   ]
  },
  {
   "cell_type": "markdown",
   "metadata": {},
   "source": [
    "### Linear Regression Modeling on the Covid Cases and Bitcoin Dataframes"
   ]
  },
  {
   "cell_type": "code",
   "execution_count": 18,
   "metadata": {},
   "outputs": [
    {
     "name": "stdout",
     "output_type": "stream",
     "text": [
      "R-squared: 0.709383\n",
      "r-value: 0.842249\n"
     ]
    },
    {
     "data": {
      "image/png": "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\n",
      "text/plain": [
       "<Figure size 432x288 with 1 Axes>"
      ]
     },
     "metadata": {
      "needs_background": "light"
     },
     "output_type": "display_data"
    }
   ],
   "source": [
    "x2 = covid_df['cases']\n",
    "y2 = btc_df['Close']\n",
    "res2 = stats.linregress(x2, y2)\n",
    "print(f\"R-squared: {res2.rvalue**2:.6f}\")\n",
    "print(f\"r-value: {res2.rvalue:.6f}\")\n",
    "plt.plot(x2, y2, 'o', label='original data')\n",
    "plt.plot(x2, res2.intercept + res2.slope*x2, 'r', label='fitted line')\n",
    "plt.title('Covid Cases and Bitcoin')\n",
    "plt.legend()\n",
    "plt.show()"
   ]
  },
  {
   "cell_type": "markdown",
   "metadata": {},
   "source": [
    "## Description\n",
    "\n",
    "### What distributions do your variables take?\n",
    "\n",
    "Our data (specifically, COVID Cases and Bitcoin correlation here) is taken for linear correlation, and does not show normal distribution. \n",
    "\n",
    "\n",
    "### Are there any outliers?\n",
    "\n",
    "From the data it shows that there are outliers when the covid cases reached around 3e^7 and 4.6e^7, the Bitcoin price start to swing heavily, ranging from 30000 to 65000. The maximum price is even higher at 4.6e^7. These two points can be counted as outliers for the model. \n",
    "\n",
    "\n",
    "### Relationship between Variables?\n",
    "\n",
    "The r-value is 0.842249, which indicates that there is a positive correlation between COVID cases and Bitcoin, and such correlation is strong since ~0.842 is close to 1.0. \n",
    "\n",
    " \n",
    " "
   ]
  },
  {
   "cell_type": "markdown",
   "metadata": {},
   "source": [
    "### Linear Regression Modeling on the Covid Cases and Nasdaq Dataframes"
   ]
  },
  {
   "cell_type": "code",
   "execution_count": 19,
   "metadata": {
    "scrolled": true
   },
   "outputs": [
    {
     "name": "stdout",
     "output_type": "stream",
     "text": [
      "R-squared: 0.786268\n",
      "r-value: 0.886718\n"
     ]
    },
    {
     "data": {
      "image/png": "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\n",
      "text/plain": [
       "<Figure size 432x288 with 1 Axes>"
      ]
     },
     "metadata": {
      "needs_background": "light"
     },
     "output_type": "display_data"
    }
   ],
   "source": [
    "x3 = covid_df['cases']\n",
    "y3 = nasdaq_df['Close']\n",
    "res3 = stats.linregress(x3, y3)\n",
    "print(f\"R-squared: {res3.rvalue**2:.6f}\")\n",
    "print(f\"r-value: {res3.rvalue:.6f}\")\n",
    "plt.plot(x3, y3, 'o', label='original data')\n",
    "plt.plot(x3, res3.intercept + res3.slope*x3, 'r', label='fitted line')\n",
    "plt.title('Covid Cases and Nasdaq')\n",
    "plt.legend()\n",
    "plt.show()"
   ]
  },
  {
   "cell_type": "markdown",
   "metadata": {},
   "source": [
    "## Description\n",
    "\n",
    "### What distributions do your variables take?\n",
    "\n",
    "Our data (specifically, COVID Cases and Nasdaq correlation here) is taken for linear correlation, and does not show normal distribution. \n",
    "\n",
    "\n",
    "### Are there any outliers?\n",
    "\n",
    "From the data it shows that there are outliers when the covid cases reached around 5.5e^7, the Nasdaq indicator starts to lower from 16000 to 14000. \n",
    "\n",
    "\n",
    "### Relationship between Variables?\n",
    "\n",
    "The r-value is 0.886718, which indicates that there is a positive correlation between COVID cases and Bitcoin, and such correlation is strong since ~0.88 is close to 1.0. "
<<<<<<< HEAD
>>>>>>> Stashed changes
=======
>>>>>>> 1f5640a5927bf54d500643e195f6e541eb906b28
   ]
  }
 ],
 "metadata": {
  "kernelspec": {
   "display_name": "Python 3 (ipykernel)",
   "language": "python",
   "name": "python3"
  },
  "language_info": {
   "codemirror_mode": {
    "name": "ipython",
    "version": 3
   },
   "file_extension": ".py",
   "mimetype": "text/x-python",
   "name": "python",
   "nbconvert_exporter": "python",
   "pygments_lexer": "ipython3",
   "version": "3.9.7"
  }
 },
 "nbformat": 4,
 "nbformat_minor": 2
}
