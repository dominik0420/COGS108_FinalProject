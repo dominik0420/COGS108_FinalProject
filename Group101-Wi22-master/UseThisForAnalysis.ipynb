{
 "cells": [
  {
   "cell_type": "markdown",
   "metadata": {},
   "source": [
    "# COGS 108 - Final Project (change this to your project's title)"
   ]
  },
  {
   "cell_type": "markdown",
   "metadata": {},
   "source": [
    "## Permissions\n",
    "\n",
    "Place an `X` in the appropriate bracket below to specify if you would like your group's project to be made available to the public. (Note that student names will be included (but PIDs will be scraped from any groups who include their PIDs).\n",
    "\n",
    "* [  ] YES - make available\n",
    "* [X] NO - keep private"
   ]
  },
  {
   "cell_type": "markdown",
   "metadata": {},
   "source": [
    "# Overview"
   ]
  },
  {
   "cell_type": "markdown",
   "metadata": {},
   "source": [
    "*Fill in your overview here*"
   ]
  },
  {
   "cell_type": "markdown",
   "metadata": {},
   "source": [
    "# Names\n",
    "\n",
    "- Marco Paredes (A15951023)\n",
    "- Alan Hang (A16409702)\n",
    "- Zehong Li (A15852954)\n",
    "- Danyal Iqbal (A16687740)"
   ]
  },
  {
   "cell_type": "markdown",
   "metadata": {},
   "source": [
    "<a id='research_question'></a>\n",
    "# Research Question"
   ]
  },
  {
   "cell_type": "markdown",
   "metadata": {},
   "source": [
    "*Are covid cases a good predictor of the price of cryptocurrency?*"
   ]
  },
  {
   "cell_type": "markdown",
   "metadata": {},
   "source": [
    "<a id='background'></a>\n",
    "\n",
    "## Background & Prior Work"
   ]
  },
  {
   "cell_type": "markdown",
   "metadata": {},
   "source": [
    "*Fill in your background and prior work here* \n",
    "\n",
    "References (include links):\n",
    "- 1)\n",
    "- 2)"
   ]
  },
  {
   "cell_type": "markdown",
   "metadata": {},
   "source": [
    "# Hypothesis\n"
   ]
  },
  {
   "cell_type": "markdown",
   "metadata": {},
   "source": [
    "*We hypothesize that there is a positive correlation between covid cases and the price of cryptocurrencies. The reason for this being that there has been historical evidence of a continual rise of Bitcoin and Etheruem prices since the start of covid in the US. Investors may have found the decentralized nature of cryptocurrency more attractive when the economy of coutnries worldwide became shaky during the global pandemic.*"
   ]
  },
  {
   "cell_type": "markdown",
   "metadata": {},
   "source": [
    "# Dataset(s)"
   ]
  },
  {
   "cell_type": "markdown",
   "metadata": {},
   "source": [
    "- Dataset Name: Daily Ethereum(ETH) data\n",
    "- Link to the dataset: https://raw.githubusercontent.com/alhang/csv-files/master/gemini_ETHUSD_day.csv\n",
    "- Number of observations: 2101\n",
    "- Description: Daily Ethereum(ETH) data will be used to see daily Bitcoin trends between 2019-2021. The data will indicate changes of the respective stock prices through the year\n",
    "\n",
    "\n",
    "- Dataset Name: Daily Bitcoin(BTC) data\n",
    "- Link to the dataset: https://raw.githubusercontent.com/alhang/csv-files/master/gemini_BTCUSD_day.csv\n",
    "- Number of observations: 2315\n",
    "- Description: Daily Bitcoin data will be used to see crypto trends between 2019-2021. The data will indicate changes of the respective stock prices through the year\n",
    "\n",
    "\n",
    "- Dataset Name: Covid data\n",
    "- Link to the dataset:https://raw.githubusercontent.com/nytimes/covid-19-data/master/us.csv\n",
    "- Number of observations: 782\n",
    "- Description: The Covid data will provide data about covid cases in the US between January 2020 until now.\n",
    "\n",
    "\n",
    "- Dataset Name: NASDAQ Historical data\n",
    "- Link to the dataset: https://raw.githubusercontent.com/alhang/csv-files/master/NASDAQ_Historical.csv\n",
    "- Number of observations: 1259\n",
    "- Description: Stock market data from March 2019 to December 2021 will indicate stock prices through the year and their major changes. This dataset will be used to compare with the cryptocurrency prices, as stock prices are a good indicator of the economy and how it is affected during covid. \n",
    "\n"
   ]
  },
  {
   "cell_type": "markdown",
   "metadata": {},
   "source": [
    "# Setup"
   ]
  },
  {
   "cell_type": "code",
   "execution_count": 1,
   "metadata": {},
   "outputs": [],
   "source": [
    "%matplotlib inline\n",
    "\n",
    "import numpy as np\n",
    "import pandas as pd\n",
    "import matplotlib.pyplot as plt\n",
    "import math\n",
    "import seaborn as sns\n",
    "\n",
    "import warnings\n",
    "warnings.filterwarnings('ignore')\n",
    "import patsy\n",
    "import statsmodels.api as sm\n",
    "import scipy.stats as stats\n",
    "from scipy.stats import ttest_ind, chisquare, normaltest, t"
   ]
  },
  {
   "cell_type": "code",
   "execution_count": 2,
   "metadata": {},
   "outputs": [],
   "source": [
    "eth_df_raw = pd.read_csv('https://raw.githubusercontent.com/alhang/csv-files/master/gemini_ETHUSD_day.csv', skiprows=1)\n",
    "btc_df_raw = pd.read_csv('https://raw.githubusercontent.com/alhang/csv-files/master/gemini_BTCUSD_day.csv', skiprows=1)\n",
    "covid_df_raw = pd.read_csv('https://raw.githubusercontent.com/nytimes/covid-19-data/master/us.csv')\n",
    "nasdaq_df_raw = pd.read_csv('https://raw.githubusercontent.com/alhang/csv-files/master/NASDAQ_Historical.csv')"
   ]
  },
  {
   "cell_type": "markdown",
   "metadata": {},
   "source": [
    "# Data Cleaning"
   ]
  },
  {
   "cell_type": "markdown",
   "metadata": {},
   "source": [
    "Let's take a look at the raw Etheruem dataframe and see what needs cleaning."
   ]
  },
  {
   "cell_type": "code",
   "execution_count": 3,
   "metadata": {},
   "outputs": [
    {
     "data": {
      "text/html": [
       "<div>\n",
       "<style scoped>\n",
       "    .dataframe tbody tr th:only-of-type {\n",
       "        vertical-align: middle;\n",
       "    }\n",
       "\n",
       "    .dataframe tbody tr th {\n",
       "        vertical-align: top;\n",
       "    }\n",
       "\n",
       "    .dataframe thead th {\n",
       "        text-align: right;\n",
       "    }\n",
       "</style>\n",
       "<table border=\"1\" class=\"dataframe\">\n",
       "  <thead>\n",
       "    <tr style=\"text-align: right;\">\n",
       "      <th></th>\n",
       "      <th>Unix Timestamp</th>\n",
       "      <th>Date</th>\n",
       "      <th>Symbol</th>\n",
       "      <th>Open</th>\n",
       "      <th>High</th>\n",
       "      <th>Low</th>\n",
       "      <th>Close</th>\n",
       "      <th>Volume</th>\n",
       "    </tr>\n",
       "  </thead>\n",
       "  <tbody>\n",
       "    <tr>\n",
       "      <th>0</th>\n",
       "      <td>1644206400000</td>\n",
       "      <td>2022-02-07 04:00:00</td>\n",
       "      <td>ETHUSD</td>\n",
       "      <td>3072.90</td>\n",
       "      <td>3195.00</td>\n",
       "      <td>3052.59</td>\n",
       "      <td>3134.06</td>\n",
       "      <td>11611.670047</td>\n",
       "    </tr>\n",
       "    <tr>\n",
       "      <th>1</th>\n",
       "      <td>1644120000000</td>\n",
       "      <td>2022-02-06 04:00:00</td>\n",
       "      <td>ETHUSD</td>\n",
       "      <td>3011.36</td>\n",
       "      <td>3077.03</td>\n",
       "      <td>2947.69</td>\n",
       "      <td>3072.90</td>\n",
       "      <td>9226.545834</td>\n",
       "    </tr>\n",
       "    <tr>\n",
       "      <th>2</th>\n",
       "      <td>1644033600000</td>\n",
       "      <td>2022-02-05 04:00:00</td>\n",
       "      <td>ETHUSD</td>\n",
       "      <td>3000.46</td>\n",
       "      <td>3062.85</td>\n",
       "      <td>2964.23</td>\n",
       "      <td>3011.36</td>\n",
       "      <td>7247.098604</td>\n",
       "    </tr>\n",
       "    <tr>\n",
       "      <th>3</th>\n",
       "      <td>1643947200000</td>\n",
       "      <td>2022-02-04 04:00:00</td>\n",
       "      <td>ETHUSD</td>\n",
       "      <td>2685.66</td>\n",
       "      <td>3018.68</td>\n",
       "      <td>2678.05</td>\n",
       "      <td>3000.46</td>\n",
       "      <td>30992.365110</td>\n",
       "    </tr>\n",
       "    <tr>\n",
       "      <th>4</th>\n",
       "      <td>1643860800000</td>\n",
       "      <td>2022-02-03 04:00:00</td>\n",
       "      <td>ETHUSD</td>\n",
       "      <td>2659.30</td>\n",
       "      <td>2700.00</td>\n",
       "      <td>2576.87</td>\n",
       "      <td>2685.66</td>\n",
       "      <td>11232.318486</td>\n",
       "    </tr>\n",
       "    <tr>\n",
       "      <th>...</th>\n",
       "      <td>...</td>\n",
       "      <td>...</td>\n",
       "      <td>...</td>\n",
       "      <td>...</td>\n",
       "      <td>...</td>\n",
       "      <td>...</td>\n",
       "      <td>...</td>\n",
       "      <td>...</td>\n",
       "    </tr>\n",
       "    <tr>\n",
       "      <th>2096</th>\n",
       "      <td>1463112000</td>\n",
       "      <td>2016-05-13 04:00:00</td>\n",
       "      <td>ETHUSD</td>\n",
       "      <td>10.40</td>\n",
       "      <td>11.59</td>\n",
       "      <td>10.20</td>\n",
       "      <td>10.50</td>\n",
       "      <td>1788.043079</td>\n",
       "    </tr>\n",
       "    <tr>\n",
       "      <th>2097</th>\n",
       "      <td>1463025600</td>\n",
       "      <td>2016-05-12 04:00:00</td>\n",
       "      <td>ETHUSD</td>\n",
       "      <td>10.45</td>\n",
       "      <td>12.00</td>\n",
       "      <td>9.92</td>\n",
       "      <td>10.40</td>\n",
       "      <td>2061.012106</td>\n",
       "    </tr>\n",
       "    <tr>\n",
       "      <th>2098</th>\n",
       "      <td>1462939200</td>\n",
       "      <td>2016-05-11 04:00:00</td>\n",
       "      <td>ETHUSD</td>\n",
       "      <td>9.74</td>\n",
       "      <td>10.47</td>\n",
       "      <td>9.69</td>\n",
       "      <td>10.45</td>\n",
       "      <td>3079.531401</td>\n",
       "    </tr>\n",
       "    <tr>\n",
       "      <th>2099</th>\n",
       "      <td>1462852800</td>\n",
       "      <td>2016-05-10 04:00:00</td>\n",
       "      <td>ETHUSD</td>\n",
       "      <td>9.36</td>\n",
       "      <td>9.95</td>\n",
       "      <td>9.36</td>\n",
       "      <td>9.74</td>\n",
       "      <td>764.628290</td>\n",
       "    </tr>\n",
       "    <tr>\n",
       "      <th>2100</th>\n",
       "      <td>1462766400</td>\n",
       "      <td>2016-05-09 04:00:00</td>\n",
       "      <td>ETHUSD</td>\n",
       "      <td>0.00</td>\n",
       "      <td>12.00</td>\n",
       "      <td>0.00</td>\n",
       "      <td>9.36</td>\n",
       "      <td>1376.614767</td>\n",
       "    </tr>\n",
       "  </tbody>\n",
       "</table>\n",
       "<p>2101 rows × 8 columns</p>\n",
       "</div>"
      ],
      "text/plain": [
       "      Unix Timestamp                 Date  Symbol     Open     High      Low  \\\n",
       "0      1644206400000  2022-02-07 04:00:00  ETHUSD  3072.90  3195.00  3052.59   \n",
       "1      1644120000000  2022-02-06 04:00:00  ETHUSD  3011.36  3077.03  2947.69   \n",
       "2      1644033600000  2022-02-05 04:00:00  ETHUSD  3000.46  3062.85  2964.23   \n",
       "3      1643947200000  2022-02-04 04:00:00  ETHUSD  2685.66  3018.68  2678.05   \n",
       "4      1643860800000  2022-02-03 04:00:00  ETHUSD  2659.30  2700.00  2576.87   \n",
       "...              ...                  ...     ...      ...      ...      ...   \n",
       "2096      1463112000  2016-05-13 04:00:00  ETHUSD    10.40    11.59    10.20   \n",
       "2097      1463025600  2016-05-12 04:00:00  ETHUSD    10.45    12.00     9.92   \n",
       "2098      1462939200  2016-05-11 04:00:00  ETHUSD     9.74    10.47     9.69   \n",
       "2099      1462852800  2016-05-10 04:00:00  ETHUSD     9.36     9.95     9.36   \n",
       "2100      1462766400  2016-05-09 04:00:00  ETHUSD     0.00    12.00     0.00   \n",
       "\n",
       "        Close        Volume  \n",
       "0     3134.06  11611.670047  \n",
       "1     3072.90   9226.545834  \n",
       "2     3011.36   7247.098604  \n",
       "3     3000.46  30992.365110  \n",
       "4     2685.66  11232.318486  \n",
       "...       ...           ...  \n",
       "2096    10.50   1788.043079  \n",
       "2097    10.40   2061.012106  \n",
       "2098    10.45   3079.531401  \n",
       "2099     9.74    764.628290  \n",
       "2100     9.36   1376.614767  \n",
       "\n",
       "[2101 rows x 8 columns]"
      ]
     },
     "execution_count": 3,
     "metadata": {},
     "output_type": "execute_result"
    }
   ],
   "source": [
    "eth_df_raw"
   ]
  },
  {
   "cell_type": "markdown",
   "metadata": {},
   "source": [
    "We clean the Ethereum data to only have the date, closing price, and volume from January 21, 2020 to Feburary 7, 2022. We also need to reverse the index order and store the result in **eth_df**."
   ]
  },
  {
   "cell_type": "code",
   "execution_count": 4,
   "metadata": {},
   "outputs": [
    {
     "data": {
      "text/html": [
       "<div>\n",
       "<style scoped>\n",
       "    .dataframe tbody tr th:only-of-type {\n",
       "        vertical-align: middle;\n",
       "    }\n",
       "\n",
       "    .dataframe tbody tr th {\n",
       "        vertical-align: top;\n",
       "    }\n",
       "\n",
       "    .dataframe thead th {\n",
       "        text-align: right;\n",
       "    }\n",
       "</style>\n",
       "<table border=\"1\" class=\"dataframe\">\n",
       "  <thead>\n",
       "    <tr style=\"text-align: right;\">\n",
       "      <th></th>\n",
       "      <th>Date</th>\n",
       "      <th>Close</th>\n",
       "      <th>Volume</th>\n",
       "    </tr>\n",
       "  </thead>\n",
       "  <tbody>\n",
       "    <tr>\n",
       "      <th>0</th>\n",
       "      <td>2020-01-21 04:00:00</td>\n",
       "      <td>168.40</td>\n",
       "      <td>7328.818633</td>\n",
       "    </tr>\n",
       "    <tr>\n",
       "      <th>1</th>\n",
       "      <td>2020-01-22 04:00:00</td>\n",
       "      <td>164.86</td>\n",
       "      <td>17002.813084</td>\n",
       "    </tr>\n",
       "    <tr>\n",
       "      <th>2</th>\n",
       "      <td>2020-01-23 04:00:00</td>\n",
       "      <td>159.13</td>\n",
       "      <td>778.257216</td>\n",
       "    </tr>\n",
       "    <tr>\n",
       "      <th>3</th>\n",
       "      <td>2020-01-24 04:00:00</td>\n",
       "      <td>158.89</td>\n",
       "      <td>7895.695345</td>\n",
       "    </tr>\n",
       "    <tr>\n",
       "      <th>4</th>\n",
       "      <td>2020-01-25 04:00:00</td>\n",
       "      <td>161.18</td>\n",
       "      <td>3947.211172</td>\n",
       "    </tr>\n",
       "    <tr>\n",
       "      <th>...</th>\n",
       "      <td>...</td>\n",
       "      <td>...</td>\n",
       "      <td>...</td>\n",
       "    </tr>\n",
       "    <tr>\n",
       "      <th>744</th>\n",
       "      <td>2022-02-03 04:00:00</td>\n",
       "      <td>2685.66</td>\n",
       "      <td>11232.318486</td>\n",
       "    </tr>\n",
       "    <tr>\n",
       "      <th>745</th>\n",
       "      <td>2022-02-04 04:00:00</td>\n",
       "      <td>3000.46</td>\n",
       "      <td>30992.365110</td>\n",
       "    </tr>\n",
       "    <tr>\n",
       "      <th>746</th>\n",
       "      <td>2022-02-05 04:00:00</td>\n",
       "      <td>3011.36</td>\n",
       "      <td>7247.098604</td>\n",
       "    </tr>\n",
       "    <tr>\n",
       "      <th>747</th>\n",
       "      <td>2022-02-06 04:00:00</td>\n",
       "      <td>3072.90</td>\n",
       "      <td>9226.545834</td>\n",
       "    </tr>\n",
       "    <tr>\n",
       "      <th>748</th>\n",
       "      <td>2022-02-07 04:00:00</td>\n",
       "      <td>3134.06</td>\n",
       "      <td>11611.670047</td>\n",
       "    </tr>\n",
       "  </tbody>\n",
       "</table>\n",
       "<p>749 rows × 3 columns</p>\n",
       "</div>"
      ],
      "text/plain": [
       "                    Date    Close        Volume\n",
       "0    2020-01-21 04:00:00   168.40   7328.818633\n",
       "1    2020-01-22 04:00:00   164.86  17002.813084\n",
       "2    2020-01-23 04:00:00   159.13    778.257216\n",
       "3    2020-01-24 04:00:00   158.89   7895.695345\n",
       "4    2020-01-25 04:00:00   161.18   3947.211172\n",
       "..                   ...      ...           ...\n",
       "744  2022-02-03 04:00:00  2685.66  11232.318486\n",
       "745  2022-02-04 04:00:00  3000.46  30992.365110\n",
       "746  2022-02-05 04:00:00  3011.36   7247.098604\n",
       "747  2022-02-06 04:00:00  3072.90   9226.545834\n",
       "748  2022-02-07 04:00:00  3134.06  11611.670047\n",
       "\n",
       "[749 rows x 3 columns]"
      ]
     },
     "execution_count": 4,
     "metadata": {},
     "output_type": "execute_result"
    }
   ],
   "source": [
    "eth_df = eth_df_raw.iloc[:749]\n",
    "eth_df = eth_df.sort_values(by=['Date'], ascending=True)\n",
    "eth_df = eth_df.reset_index()\n",
    "eth_df = eth_df.drop(columns=['Unix Timestamp','Symbol','Open','High','Low','index'])\n",
    "eth_df"
   ]
  },
  {
   "cell_type": "markdown",
   "metadata": {},
   "source": [
    " "
   ]
  },
  {
   "cell_type": "markdown",
   "metadata": {},
   "source": [
    "Let's take a look at the raw Bitcoin dataframe and see what needs cleaning."
   ]
  },
  {
   "cell_type": "code",
   "execution_count": 5,
   "metadata": {},
   "outputs": [
    {
     "data": {
      "text/html": [
       "<div>\n",
       "<style scoped>\n",
       "    .dataframe tbody tr th:only-of-type {\n",
       "        vertical-align: middle;\n",
       "    }\n",
       "\n",
       "    .dataframe tbody tr th {\n",
       "        vertical-align: top;\n",
       "    }\n",
       "\n",
       "    .dataframe thead th {\n",
       "        text-align: right;\n",
       "    }\n",
       "</style>\n",
       "<table border=\"1\" class=\"dataframe\">\n",
       "  <thead>\n",
       "    <tr style=\"text-align: right;\">\n",
       "      <th></th>\n",
       "      <th>Unix Timestamp</th>\n",
       "      <th>Date</th>\n",
       "      <th>Symbol</th>\n",
       "      <th>Open</th>\n",
       "      <th>High</th>\n",
       "      <th>Low</th>\n",
       "      <th>Close</th>\n",
       "      <th>Volume</th>\n",
       "    </tr>\n",
       "  </thead>\n",
       "  <tbody>\n",
       "    <tr>\n",
       "      <th>0</th>\n",
       "      <td>1644206400000</td>\n",
       "      <td>2022-02-07 04:00:00</td>\n",
       "      <td>BTCUSD</td>\n",
       "      <td>42863.79</td>\n",
       "      <td>44543.78</td>\n",
       "      <td>42238.63</td>\n",
       "      <td>43857.45</td>\n",
       "      <td>1261.930492</td>\n",
       "    </tr>\n",
       "    <tr>\n",
       "      <th>1</th>\n",
       "      <td>1644120000000</td>\n",
       "      <td>2022-02-06 04:00:00</td>\n",
       "      <td>BTCUSD</td>\n",
       "      <td>41485.00</td>\n",
       "      <td>42980.00</td>\n",
       "      <td>41093.90</td>\n",
       "      <td>42863.79</td>\n",
       "      <td>750.096337</td>\n",
       "    </tr>\n",
       "    <tr>\n",
       "      <th>2</th>\n",
       "      <td>1644033600000</td>\n",
       "      <td>2022-02-05 04:00:00</td>\n",
       "      <td>BTCUSD</td>\n",
       "      <td>41487.51</td>\n",
       "      <td>41942.68</td>\n",
       "      <td>40971.46</td>\n",
       "      <td>41485.00</td>\n",
       "      <td>507.977777</td>\n",
       "    </tr>\n",
       "    <tr>\n",
       "      <th>3</th>\n",
       "      <td>1643947200000</td>\n",
       "      <td>2022-02-04 04:00:00</td>\n",
       "      <td>BTCUSD</td>\n",
       "      <td>37330.90</td>\n",
       "      <td>41996.48</td>\n",
       "      <td>37270.19</td>\n",
       "      <td>41487.51</td>\n",
       "      <td>2401.067754</td>\n",
       "    </tr>\n",
       "    <tr>\n",
       "      <th>4</th>\n",
       "      <td>1643860800000</td>\n",
       "      <td>2022-02-03 04:00:00</td>\n",
       "      <td>BTCUSD</td>\n",
       "      <td>36839.21</td>\n",
       "      <td>37454.49</td>\n",
       "      <td>36272.06</td>\n",
       "      <td>37330.90</td>\n",
       "      <td>1133.191332</td>\n",
       "    </tr>\n",
       "    <tr>\n",
       "      <th>...</th>\n",
       "      <td>...</td>\n",
       "      <td>...</td>\n",
       "      <td>...</td>\n",
       "      <td>...</td>\n",
       "      <td>...</td>\n",
       "      <td>...</td>\n",
       "      <td>...</td>\n",
       "      <td>...</td>\n",
       "    </tr>\n",
       "    <tr>\n",
       "      <th>2310</th>\n",
       "      <td>1444622400</td>\n",
       "      <td>2015-10-12 04:00:00</td>\n",
       "      <td>BTCUSD</td>\n",
       "      <td>248.98</td>\n",
       "      <td>248.98</td>\n",
       "      <td>245.75</td>\n",
       "      <td>245.75</td>\n",
       "      <td>71.047743</td>\n",
       "    </tr>\n",
       "    <tr>\n",
       "      <th>2311</th>\n",
       "      <td>1444536000</td>\n",
       "      <td>2015-10-11 04:00:00</td>\n",
       "      <td>BTCUSD</td>\n",
       "      <td>246.30</td>\n",
       "      <td>249.50</td>\n",
       "      <td>245.96</td>\n",
       "      <td>248.98</td>\n",
       "      <td>22.747091</td>\n",
       "    </tr>\n",
       "    <tr>\n",
       "      <th>2312</th>\n",
       "      <td>1444449600</td>\n",
       "      <td>2015-10-10 04:00:00</td>\n",
       "      <td>BTCUSD</td>\n",
       "      <td>245.51</td>\n",
       "      <td>246.30</td>\n",
       "      <td>244.60</td>\n",
       "      <td>246.30</td>\n",
       "      <td>30.870549</td>\n",
       "    </tr>\n",
       "    <tr>\n",
       "      <th>2313</th>\n",
       "      <td>1444363200</td>\n",
       "      <td>2015-10-09 04:00:00</td>\n",
       "      <td>BTCUSD</td>\n",
       "      <td>243.60</td>\n",
       "      <td>249.97</td>\n",
       "      <td>243.60</td>\n",
       "      <td>245.51</td>\n",
       "      <td>61.587068</td>\n",
       "    </tr>\n",
       "    <tr>\n",
       "      <th>2314</th>\n",
       "      <td>1444276800</td>\n",
       "      <td>2015-10-08 04:00:00</td>\n",
       "      <td>BTCUSD</td>\n",
       "      <td>0.00</td>\n",
       "      <td>245.00</td>\n",
       "      <td>0.00</td>\n",
       "      <td>243.60</td>\n",
       "      <td>34.754703</td>\n",
       "    </tr>\n",
       "  </tbody>\n",
       "</table>\n",
       "<p>2315 rows × 8 columns</p>\n",
       "</div>"
      ],
      "text/plain": [
       "      Unix Timestamp                 Date  Symbol      Open      High  \\\n",
       "0      1644206400000  2022-02-07 04:00:00  BTCUSD  42863.79  44543.78   \n",
       "1      1644120000000  2022-02-06 04:00:00  BTCUSD  41485.00  42980.00   \n",
       "2      1644033600000  2022-02-05 04:00:00  BTCUSD  41487.51  41942.68   \n",
       "3      1643947200000  2022-02-04 04:00:00  BTCUSD  37330.90  41996.48   \n",
       "4      1643860800000  2022-02-03 04:00:00  BTCUSD  36839.21  37454.49   \n",
       "...              ...                  ...     ...       ...       ...   \n",
       "2310      1444622400  2015-10-12 04:00:00  BTCUSD    248.98    248.98   \n",
       "2311      1444536000  2015-10-11 04:00:00  BTCUSD    246.30    249.50   \n",
       "2312      1444449600  2015-10-10 04:00:00  BTCUSD    245.51    246.30   \n",
       "2313      1444363200  2015-10-09 04:00:00  BTCUSD    243.60    249.97   \n",
       "2314      1444276800  2015-10-08 04:00:00  BTCUSD      0.00    245.00   \n",
       "\n",
       "           Low     Close       Volume  \n",
       "0     42238.63  43857.45  1261.930492  \n",
       "1     41093.90  42863.79   750.096337  \n",
       "2     40971.46  41485.00   507.977777  \n",
       "3     37270.19  41487.51  2401.067754  \n",
       "4     36272.06  37330.90  1133.191332  \n",
       "...        ...       ...          ...  \n",
       "2310    245.75    245.75    71.047743  \n",
       "2311    245.96    248.98    22.747091  \n",
       "2312    244.60    246.30    30.870549  \n",
       "2313    243.60    245.51    61.587068  \n",
       "2314      0.00    243.60    34.754703  \n",
       "\n",
       "[2315 rows x 8 columns]"
      ]
     },
     "execution_count": 5,
     "metadata": {},
     "output_type": "execute_result"
    }
   ],
   "source": [
    "btc_df_raw"
   ]
  },
  {
   "cell_type": "markdown",
   "metadata": {},
   "source": [
    "We clean the Bitcoin data to only have the date, closing price, and volume from January 21, 2020 to Feburary 7, 2022. We also need to reverse the index order and store the result in **btc_df**."
   ]
  },
  {
   "cell_type": "code",
   "execution_count": 6,
   "metadata": {},
   "outputs": [
    {
     "data": {
      "text/html": [
       "<div>\n",
       "<style scoped>\n",
       "    .dataframe tbody tr th:only-of-type {\n",
       "        vertical-align: middle;\n",
       "    }\n",
       "\n",
       "    .dataframe tbody tr th {\n",
       "        vertical-align: top;\n",
       "    }\n",
       "\n",
       "    .dataframe thead th {\n",
       "        text-align: right;\n",
       "    }\n",
       "</style>\n",
       "<table border=\"1\" class=\"dataframe\">\n",
       "  <thead>\n",
       "    <tr style=\"text-align: right;\">\n",
       "      <th></th>\n",
       "      <th>Date</th>\n",
       "      <th>Close</th>\n",
       "      <th>Volume</th>\n",
       "    </tr>\n",
       "  </thead>\n",
       "  <tbody>\n",
       "    <tr>\n",
       "      <th>0</th>\n",
       "      <td>2020-01-21 04:00:00</td>\n",
       "      <td>8697.93</td>\n",
       "      <td>876.974281</td>\n",
       "    </tr>\n",
       "    <tr>\n",
       "      <th>1</th>\n",
       "      <td>2020-01-22 04:00:00</td>\n",
       "      <td>8559.71</td>\n",
       "      <td>585.652153</td>\n",
       "    </tr>\n",
       "    <tr>\n",
       "      <th>2</th>\n",
       "      <td>2020-01-23 04:00:00</td>\n",
       "      <td>8310.20</td>\n",
       "      <td>1649.808428</td>\n",
       "    </tr>\n",
       "    <tr>\n",
       "      <th>3</th>\n",
       "      <td>2020-01-24 04:00:00</td>\n",
       "      <td>8286.66</td>\n",
       "      <td>852.842705</td>\n",
       "    </tr>\n",
       "    <tr>\n",
       "      <th>4</th>\n",
       "      <td>2020-01-25 04:00:00</td>\n",
       "      <td>8346.01</td>\n",
       "      <td>308.447364</td>\n",
       "    </tr>\n",
       "    <tr>\n",
       "      <th>...</th>\n",
       "      <td>...</td>\n",
       "      <td>...</td>\n",
       "      <td>...</td>\n",
       "    </tr>\n",
       "    <tr>\n",
       "      <th>744</th>\n",
       "      <td>2022-02-03 04:00:00</td>\n",
       "      <td>37330.90</td>\n",
       "      <td>1133.191332</td>\n",
       "    </tr>\n",
       "    <tr>\n",
       "      <th>745</th>\n",
       "      <td>2022-02-04 04:00:00</td>\n",
       "      <td>41487.51</td>\n",
       "      <td>2401.067754</td>\n",
       "    </tr>\n",
       "    <tr>\n",
       "      <th>746</th>\n",
       "      <td>2022-02-05 04:00:00</td>\n",
       "      <td>41485.00</td>\n",
       "      <td>507.977777</td>\n",
       "    </tr>\n",
       "    <tr>\n",
       "      <th>747</th>\n",
       "      <td>2022-02-06 04:00:00</td>\n",
       "      <td>42863.79</td>\n",
       "      <td>750.096337</td>\n",
       "    </tr>\n",
       "    <tr>\n",
       "      <th>748</th>\n",
       "      <td>2022-02-07 04:00:00</td>\n",
       "      <td>43857.45</td>\n",
       "      <td>1261.930492</td>\n",
       "    </tr>\n",
       "  </tbody>\n",
       "</table>\n",
       "<p>749 rows × 3 columns</p>\n",
       "</div>"
      ],
      "text/plain": [
       "                    Date     Close       Volume\n",
       "0    2020-01-21 04:00:00   8697.93   876.974281\n",
       "1    2020-01-22 04:00:00   8559.71   585.652153\n",
       "2    2020-01-23 04:00:00   8310.20  1649.808428\n",
       "3    2020-01-24 04:00:00   8286.66   852.842705\n",
       "4    2020-01-25 04:00:00   8346.01   308.447364\n",
       "..                   ...       ...          ...\n",
       "744  2022-02-03 04:00:00  37330.90  1133.191332\n",
       "745  2022-02-04 04:00:00  41487.51  2401.067754\n",
       "746  2022-02-05 04:00:00  41485.00   507.977777\n",
       "747  2022-02-06 04:00:00  42863.79   750.096337\n",
       "748  2022-02-07 04:00:00  43857.45  1261.930492\n",
       "\n",
       "[749 rows x 3 columns]"
      ]
     },
     "execution_count": 6,
     "metadata": {},
     "output_type": "execute_result"
    }
   ],
   "source": [
    "btc_df = btc_df_raw.iloc[:749]\n",
    "btc_df = btc_df.sort_values(by=['Date'], ascending=True)\n",
    "btc_df = btc_df.reset_index()\n",
    "btc_df = btc_df.drop(columns=['Unix Timestamp','Symbol','Open','High','Low','index'])\n",
    "btc_df"
   ]
  },
  {
   "cell_type": "markdown",
   "metadata": {},
   "source": [
    " "
   ]
  },
  {
   "cell_type": "markdown",
   "metadata": {},
   "source": [
    "Let's take a look at the raw Covid cases dataframe and see what needs cleaning."
   ]
  },
  {
   "cell_type": "code",
   "execution_count": 7,
   "metadata": {},
   "outputs": [
    {
     "data": {
      "text/html": [
       "<div>\n",
       "<style scoped>\n",
       "    .dataframe tbody tr th:only-of-type {\n",
       "        vertical-align: middle;\n",
       "    }\n",
       "\n",
       "    .dataframe tbody tr th {\n",
       "        vertical-align: top;\n",
       "    }\n",
       "\n",
       "    .dataframe thead th {\n",
       "        text-align: right;\n",
       "    }\n",
       "</style>\n",
       "<table border=\"1\" class=\"dataframe\">\n",
       "  <thead>\n",
       "    <tr style=\"text-align: right;\">\n",
       "      <th></th>\n",
       "      <th>date</th>\n",
       "      <th>cases</th>\n",
       "      <th>deaths</th>\n",
       "    </tr>\n",
       "  </thead>\n",
       "  <tbody>\n",
       "    <tr>\n",
       "      <th>0</th>\n",
       "      <td>2020-01-21</td>\n",
       "      <td>1</td>\n",
       "      <td>0</td>\n",
       "    </tr>\n",
       "    <tr>\n",
       "      <th>1</th>\n",
       "      <td>2020-01-22</td>\n",
       "      <td>1</td>\n",
       "      <td>0</td>\n",
       "    </tr>\n",
       "    <tr>\n",
       "      <th>2</th>\n",
       "      <td>2020-01-23</td>\n",
       "      <td>1</td>\n",
       "      <td>0</td>\n",
       "    </tr>\n",
       "    <tr>\n",
       "      <th>3</th>\n",
       "      <td>2020-01-24</td>\n",
       "      <td>2</td>\n",
       "      <td>0</td>\n",
       "    </tr>\n",
       "    <tr>\n",
       "      <th>4</th>\n",
       "      <td>2020-01-25</td>\n",
       "      <td>3</td>\n",
       "      <td>0</td>\n",
       "    </tr>\n",
       "    <tr>\n",
       "      <th>...</th>\n",
       "      <td>...</td>\n",
       "      <td>...</td>\n",
       "      <td>...</td>\n",
       "    </tr>\n",
       "    <tr>\n",
       "      <th>777</th>\n",
       "      <td>2022-03-08</td>\n",
       "      <td>79270608</td>\n",
       "      <td>960690</td>\n",
       "    </tr>\n",
       "    <tr>\n",
       "      <th>778</th>\n",
       "      <td>2022-03-09</td>\n",
       "      <td>79318304</td>\n",
       "      <td>962503</td>\n",
       "    </tr>\n",
       "    <tr>\n",
       "      <th>779</th>\n",
       "      <td>2022-03-10</td>\n",
       "      <td>79356489</td>\n",
       "      <td>964062</td>\n",
       "    </tr>\n",
       "    <tr>\n",
       "      <th>780</th>\n",
       "      <td>2022-03-11</td>\n",
       "      <td>79400847</td>\n",
       "      <td>965746</td>\n",
       "    </tr>\n",
       "    <tr>\n",
       "      <th>781</th>\n",
       "      <td>2022-03-12</td>\n",
       "      <td>79411749</td>\n",
       "      <td>966218</td>\n",
       "    </tr>\n",
       "  </tbody>\n",
       "</table>\n",
       "<p>782 rows × 3 columns</p>\n",
       "</div>"
      ],
      "text/plain": [
       "           date     cases  deaths\n",
       "0    2020-01-21         1       0\n",
       "1    2020-01-22         1       0\n",
       "2    2020-01-23         1       0\n",
       "3    2020-01-24         2       0\n",
       "4    2020-01-25         3       0\n",
       "..          ...       ...     ...\n",
       "777  2022-03-08  79270608  960690\n",
       "778  2022-03-09  79318304  962503\n",
       "779  2022-03-10  79356489  964062\n",
       "780  2022-03-11  79400847  965746\n",
       "781  2022-03-12  79411749  966218\n",
       "\n",
       "[782 rows x 3 columns]"
      ]
     },
     "execution_count": 7,
     "metadata": {},
     "output_type": "execute_result"
    }
   ],
   "source": [
    "covid_df_raw"
   ]
  },
  {
   "cell_type": "markdown",
   "metadata": {},
   "source": [
    "We clean the covid dataset to only have the date and cases from January 21, 2020 to Feburary 7, 2022 and reverse the order of the indices and store the result in **covid_df**."
   ]
  },
  {
   "cell_type": "code",
   "execution_count": 8,
   "metadata": {},
   "outputs": [
    {
     "data": {
      "text/html": [
       "<div>\n",
       "<style scoped>\n",
       "    .dataframe tbody tr th:only-of-type {\n",
       "        vertical-align: middle;\n",
       "    }\n",
       "\n",
       "    .dataframe tbody tr th {\n",
       "        vertical-align: top;\n",
       "    }\n",
       "\n",
       "    .dataframe thead th {\n",
       "        text-align: right;\n",
       "    }\n",
       "</style>\n",
       "<table border=\"1\" class=\"dataframe\">\n",
       "  <thead>\n",
       "    <tr style=\"text-align: right;\">\n",
       "      <th></th>\n",
       "      <th>date</th>\n",
       "      <th>cases</th>\n",
       "    </tr>\n",
       "  </thead>\n",
       "  <tbody>\n",
       "    <tr>\n",
       "      <th>0</th>\n",
       "      <td>2020-01-21</td>\n",
       "      <td>1</td>\n",
       "    </tr>\n",
       "    <tr>\n",
       "      <th>1</th>\n",
       "      <td>2020-01-22</td>\n",
       "      <td>1</td>\n",
       "    </tr>\n",
       "    <tr>\n",
       "      <th>2</th>\n",
       "      <td>2020-01-23</td>\n",
       "      <td>1</td>\n",
       "    </tr>\n",
       "    <tr>\n",
       "      <th>3</th>\n",
       "      <td>2020-01-24</td>\n",
       "      <td>2</td>\n",
       "    </tr>\n",
       "    <tr>\n",
       "      <th>4</th>\n",
       "      <td>2020-01-25</td>\n",
       "      <td>3</td>\n",
       "    </tr>\n",
       "    <tr>\n",
       "      <th>...</th>\n",
       "      <td>...</td>\n",
       "      <td>...</td>\n",
       "    </tr>\n",
       "    <tr>\n",
       "      <th>744</th>\n",
       "      <td>2022-02-03</td>\n",
       "      <td>75924121</td>\n",
       "    </tr>\n",
       "    <tr>\n",
       "      <th>745</th>\n",
       "      <td>2022-02-04</td>\n",
       "      <td>76236325</td>\n",
       "    </tr>\n",
       "    <tr>\n",
       "      <th>746</th>\n",
       "      <td>2022-02-05</td>\n",
       "      <td>76359918</td>\n",
       "    </tr>\n",
       "    <tr>\n",
       "      <th>747</th>\n",
       "      <td>2022-02-06</td>\n",
       "      <td>76418395</td>\n",
       "    </tr>\n",
       "    <tr>\n",
       "      <th>748</th>\n",
       "      <td>2022-02-07</td>\n",
       "      <td>76766514</td>\n",
       "    </tr>\n",
       "  </tbody>\n",
       "</table>\n",
       "<p>749 rows × 2 columns</p>\n",
       "</div>"
      ],
      "text/plain": [
       "           date     cases\n",
       "0    2020-01-21         1\n",
       "1    2020-01-22         1\n",
       "2    2020-01-23         1\n",
       "3    2020-01-24         2\n",
       "4    2020-01-25         3\n",
       "..          ...       ...\n",
       "744  2022-02-03  75924121\n",
       "745  2022-02-04  76236325\n",
       "746  2022-02-05  76359918\n",
       "747  2022-02-06  76418395\n",
       "748  2022-02-07  76766514\n",
       "\n",
       "[749 rows x 2 columns]"
      ]
     },
     "execution_count": 8,
     "metadata": {},
     "output_type": "execute_result"
    }
   ],
   "source": [
    "covid_df = covid_df_raw.drop(columns=['deaths'])\n",
    "covid_df = covid_df.iloc[:749]\n",
    "covid_df"
   ]
  },
  {
   "cell_type": "markdown",
   "metadata": {},
   "source": [
    "We also want a dataframe that has the number of new cases per day instead of total cases."
   ]
  },
  {
   "cell_type": "markdown",
   "metadata": {},
   "source": [
    "We initialize a new dataframe **newCases_df** that has the dates that we want with a column named \"New Cases\" and make all values in the column NaN."
   ]
  },
  {
   "cell_type": "code",
   "execution_count": 16,
   "metadata": {},
   "outputs": [
    {
     "data": {
      "text/html": [
       "<div>\n",
       "<style scoped>\n",
       "    .dataframe tbody tr th:only-of-type {\n",
       "        vertical-align: middle;\n",
       "    }\n",
       "\n",
       "    .dataframe tbody tr th {\n",
       "        vertical-align: top;\n",
       "    }\n",
       "\n",
       "    .dataframe thead th {\n",
       "        text-align: right;\n",
       "    }\n",
       "</style>\n",
       "<table border=\"1\" class=\"dataframe\">\n",
       "  <thead>\n",
       "    <tr style=\"text-align: right;\">\n",
       "      <th></th>\n",
       "      <th>date</th>\n",
       "      <th>New Cases</th>\n",
       "    </tr>\n",
       "  </thead>\n",
       "  <tbody>\n",
       "    <tr>\n",
       "      <th>0</th>\n",
       "      <td>2020-01-21</td>\n",
       "      <td>NaN</td>\n",
       "    </tr>\n",
       "    <tr>\n",
       "      <th>1</th>\n",
       "      <td>2020-01-22</td>\n",
       "      <td>NaN</td>\n",
       "    </tr>\n",
       "    <tr>\n",
       "      <th>2</th>\n",
       "      <td>2020-01-23</td>\n",
       "      <td>NaN</td>\n",
       "    </tr>\n",
       "    <tr>\n",
       "      <th>3</th>\n",
       "      <td>2020-01-24</td>\n",
       "      <td>NaN</td>\n",
       "    </tr>\n",
       "    <tr>\n",
       "      <th>4</th>\n",
       "      <td>2020-01-25</td>\n",
       "      <td>NaN</td>\n",
       "    </tr>\n",
       "    <tr>\n",
       "      <th>...</th>\n",
       "      <td>...</td>\n",
       "      <td>...</td>\n",
       "    </tr>\n",
       "    <tr>\n",
       "      <th>744</th>\n",
       "      <td>2022-02-03</td>\n",
       "      <td>NaN</td>\n",
       "    </tr>\n",
       "    <tr>\n",
       "      <th>745</th>\n",
       "      <td>2022-02-04</td>\n",
       "      <td>NaN</td>\n",
       "    </tr>\n",
       "    <tr>\n",
       "      <th>746</th>\n",
       "      <td>2022-02-05</td>\n",
       "      <td>NaN</td>\n",
       "    </tr>\n",
       "    <tr>\n",
       "      <th>747</th>\n",
       "      <td>2022-02-06</td>\n",
       "      <td>NaN</td>\n",
       "    </tr>\n",
       "    <tr>\n",
       "      <th>748</th>\n",
       "      <td>2022-02-07</td>\n",
       "      <td>NaN</td>\n",
       "    </tr>\n",
       "  </tbody>\n",
       "</table>\n",
       "<p>749 rows × 2 columns</p>\n",
       "</div>"
      ],
      "text/plain": [
       "           date  New Cases\n",
       "0    2020-01-21        NaN\n",
       "1    2020-01-22        NaN\n",
       "2    2020-01-23        NaN\n",
       "3    2020-01-24        NaN\n",
       "4    2020-01-25        NaN\n",
       "..          ...        ...\n",
       "744  2022-02-03        NaN\n",
       "745  2022-02-04        NaN\n",
       "746  2022-02-05        NaN\n",
       "747  2022-02-06        NaN\n",
       "748  2022-02-07        NaN\n",
       "\n",
       "[749 rows x 2 columns]"
      ]
     },
     "execution_count": 16,
     "metadata": {},
     "output_type": "execute_result"
    }
   ],
   "source": [
    "newCases_df = covid_df.drop(columns=['cases'])\n",
    "newCases_df['New Cases'] = np.nan\n",
    "newCases_df"
   ]
  },
  {
   "cell_type": "markdown",
   "metadata": {},
   "source": [
    "Next, we iterate through the dates of **covid_df** and take the total number of cases of the current date minus the total number of cases of the previous date to find the change in cases from one day to the next. And we make this value the number of new cases on the current date in **newCases_df**."
   ]
  },
  {
   "cell_type": "code",
   "execution_count": 17,
   "metadata": {},
   "outputs": [
    {
     "data": {
      "text/html": [
       "<div>\n",
       "<style scoped>\n",
       "    .dataframe tbody tr th:only-of-type {\n",
       "        vertical-align: middle;\n",
       "    }\n",
       "\n",
       "    .dataframe tbody tr th {\n",
       "        vertical-align: top;\n",
       "    }\n",
       "\n",
       "    .dataframe thead th {\n",
       "        text-align: right;\n",
       "    }\n",
       "</style>\n",
       "<table border=\"1\" class=\"dataframe\">\n",
       "  <thead>\n",
       "    <tr style=\"text-align: right;\">\n",
       "      <th></th>\n",
       "      <th>date</th>\n",
       "      <th>New Cases</th>\n",
       "    </tr>\n",
       "  </thead>\n",
       "  <tbody>\n",
       "    <tr>\n",
       "      <th>0</th>\n",
       "      <td>2020-01-21</td>\n",
       "      <td>1.0</td>\n",
       "    </tr>\n",
       "    <tr>\n",
       "      <th>1</th>\n",
       "      <td>2020-01-22</td>\n",
       "      <td>0.0</td>\n",
       "    </tr>\n",
       "    <tr>\n",
       "      <th>2</th>\n",
       "      <td>2020-01-23</td>\n",
       "      <td>0.0</td>\n",
       "    </tr>\n",
       "    <tr>\n",
       "      <th>3</th>\n",
       "      <td>2020-01-24</td>\n",
       "      <td>1.0</td>\n",
       "    </tr>\n",
       "    <tr>\n",
       "      <th>4</th>\n",
       "      <td>2020-01-25</td>\n",
       "      <td>1.0</td>\n",
       "    </tr>\n",
       "    <tr>\n",
       "      <th>...</th>\n",
       "      <td>...</td>\n",
       "      <td>...</td>\n",
       "    </tr>\n",
       "    <tr>\n",
       "      <th>744</th>\n",
       "      <td>2022-02-03</td>\n",
       "      <td>312242.0</td>\n",
       "    </tr>\n",
       "    <tr>\n",
       "      <th>745</th>\n",
       "      <td>2022-02-04</td>\n",
       "      <td>312204.0</td>\n",
       "    </tr>\n",
       "    <tr>\n",
       "      <th>746</th>\n",
       "      <td>2022-02-05</td>\n",
       "      <td>123593.0</td>\n",
       "    </tr>\n",
       "    <tr>\n",
       "      <th>747</th>\n",
       "      <td>2022-02-06</td>\n",
       "      <td>58477.0</td>\n",
       "    </tr>\n",
       "    <tr>\n",
       "      <th>748</th>\n",
       "      <td>2022-02-07</td>\n",
       "      <td>348119.0</td>\n",
       "    </tr>\n",
       "  </tbody>\n",
       "</table>\n",
       "<p>749 rows × 2 columns</p>\n",
       "</div>"
      ],
      "text/plain": [
       "           date  New Cases\n",
       "0    2020-01-21        1.0\n",
       "1    2020-01-22        0.0\n",
       "2    2020-01-23        0.0\n",
       "3    2020-01-24        1.0\n",
       "4    2020-01-25        1.0\n",
       "..          ...        ...\n",
       "744  2022-02-03   312242.0\n",
       "745  2022-02-04   312204.0\n",
       "746  2022-02-05   123593.0\n",
       "747  2022-02-06    58477.0\n",
       "748  2022-02-07   348119.0\n",
       "\n",
       "[749 rows x 2 columns]"
      ]
     },
     "execution_count": 17,
     "metadata": {},
     "output_type": "execute_result"
    }
   ],
   "source": [
    "i = 0\n",
    "while i < covid_df.shape[0]:\n",
    "    if i == 0:\n",
    "        newCases_df.at[i,'New Cases'] = covid_df.iloc[i]['cases']\n",
    "    else:\n",
    "        newCases_df.at[i,'New Cases'] =  covid_df.iloc[i]['cases'] - covid_df.iloc[i-1]['cases']\n",
    "    i += 1\n",
    "newCases_df"
   ]
  },
  {
   "cell_type": "markdown",
   "metadata": {},
   "source": [
    " "
   ]
  },
  {
   "cell_type": "markdown",
   "metadata": {},
   "source": [
    "We need to standardize the dates for **btc_df** and **eth_df** to not include the time. This process will make analysis of the data easier."
   ]
  },
  {
   "cell_type": "code",
   "execution_count": null,
   "metadata": {},
   "outputs": [],
   "source": [
    "def standardize_date(string):\n",
    "    string = string.strip()\n",
    "    \n",
    "    string = string.replace(' 04:00:00','')\n",
    "    \n",
    "    if '/' in string:\n",
    "        string = string[6:10]+'-'+string[0:2]+'-'+string[3:5]\n",
    "    \n",
    "    return string"
   ]
  },
  {
   "cell_type": "markdown",
   "metadata": {},
   "source": [
    "We apply the standarize_date function to the **btc_df**."
   ]
  },
  {
   "cell_type": "code",
   "execution_count": null,
   "metadata": {},
   "outputs": [],
   "source": [
    "btc_df['Date'] = btc_df['Date'].apply(standardize_date)\n",
    "btc_df"
   ]
  },
  {
   "cell_type": "markdown",
   "metadata": {},
   "source": [
    "Next, we apply the standarize_date function again to the **eth_df**."
   ]
  },
  {
   "cell_type": "code",
   "execution_count": null,
   "metadata": {},
   "outputs": [],
   "source": [
    "eth_df['Date'] = eth_df['Date'].apply(standardize_date)\n",
    "eth_df"
   ]
  },
  {
   "cell_type": "markdown",
   "metadata": {},
   "source": [
    "Now, the timestamps are removed."
   ]
  },
  {
   "cell_type": "markdown",
   "metadata": {},
   "source": [
    " "
   ]
  },
  {
   "cell_type": "markdown",
   "metadata": {},
   "source": [
    "Let's take a look at the raw Nasdaq dataframe and see what needs cleaning."
   ]
  },
  {
   "cell_type": "code",
   "execution_count": null,
   "metadata": {},
   "outputs": [],
   "source": [
    "nasdaq_df_raw"
   ]
  },
  {
   "cell_type": "markdown",
   "metadata": {},
   "source": [
    "We clean the Nasdaq data to only include the date and the closing price from January 21, 2021 to now. We also need to reverse the index order and change the date from MM/DD/YY format to YY/MM/DD format and store the result in **nasdaq_df**."
   ]
  },
  {
   "cell_type": "code",
   "execution_count": null,
   "metadata": {},
   "outputs": [],
   "source": [
    "nasdaq_df_raw['Date'] = nasdaq_df_raw['Date'].apply(standardize_date)\n",
    "nasdaq_df = nasdaq_df_raw.iloc[:521]\n",
    "nasdaq_df = nasdaq_df.sort_values(by=['Date'], ascending=True)\n",
    "nasdaq_df = nasdaq_df.reset_index()\n",
    "nasdaq_df = nasdaq_df.drop(columns=['Volume','Open','High','Low','index'])\n",
    "nasdaq_df = nasdaq_df.iloc[:518]\n",
    "nasdaq_df"
   ]
  },
  {
   "cell_type": "markdown",
   "metadata": {},
   "source": [
    "However, there is an issue here. Even though the start and end dates of the dataframe are the same of the ones for **btc_df**, **eth_df**, and **covid_df**, there are less observations. This is due to the stock markets being closed on weekends and holidays. So, the next step of our data cleaning is to fill in the missing dates with the close prices of the last day the market were open. For example, if the markets were closed for the weekend, we'd use Firday's close price to fill in the missing dates. This process will make analysis more accurate as the dates will line up with the other dataframes."
   ]
  },
  {
   "cell_type": "markdown",
   "metadata": {},
   "source": [
    "Firstly, we take the usable data from **nasdaq_df** and store it in a temporary variable, **nasdaq_df_old**."
   ]
  },
  {
   "cell_type": "code",
   "execution_count": null,
   "metadata": {},
   "outputs": [],
   "source": [
    "nasdaq_df_old = nasdaq_df"
   ]
  },
  {
   "cell_type": "markdown",
   "metadata": {},
   "source": [
    "Then, we replace the dates in **nasdaq_df** with all the continuous dates from 2020-01-21 to 2022-02-07. This will take care of the missing dates. And then we turn the Close price to NaN values. We will fill these NaN values with the Close prices of temporary dataframe in the next step."
   ]
  },
  {
   "cell_type": "code",
   "execution_count": null,
   "metadata": {},
   "outputs": [],
   "source": [
    "nasdaq_df = btc_df.drop(columns=['Close'])\n",
    "nasdaq_df['Close'] = np.nan\n",
    "nasdaq_df"
   ]
  },
  {
   "cell_type": "markdown",
   "metadata": {},
   "source": [
    "This loop here will fill in the the missing Close prices with the Close prices of the last day the market was open. It does this by comparing the dates of the temporary dataframe **nasdaq_df_old** and the dates of the dataframe that will be used, **nasdaq_df**. If **nasdaq_df** has a date that **nasdaq_df_old** does not have, it fills in the Close price of the last day the market was open. If the dates are the same, then it just takes the Close price of that date from **nasdaq_df_old** to **nasdaq_df**."
   ]
  },
  {
   "cell_type": "code",
   "execution_count": null,
   "metadata": {},
   "outputs": [],
   "source": [
    "i = 0\n",
    "j = 0\n",
    "while i < nasdaq_df.shape[0]:\n",
    "    if nasdaq_df_old.iloc[j]['Date'] != nasdaq_df.iloc[i]['Date']:\n",
    "        nasdaq_df.at[i,'Close'] = nasdaq_df_old.iloc[j-1]['Close/Last']\n",
    "    else:\n",
    "        nasdaq_df.at[i,'Close'] = nasdaq_df_old.iloc[j]['Close/Last']\n",
    "        j+=1\n",
    "    i+=1\n",
    "nasdaq_df"
   ]
  },
  {
   "cell_type": "markdown",
   "metadata": {},
   "source": [
    "We can see now that nasdaq_df has the same number of observations as the other dataframes. We can also see that for dates 2022-02-05 and 2022-02-06, which did not exist in **nasdaq_df_old**, that they have the Close price of the last day the market was open which was on 2022-02-04."
   ]
  },
  {
   "cell_type": "markdown",
   "metadata": {},
   "source": [
    "To check for missing values in all datasets, we run:"
   ]
  },
  {
   "cell_type": "code",
   "execution_count": null,
   "metadata": {},
   "outputs": [],
   "source": [
    "eth_df.isnull().values.any()"
   ]
  },
  {
   "cell_type": "code",
   "execution_count": null,
   "metadata": {},
   "outputs": [],
   "source": [
    "btc_df.isnull().values.any()"
   ]
  },
  {
   "cell_type": "code",
   "execution_count": null,
   "metadata": {},
   "outputs": [],
   "source": [
    "covid_df.isnull().values.any()"
   ]
  },
  {
   "cell_type": "code",
   "execution_count": null,
   "metadata": {},
   "outputs": [],
   "source": [
    "nasdaq_df.isnull().values.any()"
   ]
  },
  {
   "cell_type": "markdown",
   "metadata": {},
   "source": [
    "Now all our datasets are clean and correctly formatted for analysis."
   ]
  },
  {
   "cell_type": "markdown",
   "metadata": {},
   "source": [
    "# Data Analysis & Results (EDA)"
   ]
  },
  {
   "cell_type": "markdown",
   "metadata": {},
   "source": [
    "### Linear Regression Modeling on the Nasdaq and Bitcoin Dataframes"
   ]
  },
  {
   "cell_type": "code",
   "execution_count": null,
   "metadata": {},
   "outputs": [],
   "source": [
    "x1 = nasdaq_df['Close']\n",
    "y1 = btc_df['Close']\n",
    "res1 = stats.linregress(x1, y1)\n",
    "print(f\"R-squared: {res1.rvalue**2:.6f}\")\n",
    "print(f\"r-value: {res1.rvalue:.6f}\")\n",
    "plt.plot(x1, y1, 'o', label='original data')\n",
    "plt.plot(x1, res1.intercept + res1.slope*x1, 'r', label='fitted line')\n",
    "plt.title('Nasdaq and Bitcoin')\n",
    "plt.legend()\n",
    "plt.show()"
   ]
  },
  {
   "cell_type": "markdown",
   "metadata": {},
   "source": [
    "## Description\n",
    "\n",
    "### What distributions do your variables take?\n",
    "\n",
    "Our data (specifically, NASDAQ and Bitcoin correlation here) is taken for linear correlation, and does not show normal distribution. \n",
    "\n",
    "\n",
    "### Are there any outliers?\n",
    "\n",
    "From the data it shows that there are outliers when the nasdaq indicator reached around 12500 where bitcoin price starts swinging heavily. The most extreme outlier is at the point where the nasdaq indicator reaches 14000, where the Bitcoin price varies from 30000 to 70000. \n",
    "\n",
    "\n",
    "### Relationship between Variables?\n",
    "\n",
    "The r-value is 0.877282, which indicates that there is a positive correlation between Nasdaq and Bitcoin, and such correlation is strong since ~0.877 is close to 1.0. "
   ]
  },
  {
   "cell_type": "markdown",
   "metadata": {},
   "source": [
    "### Linear Regression Modeling on the Covid Cases and Bitcoin Dataframes"
   ]
  },
  {
   "cell_type": "code",
   "execution_count": null,
   "metadata": {},
   "outputs": [],
   "source": [
    "x2 = covid_df['cases']\n",
    "y2 = btc_df['Close']\n",
    "res2 = stats.linregress(x2, y2)\n",
    "print(f\"R-squared: {res2.rvalue**2:.6f}\")\n",
    "print(f\"r-value: {res2.rvalue:.6f}\")\n",
    "plt.plot(x2, y2, 'o', label='original data')\n",
    "plt.plot(x2, res2.intercept + res2.slope*x2, 'r', label='fitted line')\n",
    "plt.title('Covid Cases and Bitcoin')\n",
    "plt.legend()\n",
    "plt.show()"
   ]
  },
  {
   "cell_type": "markdown",
   "metadata": {},
   "source": [
    "## Description\n",
    "\n",
    "### What distributions do your variables take?\n",
    "\n",
    "Our data (specifically, COVID Cases and Bitcoin correlation here) is taken for linear correlation, and does not show normal distribution. \n",
    "\n",
    "\n",
    "### Are there any outliers?\n",
    "\n",
    "From the data it shows that there are outliers when the covid cases reached around 3e^7 and 4.6e^7, the Bitcoin price start to swing heavily, ranging from 30000 to 65000. The maximum price is even higher at 4.6e^7. These two points can be counted as outliers for the model. \n",
    "\n",
    "\n",
    "### Relationship between Variables?\n",
    "\n",
    "The r-value is 0.842249, which indicates that there is a positive correlation between COVID cases and Bitcoin, and such correlation is strong since ~0.842 is close to 1.0. \n",
    "\n",
    " \n",
    " "
   ]
  },
  {
   "cell_type": "markdown",
   "metadata": {},
   "source": [
    "### Linear Regression Modeling on the Covid Cases and Nasdaq Dataframes"
   ]
  },
  {
   "cell_type": "code",
   "execution_count": null,
   "metadata": {
    "scrolled": true
   },
   "outputs": [],
   "source": [
    "x3 = covid_df['cases']\n",
    "y3 = nasdaq_df['Close']\n",
    "res3 = stats.linregress(x3, y3)\n",
    "print(f\"R-squared: {res3.rvalue**2:.6f}\")\n",
    "print(f\"r-value: {res3.rvalue:.6f}\")\n",
    "plt.plot(x3, y3, 'o', label='original data')\n",
    "plt.plot(x3, res3.intercept + res3.slope*x3, 'r', label='fitted line')\n",
    "plt.title('Covid Cases and Nasdaq')\n",
    "plt.legend()\n",
    "plt.show()"
   ]
  },
  {
   "cell_type": "markdown",
   "metadata": {},
   "source": [
    "## Description\n",
    "\n",
    "### What distributions do your variables take?\n",
    "\n",
    "Our data (specifically, COVID Cases and Nasdaq correlation here) is taken for linear correlation, and does not show normal distribution. \n",
    "\n",
    "\n",
    "### Are there any outliers?\n",
    "\n",
    "From the data it shows that there are outliers when the covid cases reached around 5.5e^7, the Nasdaq indicator starts to lower from 16000 to 14000. \n",
    "\n",
    "\n",
    "### Relationship between Variables?\n",
    "\n",
    "The r-value is 0.886718, which indicates that there is a positive correlation between COVID cases and Bitcoin, and such correlation is strong since ~0.88 is close to 1.0. "
   ]
  },
  {
   "cell_type": "markdown",
   "metadata": {},
   "source": [
    "# Ethics & Privacy"
   ]
  },
  {
   "cell_type": "markdown",
   "metadata": {},
   "source": [
    "Concerning the topic of privacy, our group should have very little to worry about. We are looking at data at a world-wide scale instead of using surveys, which have a potential to leak private information. All of our data will be sourced from aggragate data that will contain not personal information. Even though we have no privacy concerns, we're faced with other ethical issues. People can potentially misinterpret our analysis and only use covid cases as a predictor for the prices of cyrptocurrency, when in reality, the prices of crypto are influenced by a multitude and variables. Covid cases should not be the sole variable that is considered when predicting cyrptocurrency prices. Additionally there is an inherent bias in our anaylsis where we are observing the largest cryptocurrencies, Bitcoin and Ethereum, while the correlation may be different for smaller coins. The results from our project may influence people's decisions regarding the buying or selling of smaller coins, where the correlation we found for Bitcoin and Ethereum may not hold true. "
   ]
  },
  {
   "cell_type": "markdown",
   "metadata": {},
   "source": [
    "# Conclusion & Discussion"
   ]
  },
  {
   "cell_type": "markdown",
   "metadata": {},
   "source": [
    "*Fill in your discussion information here*"
   ]
  },
  {
   "cell_type": "markdown",
   "metadata": {},
   "source": [
    "# Team Contributions"
   ]
  },
  {
   "cell_type": "markdown",
   "metadata": {},
   "source": [
    "- Marco Paredes\n",
    "    - TODO\n",
    "- Alan Hang\n",
    "    - Data Cleaning/ General Formatting/ Ethics\n",
    "- Zehong Li\n",
    "    - TODO\n",
    "- Danyal Iqbal\n",
    "    - TODO"
   ]
  },
  {
   "cell_type": "code",
   "execution_count": null,
   "metadata": {},
   "outputs": [],
   "source": []
  }
 ],
 "metadata": {
  "kernelspec": {
   "display_name": "Python 3 (ipykernel)",
   "language": "python",
   "name": "python3"
  },
  "language_info": {
   "codemirror_mode": {
    "name": "ipython",
    "version": 3
   },
   "file_extension": ".py",
   "mimetype": "text/x-python",
   "name": "python",
   "nbconvert_exporter": "python",
   "pygments_lexer": "ipython3",
   "version": "3.9.7"
  }
 },
 "nbformat": 4,
 "nbformat_minor": 2
}
