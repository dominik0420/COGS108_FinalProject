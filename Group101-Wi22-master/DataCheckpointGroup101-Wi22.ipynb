{
 "cells": [
  {
   "cell_type": "markdown",
   "metadata": {},
   "source": [
    "# COGS 108 - Data Checkpoint"
   ]
  },
  {
   "cell_type": "markdown",
   "metadata": {},
   "source": [
    "# Names\n",
    "\n",
    "- Marco Paredes (A15951023)\n",
    "- Alan Hang (A16409702)\n",
    "- Zehong Li (A15852954)\n",
    "- Danyal Iqbal (A16687740)"
   ]
  },
  {
   "cell_type": "markdown",
   "metadata": {},
   "source": [
    "<a id='research_question'></a>\n",
    "# Research Question"
   ]
  },
  {
   "cell_type": "markdown",
   "metadata": {},
   "source": [
    "*Are covid cases a good predictor of the price of cryptocurrency?*"
   ]
  },
  {
   "cell_type": "markdown",
   "metadata": {},
   "source": [
    "# Dataset(s)"
   ]
  },
  {
   "cell_type": "markdown",
   "metadata": {},
   "source": [
    "- Dataset Name: Daily Ethereum(ETH) data\n",
    "- Link to the dataset: https://raw.githubusercontent.com/alhang/csv-files/master/gemini_ETHUSD_day.csv\n",
    "- Number of observations: ~700\n",
    "- Description: Daily Ethereum(ETH) data will be used to see daily Bitcoin trends between 2019-2021. The data will indicate changes of the respective stock prices through the year\n",
    "\n",
    "\n",
    "- Dataset Name: Daily Bitcoin(BTC) data\n",
    "- Link to the dataset: https://raw.githubusercontent.com/alhang/csv-files/master/gemini_BTCUSD_day.csv\n",
    "- Number of observations: ~700\n",
    "- Description: Daily Bitcoin data will be used to see crypto trends between 2019-2021. The data will indicate changes of the respective stock prices through the year\n",
    "\n",
    "\n",
    "- Dataset Name: Covid data\n",
    "- Link to the dataset:https://raw.githubusercontent.com/nytimes/covid-19-data/master/us.csv\n",
    "- Number of observations: 1\n",
    "- Description: The Covid data will provide data about covid cases in the US between January 2020 until now.\n",
    "\n",
    "\n",
    "- Dataset Name: NASDAQ Historical data\n",
    "- Link to the dataset: https://raw.githubusercontent.com/alhang/csv-files/master/NASDAQ_Historical.csv\n",
    "- Number of observations: 521\n",
    "- Description: Stock market data from March 2019 to December 2021 will indicate stock prices through the year and their major changes. This dataset will be used to compare with the cryptocurrency prices, as stock prices are a good indicator of the economy and how it is affected during covid. \n",
    "\n"
   ]
  },
  {
   "cell_type": "markdown",
   "metadata": {},
   "source": [
    "# Setup"
   ]
  },
  {
   "cell_type": "code",
   "execution_count": 1,
   "metadata": {},
   "outputs": [],
   "source": [
    "import pandas as pd\n",
    "eth_df_raw = pd.read_csv('https://raw.githubusercontent.com/alhang/csv-files/master/gemini_ETHUSD_day.csv', skiprows=1)\n",
    "btc_df_raw = pd.read_csv('https://raw.githubusercontent.com/alhang/csv-files/master/gemini_BTCUSD_day.csv', skiprows=1)\n",
    "covid_df_raw = pd.read_csv('https://raw.githubusercontent.com/nytimes/covid-19-data/master/us.csv')\n",
    "nasdaq_df_raw = pd.read_csv('https://raw.githubusercontent.com/alhang/csv-files/master/NASDAQ_Historical.csv')"
   ]
  },
  {
   "cell_type": "markdown",
   "metadata": {},
   "source": [
    "# Data Cleaning"
   ]
  },
  {
   "cell_type": "markdown",
   "metadata": {},
   "source": [
    "We clean the Ethereum data to only have the date and the closing price from January 21, 2021 to now. We also need to reverse the index order."
   ]
  },
  {
   "cell_type": "code",
   "execution_count": 2,
   "metadata": {},
   "outputs": [
    {
     "data": {
      "text/html": [
       "<div>\n",
       "<style scoped>\n",
       "    .dataframe tbody tr th:only-of-type {\n",
       "        vertical-align: middle;\n",
       "    }\n",
       "\n",
       "    .dataframe tbody tr th {\n",
       "        vertical-align: top;\n",
       "    }\n",
       "\n",
       "    .dataframe thead th {\n",
       "        text-align: right;\n",
       "    }\n",
       "</style>\n",
       "<table border=\"1\" class=\"dataframe\">\n",
       "  <thead>\n",
       "    <tr style=\"text-align: right;\">\n",
       "      <th></th>\n",
       "      <th>Date</th>\n",
       "      <th>Close</th>\n",
       "    </tr>\n",
       "  </thead>\n",
       "  <tbody>\n",
       "    <tr>\n",
       "      <th>0</th>\n",
       "      <td>2020-01-21 04:00:00</td>\n",
       "      <td>168.40</td>\n",
       "    </tr>\n",
       "    <tr>\n",
       "      <th>1</th>\n",
       "      <td>2020-01-22 04:00:00</td>\n",
       "      <td>164.86</td>\n",
       "    </tr>\n",
       "    <tr>\n",
       "      <th>2</th>\n",
       "      <td>2020-01-23 04:00:00</td>\n",
       "      <td>159.13</td>\n",
       "    </tr>\n",
       "    <tr>\n",
       "      <th>3</th>\n",
       "      <td>2020-01-24 04:00:00</td>\n",
       "      <td>158.89</td>\n",
       "    </tr>\n",
       "    <tr>\n",
       "      <th>4</th>\n",
       "      <td>2020-01-25 04:00:00</td>\n",
       "      <td>161.18</td>\n",
       "    </tr>\n",
       "    <tr>\n",
       "      <th>...</th>\n",
       "      <td>...</td>\n",
       "      <td>...</td>\n",
       "    </tr>\n",
       "    <tr>\n",
       "      <th>744</th>\n",
       "      <td>2022-02-03 04:00:00</td>\n",
       "      <td>2685.66</td>\n",
       "    </tr>\n",
       "    <tr>\n",
       "      <th>745</th>\n",
       "      <td>2022-02-04 04:00:00</td>\n",
       "      <td>3000.46</td>\n",
       "    </tr>\n",
       "    <tr>\n",
       "      <th>746</th>\n",
       "      <td>2022-02-05 04:00:00</td>\n",
       "      <td>3011.36</td>\n",
       "    </tr>\n",
       "    <tr>\n",
       "      <th>747</th>\n",
       "      <td>2022-02-06 04:00:00</td>\n",
       "      <td>3072.90</td>\n",
       "    </tr>\n",
       "    <tr>\n",
       "      <th>748</th>\n",
       "      <td>2022-02-07 04:00:00</td>\n",
       "      <td>3134.06</td>\n",
       "    </tr>\n",
       "  </tbody>\n",
       "</table>\n",
       "<p>749 rows × 2 columns</p>\n",
       "</div>"
      ],
      "text/plain": [
       "                    Date    Close\n",
       "0    2020-01-21 04:00:00   168.40\n",
       "1    2020-01-22 04:00:00   164.86\n",
       "2    2020-01-23 04:00:00   159.13\n",
       "3    2020-01-24 04:00:00   158.89\n",
       "4    2020-01-25 04:00:00   161.18\n",
       "..                   ...      ...\n",
       "744  2022-02-03 04:00:00  2685.66\n",
       "745  2022-02-04 04:00:00  3000.46\n",
       "746  2022-02-05 04:00:00  3011.36\n",
       "747  2022-02-06 04:00:00  3072.90\n",
       "748  2022-02-07 04:00:00  3134.06\n",
       "\n",
       "[749 rows x 2 columns]"
      ]
     },
     "execution_count": 2,
     "metadata": {},
     "output_type": "execute_result"
    }
   ],
   "source": [
    "eth_df = eth_df_raw.iloc[:749]\n",
    "eth_df = eth_df.sort_values(by=['Date'], ascending=True)\n",
    "eth_df = eth_df.reset_index()\n",
    "eth_df = eth_df.drop(columns=['Unix Timestamp','Symbol','Open','High','Low','Volume','index'])\n",
    "eth_df"
   ]
  },
  {
   "cell_type": "markdown",
   "metadata": {},
   "source": [
    "We clean the Bitcoin data to only have the date and the closing price from January 21, 2021 to now. We also need to reverse the index order."
   ]
  },
  {
   "cell_type": "code",
   "execution_count": 3,
   "metadata": {},
   "outputs": [
    {
     "data": {
      "text/html": [
       "<div>\n",
       "<style scoped>\n",
       "    .dataframe tbody tr th:only-of-type {\n",
       "        vertical-align: middle;\n",
       "    }\n",
       "\n",
       "    .dataframe tbody tr th {\n",
       "        vertical-align: top;\n",
       "    }\n",
       "\n",
       "    .dataframe thead th {\n",
       "        text-align: right;\n",
       "    }\n",
       "</style>\n",
       "<table border=\"1\" class=\"dataframe\">\n",
       "  <thead>\n",
       "    <tr style=\"text-align: right;\">\n",
       "      <th></th>\n",
       "      <th>Date</th>\n",
       "      <th>Close</th>\n",
       "    </tr>\n",
       "  </thead>\n",
       "  <tbody>\n",
       "    <tr>\n",
       "      <th>0</th>\n",
       "      <td>2020-01-21 04:00:00</td>\n",
       "      <td>8697.93</td>\n",
       "    </tr>\n",
       "    <tr>\n",
       "      <th>1</th>\n",
       "      <td>2020-01-22 04:00:00</td>\n",
       "      <td>8559.71</td>\n",
       "    </tr>\n",
       "    <tr>\n",
       "      <th>2</th>\n",
       "      <td>2020-01-23 04:00:00</td>\n",
       "      <td>8310.20</td>\n",
       "    </tr>\n",
       "    <tr>\n",
       "      <th>3</th>\n",
       "      <td>2020-01-24 04:00:00</td>\n",
       "      <td>8286.66</td>\n",
       "    </tr>\n",
       "    <tr>\n",
       "      <th>4</th>\n",
       "      <td>2020-01-25 04:00:00</td>\n",
       "      <td>8346.01</td>\n",
       "    </tr>\n",
       "    <tr>\n",
       "      <th>...</th>\n",
       "      <td>...</td>\n",
       "      <td>...</td>\n",
       "    </tr>\n",
       "    <tr>\n",
       "      <th>744</th>\n",
       "      <td>2022-02-03 04:00:00</td>\n",
       "      <td>37330.90</td>\n",
       "    </tr>\n",
       "    <tr>\n",
       "      <th>745</th>\n",
       "      <td>2022-02-04 04:00:00</td>\n",
       "      <td>41487.51</td>\n",
       "    </tr>\n",
       "    <tr>\n",
       "      <th>746</th>\n",
       "      <td>2022-02-05 04:00:00</td>\n",
       "      <td>41485.00</td>\n",
       "    </tr>\n",
       "    <tr>\n",
       "      <th>747</th>\n",
       "      <td>2022-02-06 04:00:00</td>\n",
       "      <td>42863.79</td>\n",
       "    </tr>\n",
       "    <tr>\n",
       "      <th>748</th>\n",
       "      <td>2022-02-07 04:00:00</td>\n",
       "      <td>43857.45</td>\n",
       "    </tr>\n",
       "  </tbody>\n",
       "</table>\n",
       "<p>749 rows × 2 columns</p>\n",
       "</div>"
      ],
      "text/plain": [
       "                    Date     Close\n",
       "0    2020-01-21 04:00:00   8697.93\n",
       "1    2020-01-22 04:00:00   8559.71\n",
       "2    2020-01-23 04:00:00   8310.20\n",
       "3    2020-01-24 04:00:00   8286.66\n",
       "4    2020-01-25 04:00:00   8346.01\n",
       "..                   ...       ...\n",
       "744  2022-02-03 04:00:00  37330.90\n",
       "745  2022-02-04 04:00:00  41487.51\n",
       "746  2022-02-05 04:00:00  41485.00\n",
       "747  2022-02-06 04:00:00  42863.79\n",
       "748  2022-02-07 04:00:00  43857.45\n",
       "\n",
       "[749 rows x 2 columns]"
      ]
     },
     "execution_count": 3,
     "metadata": {},
     "output_type": "execute_result"
    }
   ],
   "source": [
    "btc_df = btc_df_raw.iloc[:749]\n",
    "btc_df = btc_df.sort_values(by=['Date'], ascending=True)\n",
    "btc_df = btc_df.reset_index()\n",
    "btc_df = btc_df.drop(columns=['Unix Timestamp','Symbol','Open','High','Low','Volume','index'])\n",
    "btc_df"
   ]
  },
  {
   "cell_type": "markdown",
   "metadata": {},
   "source": [
    "We clean the covid dataset to only have the date and cases and reverse the order of the indices."
   ]
  },
  {
   "cell_type": "code",
   "execution_count": 4,
   "metadata": {},
   "outputs": [
    {
     "data": {
      "text/html": [
       "<div>\n",
       "<style scoped>\n",
       "    .dataframe tbody tr th:only-of-type {\n",
       "        vertical-align: middle;\n",
       "    }\n",
       "\n",
       "    .dataframe tbody tr th {\n",
       "        vertical-align: top;\n",
       "    }\n",
       "\n",
       "    .dataframe thead th {\n",
       "        text-align: right;\n",
       "    }\n",
       "</style>\n",
       "<table border=\"1\" class=\"dataframe\">\n",
       "  <thead>\n",
       "    <tr style=\"text-align: right;\">\n",
       "      <th></th>\n",
       "      <th>date</th>\n",
       "      <th>cases</th>\n",
       "    </tr>\n",
       "  </thead>\n",
       "  <tbody>\n",
       "    <tr>\n",
       "      <th>0</th>\n",
       "      <td>2020-01-21</td>\n",
       "      <td>1</td>\n",
       "    </tr>\n",
       "    <tr>\n",
       "      <th>1</th>\n",
       "      <td>2020-01-22</td>\n",
       "      <td>1</td>\n",
       "    </tr>\n",
       "    <tr>\n",
       "      <th>2</th>\n",
       "      <td>2020-01-23</td>\n",
       "      <td>1</td>\n",
       "    </tr>\n",
       "    <tr>\n",
       "      <th>3</th>\n",
       "      <td>2020-01-24</td>\n",
       "      <td>2</td>\n",
       "    </tr>\n",
       "    <tr>\n",
       "      <th>4</th>\n",
       "      <td>2020-01-25</td>\n",
       "      <td>3</td>\n",
       "    </tr>\n",
       "    <tr>\n",
       "      <th>...</th>\n",
       "      <td>...</td>\n",
       "      <td>...</td>\n",
       "    </tr>\n",
       "    <tr>\n",
       "      <th>747</th>\n",
       "      <td>2022-02-06</td>\n",
       "      <td>76419014</td>\n",
       "    </tr>\n",
       "    <tr>\n",
       "      <th>748</th>\n",
       "      <td>2022-02-07</td>\n",
       "      <td>76767122</td>\n",
       "    </tr>\n",
       "    <tr>\n",
       "      <th>749</th>\n",
       "      <td>2022-02-08</td>\n",
       "      <td>76961614</td>\n",
       "    </tr>\n",
       "    <tr>\n",
       "      <th>750</th>\n",
       "      <td>2022-02-09</td>\n",
       "      <td>77188002</td>\n",
       "    </tr>\n",
       "    <tr>\n",
       "      <th>751</th>\n",
       "      <td>2022-02-10</td>\n",
       "      <td>77361505</td>\n",
       "    </tr>\n",
       "  </tbody>\n",
       "</table>\n",
       "<p>752 rows × 2 columns</p>\n",
       "</div>"
      ],
      "text/plain": [
       "           date     cases\n",
       "0    2020-01-21         1\n",
       "1    2020-01-22         1\n",
       "2    2020-01-23         1\n",
       "3    2020-01-24         2\n",
       "4    2020-01-25         3\n",
       "..          ...       ...\n",
       "747  2022-02-06  76419014\n",
       "748  2022-02-07  76767122\n",
       "749  2022-02-08  76961614\n",
       "750  2022-02-09  77188002\n",
       "751  2022-02-10  77361505\n",
       "\n",
       "[752 rows x 2 columns]"
      ]
     },
     "execution_count": 4,
     "metadata": {},
     "output_type": "execute_result"
    }
   ],
   "source": [
    "covid_df = covid_df_raw.drop(columns=['deaths'])\n",
    "covid_df"
   ]
  },
  {
   "cell_type": "markdown",
   "metadata": {},
   "source": [
    "We clean the Nasdaq data to only include the date and the closing price from January 21, 2021 to now. We also need to reverse the index order and change the date from MM/DD/YY format to YY/MM/DD format."
   ]
  },
  {
   "cell_type": "code",
   "execution_count": 5,
   "metadata": {},
   "outputs": [
    {
     "data": {
      "text/html": [
       "<div>\n",
       "<style scoped>\n",
       "    .dataframe tbody tr th:only-of-type {\n",
       "        vertical-align: middle;\n",
       "    }\n",
       "\n",
       "    .dataframe tbody tr th {\n",
       "        vertical-align: top;\n",
       "    }\n",
       "\n",
       "    .dataframe thead th {\n",
       "        text-align: right;\n",
       "    }\n",
       "</style>\n",
       "<table border=\"1\" class=\"dataframe\">\n",
       "  <thead>\n",
       "    <tr style=\"text-align: right;\">\n",
       "      <th></th>\n",
       "      <th>Date</th>\n",
       "      <th>Close/Last</th>\n",
       "    </tr>\n",
       "  </thead>\n",
       "  <tbody>\n",
       "    <tr>\n",
       "      <th>0</th>\n",
       "      <td>2020-01-21</td>\n",
       "      <td>9370.81</td>\n",
       "    </tr>\n",
       "    <tr>\n",
       "      <th>1</th>\n",
       "      <td>2020-01-22</td>\n",
       "      <td>9383.77</td>\n",
       "    </tr>\n",
       "    <tr>\n",
       "      <th>2</th>\n",
       "      <td>2020-01-23</td>\n",
       "      <td>9402.48</td>\n",
       "    </tr>\n",
       "    <tr>\n",
       "      <th>3</th>\n",
       "      <td>2020-01-24</td>\n",
       "      <td>9314.91</td>\n",
       "    </tr>\n",
       "    <tr>\n",
       "      <th>4</th>\n",
       "      <td>2020-01-27</td>\n",
       "      <td>9139.31</td>\n",
       "    </tr>\n",
       "    <tr>\n",
       "      <th>...</th>\n",
       "      <td>...</td>\n",
       "      <td>...</td>\n",
       "    </tr>\n",
       "    <tr>\n",
       "      <th>516</th>\n",
       "      <td>2022-02-04</td>\n",
       "      <td>14098.01</td>\n",
       "    </tr>\n",
       "    <tr>\n",
       "      <th>517</th>\n",
       "      <td>2022-02-07</td>\n",
       "      <td>14015.67</td>\n",
       "    </tr>\n",
       "    <tr>\n",
       "      <th>518</th>\n",
       "      <td>2022-02-08</td>\n",
       "      <td>14194.45</td>\n",
       "    </tr>\n",
       "    <tr>\n",
       "      <th>519</th>\n",
       "      <td>2022-02-09</td>\n",
       "      <td>14490.37</td>\n",
       "    </tr>\n",
       "    <tr>\n",
       "      <th>520</th>\n",
       "      <td>2022-02-10</td>\n",
       "      <td>14185.64</td>\n",
       "    </tr>\n",
       "  </tbody>\n",
       "</table>\n",
       "<p>521 rows × 2 columns</p>\n",
       "</div>"
      ],
      "text/plain": [
       "          Date  Close/Last\n",
       "0   2020-01-21     9370.81\n",
       "1   2020-01-22     9383.77\n",
       "2   2020-01-23     9402.48\n",
       "3   2020-01-24     9314.91\n",
       "4   2020-01-27     9139.31\n",
       "..         ...         ...\n",
       "516 2022-02-04    14098.01\n",
       "517 2022-02-07    14015.67\n",
       "518 2022-02-08    14194.45\n",
       "519 2022-02-09    14490.37\n",
       "520 2022-02-10    14185.64\n",
       "\n",
       "[521 rows x 2 columns]"
      ]
     },
     "execution_count": 5,
     "metadata": {},
     "output_type": "execute_result"
    }
   ],
   "source": [
    "nasdaq_df_raw['Date'] = pd.to_datetime(nasdaq_df_raw.Date)\n",
    "nasdaq_df = nasdaq_df_raw.iloc[:521]\n",
    "nasdaq_df = nasdaq_df.sort_values(by=['Date'], ascending=True)\n",
    "nasdaq_df = nasdaq_df.reset_index()\n",
    "nasdaq_df = nasdaq_df.drop(columns=['Volume','Open','High','Low','index'])\n",
    "nasdaq_df"
   ]
  },
  {
   "cell_type": "markdown",
   "metadata": {},
   "source": [
    "To check for missing values in all datasets, we run:"
   ]
  },
  {
   "cell_type": "code",
   "execution_count": 6,
   "metadata": {},
   "outputs": [
    {
     "data": {
      "text/plain": [
       "False"
      ]
     },
     "execution_count": 6,
     "metadata": {},
     "output_type": "execute_result"
    }
   ],
   "source": [
    "eth_df.isnull().values.any()"
   ]
  },
  {
   "cell_type": "code",
   "execution_count": 7,
   "metadata": {},
   "outputs": [
    {
     "data": {
      "text/plain": [
       "False"
      ]
     },
     "execution_count": 7,
     "metadata": {},
     "output_type": "execute_result"
    }
   ],
   "source": [
    "btc_df.isnull().values.any()"
   ]
  },
  {
   "cell_type": "code",
   "execution_count": 8,
   "metadata": {},
   "outputs": [
    {
     "data": {
      "text/plain": [
       "False"
      ]
     },
     "execution_count": 8,
     "metadata": {},
     "output_type": "execute_result"
    }
   ],
   "source": [
    "covid_df.isnull().values.any()"
   ]
  },
  {
   "cell_type": "code",
   "execution_count": 9,
   "metadata": {},
   "outputs": [
    {
     "data": {
      "text/plain": [
       "False"
      ]
     },
     "execution_count": 9,
     "metadata": {},
     "output_type": "execute_result"
    }
   ],
   "source": [
    "nasdaq_df.isnull().values.any()"
   ]
  },
  {
   "cell_type": "markdown",
   "metadata": {},
   "source": [
    "Now all our datasets are clean and correctly formatted for analysis."
   ]
  }
 ],
 "metadata": {
  "kernelspec": {
   "display_name": "Python 3 (ipykernel)",
   "language": "python",
   "name": "python3"
  },
  "language_info": {
   "codemirror_mode": {
    "name": "ipython",
    "version": 3
   },
   "file_extension": ".py",
   "mimetype": "text/x-python",
   "name": "python",
   "nbconvert_exporter": "python",
   "pygments_lexer": "ipython3",
   "version": "3.9.7"
  }
 },
 "nbformat": 4,
 "nbformat_minor": 2
}
